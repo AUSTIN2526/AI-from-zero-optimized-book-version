{
 "cells": [
  {
   "cell_type": "markdown",
   "metadata": {},
   "source": [
    "# 模型輸入與權重"
   ]
  },
  {
   "cell_type": "markdown",
   "metadata": {},
   "source": [
    "# "
   ]
  },
  {
   "cell_type": "code",
   "execution_count": 1,
   "metadata": {},
   "outputs": [
    {
     "name": "stdout",
     "output_type": "stream",
     "text": [
      "輸入(x)的Shape: (4, 2)\n",
      "權重(w)的Shape: (2,)\n"
     ]
    }
   ],
   "source": [
    "import numpy as np\n",
    "\n",
    "# AND gate 的輸入資料（4組）\n",
    "X = np.array([\n",
    "    [0, 0],\n",
    "    [0, 1],\n",
    "    [1, 0],\n",
    "    [1, 1]\n",
    "])\n",
    "\n",
    "# 權重 w，偏差 b\n",
    "w = np.array([5.0, 5.0])\n",
    "b = -7.0\n",
    "print('輸入(x)的Shape:', X.shape)\n",
    "print('權重(w)的Shape:', w.shape)"
   ]
  },
  {
   "cell_type": "markdown",
   "metadata": {},
   "source": [
    "# 模型前向傳播"
   ]
  },
  {
   "cell_type": "code",
   "execution_count": 2,
   "metadata": {},
   "outputs": [
    {
     "name": "stdout",
     "output_type": "stream",
     "text": [
      "Input: [0 0] => f(z): 0.0009\n",
      "Input: [0 1] => f(z): 0.1192\n",
      "Input: [1 0] => f(z): 0.1192\n",
      "Input: [1 1] => f(z): 0.9526\n"
     ]
    }
   ],
   "source": [
    "# 定義 sigmoid 函數\n",
    "def sigmoid(x):\n",
    "    return 1 / (1 + np.exp(-x))\n",
    "\n",
    "# 計算 z = X·w + b\n",
    "z = np.dot(X, w) + b\n",
    "# 輸出\n",
    "output = sigmoid(z)\n",
    "\n",
    "# 顯示結果\n",
    "for i in range(len(X)):\n",
    "    print(f\"Input: {X[i]} => f(z): {output[i]:.4f}\")\n"
   ]
  }
 ],
 "metadata": {
  "kernelspec": {
   "display_name": "Python 3",
   "language": "python",
   "name": "python3"
  },
  "language_info": {
   "codemirror_mode": {
    "name": "ipython",
    "version": 3
   },
   "file_extension": ".py",
   "mimetype": "text/x-python",
   "name": "python",
   "nbconvert_exporter": "python",
   "pygments_lexer": "ipython3",
   "version": "3.10.7"
  }
 },
 "nbformat": 4,
 "nbformat_minor": 2
}
