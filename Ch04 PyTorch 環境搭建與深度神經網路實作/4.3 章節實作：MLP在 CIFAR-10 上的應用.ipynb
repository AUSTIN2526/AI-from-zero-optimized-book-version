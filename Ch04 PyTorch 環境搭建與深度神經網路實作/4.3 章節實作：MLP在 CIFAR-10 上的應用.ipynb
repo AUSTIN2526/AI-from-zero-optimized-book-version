{
 "cells": [
  {
   "cell_type": "markdown",
   "metadata": {},
   "source": [
    "# 固定亂數確保每次執行結果相同"
   ]
  },
  {
   "cell_type": "code",
   "execution_count": 1,
   "metadata": {},
   "outputs": [],
   "source": [
    "import torch \n",
    "import numpy as np \n",
    "import random \n",
    "\n",
    "def same_seeds(seed):\n",
    "    random.seed(seed) \n",
    "    np.random.seed(seed)  \n",
    "    torch.manual_seed(seed)\n",
    "    if torch.cuda.is_available():\n",
    "        torch.cuda.manual_seed(seed)\n",
    "        torch.cuda.manual_seed_all(seed) \n",
    "    torch.backends.cudnn.benchmark = False\n",
    "    torch.backends.cudnn.deterministic = True\n",
    "    \n",
    "same_seeds(2526)"
   ]
  },
  {
   "cell_type": "code",
   "execution_count": null,
   "metadata": {},
   "outputs": [
    {
     "name": "stderr",
     "output_type": "stream",
     "text": [
      "Loading Train/Airplane: 100%|██████████| 5000/5000 [00:01<00:00, 3746.54it/s]\n",
      "Loading Train/Bird: 100%|██████████| 5000/5000 [00:01<00:00, 4153.21it/s]\n",
      "Loading Train/Car: 100%|██████████| 5000/5000 [00:01<00:00, 4302.10it/s]\n",
      "Loading Train/Cat: 100%|██████████| 5000/5000 [00:01<00:00, 4268.91it/s]\n",
      "Loading Train/Deer: 100%|██████████| 5000/5000 [00:01<00:00, 4134.66it/s]\n",
      "Loading Train/Dog: 100%|██████████| 5000/5000 [00:01<00:00, 4205.82it/s]\n",
      "Loading Train/Frog: 100%|██████████| 5000/5000 [00:01<00:00, 4045.93it/s]\n",
      "Loading Train/Horse: 100%|██████████| 5000/5000 [00:01<00:00, 4034.49it/s]\n",
      "Loading Train/Ship: 100%|██████████| 5000/5000 [00:01<00:00, 4069.09it/s]\n",
      "Loading Train/Truck: 100%|██████████| 5000/5000 [00:01<00:00, 4037.73it/s]\n",
      "Loading Valid/Airplane: 100%|██████████| 1000/1000 [00:00<00:00, 3621.62it/s]\n",
      "Loading Valid/Bird: 100%|██████████| 1000/1000 [00:00<00:00, 4153.89it/s]\n",
      "Loading Valid/Car: 100%|██████████| 1000/1000 [00:00<00:00, 4236.74it/s]\n",
      "Loading Valid/Cat: 100%|██████████| 1000/1000 [00:00<00:00, 4205.64it/s]\n",
      "Loading Valid/Deer: 100%|██████████| 1000/1000 [00:00<00:00, 4465.74it/s]\n",
      "Loading Valid/Dog: 100%|██████████| 1000/1000 [00:00<00:00, 4290.83it/s]\n",
      "Loading Valid/Frog: 100%|██████████| 1000/1000 [00:00<00:00, 4402.28it/s]\n",
      "Loading Valid/Horse: 100%|██████████| 1000/1000 [00:00<00:00, 4289.50it/s]\n",
      "Loading Valid/Ship: 100%|██████████| 1000/1000 [00:00<00:00, 4410.27it/s]\n",
      "Loading Valid/Truck: 100%|██████████| 1000/1000 [00:00<00:00, 4082.04it/s]\n"
     ]
    }
   ],
   "source": [
    "import os, cv2\n",
    "from tqdm import tqdm\n",
    "\n",
    "def load_images_and_labels(root='Image'):\n",
    "    encode, decode = {}, {}\n",
    "    x_train, y_train, x_valid, y_valid = [], [], [], []\n",
    "\n",
    "    for idx, cls in enumerate(os.listdir(f'{root}/Train')):\n",
    "        encode[cls] = idx\n",
    "        decode[idx] = cls                  # 雙向對照表\n",
    "\n",
    "    for split in ['Train', 'Valid']:\n",
    "        for cls in os.listdir(f'{root}/{split}'):\n",
    "            path = f'{root}/{split}/{cls}'\n",
    "            for fname in tqdm(os.listdir(path), desc=f'Loading {split}/{cls}'):\n",
    "                img = cv2.imread(f'{path}/{fname}').astype(\"float32\")\n",
    "                if img is None:  # 避免讀檔失敗\n",
    "                    continue\n",
    "                img = cv2.cvtColor(img, cv2.COLOR_BGR2GRAY)  / 255\n",
    "                (x_train if split == 'Train' else x_valid).append(img)\n",
    "                (y_train if split == 'Train' else y_valid).append(encode[cls])\n",
    "    return x_train, y_train, x_valid, y_valid, encode, decode\n",
    "\n",
    "\n",
    "x_train, y_train, x_valid, y_valid, label_encoding, label_decoding = load_images_and_labels('Image')"
   ]
  },
  {
   "cell_type": "code",
   "execution_count": 3,
   "metadata": {},
   "outputs": [
    {
     "name": "stdout",
     "output_type": "stream",
     "text": [
      "x_train shape: (50000, 32, 32)\n"
     ]
    },
    {
     "data": {
      "image/png": "[encoded data removed]",
      "text/plain": [
       "<Figure size 1500x500 with 5 Axes>"
      ]
     },
     "metadata": {},
     "output_type": "display_data"
    }
   ],
   "source": [
    "import matplotlib.pyplot as plt\n",
    "\n",
    "def show_images(images, labels, label_decoding, num_images=5):\n",
    "    plt.figure(figsize=(15, 5))\n",
    "    for i in range(min(num_images, len(images))):  # 顯示指定數量的圖片\n",
    "        img = images[i]\n",
    "        label = labels[i]\n",
    "        class_name = label_decoding[label]\n",
    "        plt.subplot(1, num_images, i + 1)\n",
    "        plt.imshow(img, cmap='gray')  # 指定灰階顯示\n",
    "        plt.title(class_name)\n",
    "        plt.axis('off')\n",
    "    plt.tight_layout()\n",
    "    plt.show()\n",
    "\n",
    "print('x_train shape:', np.array(x_train).shape)\n",
    "show_images(x_train, y_train, label_decoding, num_images=5)"
   ]
  },
  {
   "cell_type": "markdown",
   "metadata": {},
   "source": [
    "# 亂數模擬資料"
   ]
  },
  {
   "cell_type": "code",
   "execution_count": 4,
   "metadata": {},
   "outputs": [
    {
     "name": "stdout",
     "output_type": "stream",
     "text": [
      "train batch shape: torch.Size([64, 32, 32])\n"
     ]
    }
   ],
   "source": [
    "from torch.utils.data import Dataset, DataLoader\n",
    "\n",
    "class CIFAR10(Dataset):\n",
    "    def __init__(self, x, y):  \n",
    "        self.x = x\n",
    "        self.y = y\n",
    "    def __len__(self):         \n",
    "        return len(self.x)\n",
    "    def __getitem__(self, i):  \n",
    "        return self.x[i], self.y[i]\n",
    "\n",
    "def collate_fn(batch):\n",
    "    imgs, labels = [], []\n",
    "    for img, lab in batch:\n",
    "        img = torch.from_numpy(img)\n",
    "        if random.random() < 0.5:               # 50% 機率水平翻轉\n",
    "            img = torch.flip(img, dims=[1])\n",
    "        imgs.append(img)\n",
    "        labels.append(lab)\n",
    "    return {'x': torch.stack(imgs), 'y': torch.tensor(labels)}\n",
    "\n",
    "\n",
    "trainset = CIFAR10(x_train, y_train)\n",
    "validset = CIFAR10(x_valid, y_valid)\n",
    "\n",
    "train_loader = DataLoader(trainset, batch_size = 64, shuffle = True, num_workers = 0, pin_memory = True, collate_fn = collate_fn)\n",
    "valid_loader = DataLoader(validset, batch_size = 64, shuffle = True, num_workers = 0, pin_memory = True, collate_fn = collate_fn)\n",
    "\n",
    "batch = next(iter(train_loader))\n",
    "print('train batch shape:', batch['x'].shape)"
   ]
  },
  {
   "cell_type": "code",
   "execution_count": 5,
   "metadata": {},
   "outputs": [],
   "source": [
    "import torch.nn as nn\n",
    "\n",
    "class DNN(nn.Module):\n",
    "    def __init__(self, hidden_layers=5, input_dim=32*32,\n",
    "                 hidden_dim=1024, output_dim=10, dropout=0.5):\n",
    "        super().__init__()\n",
    "        layers = []\n",
    "        for _ in range(hidden_layers):\n",
    "            layers += [nn.Linear(input_dim, hidden_dim),\n",
    "                       nn.BatchNorm1d(hidden_dim),\n",
    "                       nn.ReLU(), nn.Dropout(dropout)]\n",
    "            input_dim, hidden_dim = hidden_dim, max(hidden_dim // 2, 128)\n",
    "        layers.append(nn.Linear(input_dim, output_dim))\n",
    "        self.layers = nn.Sequential(*layers)\n",
    "        self.criterion = nn.CrossEntropyLoss()\n",
    "\n",
    "    def forward(self, **kwargs):\n",
    "        x = kwargs['x']\n",
    "        x = x.view(x.size(0), -1)   # Flatten: (B,32,32) → (B,1024)\n",
    "        logits = self.layers(x)\n",
    "        loss = self.criterion(logits, kwargs['y'])\n",
    "        return loss, logits\n",
    "\n",
    "    @torch.no_grad()\n",
    "    def predict(self, **kwargs):\n",
    "        self.eval()\n",
    "        x = kwargs['x']\n",
    "        x = x.view(x.size(0), -1)\n",
    "        return torch.argmax(self.layers(x), dim=1).cpu().numpy()\n",
    "\n",
    "model = DNN(\n",
    "    hidden_layers = 5, \n",
    "    input_dim = 32*32, \n",
    "    hidden_dim = 1024, \n",
    "    output_dim = 10, \n",
    "    dropout = 0.5\n",
    ")\n"
   ]
  },
  {
   "cell_type": "code",
   "execution_count": null,
   "metadata": {},
   "outputs": [
    {
     "name": "stdout",
     "output_type": "stream",
     "text": [
      "Using device: cuda\n"
     ]
    },
    {
     "name": "stderr",
     "output_type": "stream",
     "text": [
      "Train Epoch 0: 100%|██████████| 782/782 [00:05<00:00, 146.43it/s, loss=2.020]\n",
      "Valid Epoch 0: 100%|██████████| 157/157 [00:00<00:00, 296.15it/s, loss=2.047]\n"
     ]
    },
    {
     "name": "stdout",
     "output_type": "stream",
     "text": [
      "Saving Model With Loss 1.87854\n",
      "Train Loss: 2.09205| Valid Loss: 1.87854| Best Loss: 1.87854\n",
      "\n"
     ]
    },
    {
     "name": "stderr",
     "output_type": "stream",
     "text": [
      "Train Epoch 1: 100%|██████████| 782/782 [00:05<00:00, 146.87it/s, loss=1.712]\n",
      "Valid Epoch 1: 100%|██████████| 157/157 [00:00<00:00, 283.81it/s, loss=1.941]\n"
     ]
    },
    {
     "name": "stdout",
     "output_type": "stream",
     "text": [
      "Saving Model With Loss 1.83129\n",
      "Train Loss: 1.93941| Valid Loss: 1.83129| Best Loss: 1.83129\n",
      "\n"
     ]
    },
    {
     "name": "stderr",
     "output_type": "stream",
     "text": [
      "Train Epoch 2: 100%|██████████| 782/782 [00:05<00:00, 144.00it/s, loss=2.427]\n",
      "Valid Epoch 2: 100%|██████████| 157/157 [00:00<00:00, 266.14it/s, loss=1.620]\n"
     ]
    },
    {
     "name": "stdout",
     "output_type": "stream",
     "text": [
      "Saving Model With Loss 1.76044\n",
      "Train Loss: 1.88173| Valid Loss: 1.76044| Best Loss: 1.76044\n",
      "\n"
     ]
    },
    {
     "name": "stderr",
     "output_type": "stream",
     "text": [
      "Train Epoch 3: 100%|██████████| 782/782 [00:06<00:00, 121.64it/s, loss=1.921]\n",
      "Valid Epoch 3: 100%|██████████| 157/157 [00:00<00:00, 228.70it/s, loss=1.873]\n"
     ]
    },
    {
     "name": "stdout",
     "output_type": "stream",
     "text": [
      "Saving Model With Loss 1.74128\n",
      "Train Loss: 1.84147| Valid Loss: 1.74128| Best Loss: 1.74128\n",
      "\n"
     ]
    },
    {
     "name": "stderr",
     "output_type": "stream",
     "text": [
      "Train Epoch 4: 100%|██████████| 782/782 [00:06<00:00, 123.33it/s, loss=1.630]\n",
      "Valid Epoch 4: 100%|██████████| 157/157 [00:00<00:00, 244.98it/s, loss=1.261]\n"
     ]
    },
    {
     "name": "stdout",
     "output_type": "stream",
     "text": [
      "Saving Model With Loss 1.70156\n",
      "Train Loss: 1.81245| Valid Loss: 1.70156| Best Loss: 1.70156\n",
      "\n"
     ]
    },
    {
     "name": "stderr",
     "output_type": "stream",
     "text": [
      "Train Epoch 5: 100%|██████████| 782/782 [00:06<00:00, 117.95it/s, loss=1.815]\n",
      "Valid Epoch 5: 100%|██████████| 157/157 [00:00<00:00, 252.06it/s, loss=1.477]\n"
     ]
    },
    {
     "name": "stdout",
     "output_type": "stream",
     "text": [
      "Saving Model With Loss 1.67448\n",
      "Train Loss: 1.78402| Valid Loss: 1.67448| Best Loss: 1.67448\n",
      "\n"
     ]
    },
    {
     "name": "stderr",
     "output_type": "stream",
     "text": [
      "Train Epoch 6: 100%|██████████| 782/782 [00:06<00:00, 128.40it/s, loss=1.903]\n",
      "Valid Epoch 6: 100%|██████████| 157/157 [00:00<00:00, 252.57it/s, loss=1.738]\n"
     ]
    },
    {
     "name": "stdout",
     "output_type": "stream",
     "text": [
      "Saving Model With Loss 1.63777\n",
      "Train Loss: 1.76524| Valid Loss: 1.63777| Best Loss: 1.63777\n",
      "\n"
     ]
    },
    {
     "name": "stderr",
     "output_type": "stream",
     "text": [
      "Train Epoch 7: 100%|██████████| 782/782 [00:06<00:00, 125.73it/s, loss=1.685]\n",
      "Valid Epoch 7: 100%|██████████| 157/157 [00:00<00:00, 265.59it/s, loss=1.285]\n"
     ]
    },
    {
     "name": "stdout",
     "output_type": "stream",
     "text": [
      "Saving Model With Loss 1.62475\n",
      "Train Loss: 1.74233| Valid Loss: 1.62475| Best Loss: 1.62475\n",
      "\n"
     ]
    },
    {
     "name": "stderr",
     "output_type": "stream",
     "text": [
      "Train Epoch 8: 100%|██████████| 782/782 [00:06<00:00, 128.43it/s, loss=1.937]\n",
      "Valid Epoch 8: 100%|██████████| 157/157 [00:00<00:00, 248.61it/s, loss=1.893]\n"
     ]
    },
    {
     "name": "stdout",
     "output_type": "stream",
     "text": [
      "Saving Model With Loss 1.61278\n",
      "Train Loss: 1.73067| Valid Loss: 1.61278| Best Loss: 1.61278\n",
      "\n"
     ]
    },
    {
     "name": "stderr",
     "output_type": "stream",
     "text": [
      "Train Epoch 9: 100%|██████████| 782/782 [00:06<00:00, 127.92it/s, loss=1.766]\n",
      "Valid Epoch 9: 100%|██████████| 157/157 [00:00<00:00, 267.48it/s, loss=1.565]\n"
     ]
    },
    {
     "name": "stdout",
     "output_type": "stream",
     "text": [
      "Train Loss: 1.71428| Valid Loss: 1.65525| Best Loss: 1.61278\n",
      "\n"
     ]
    },
    {
     "name": "stderr",
     "output_type": "stream",
     "text": [
      "Train Epoch 10: 100%|██████████| 782/782 [00:05<00:00, 130.38it/s, loss=1.357]\n",
      "Valid Epoch 10: 100%|██████████| 157/157 [00:00<00:00, 263.02it/s, loss=1.630]\n"
     ]
    },
    {
     "name": "stdout",
     "output_type": "stream",
     "text": [
      "Saving Model With Loss 1.58655\n",
      "Train Loss: 1.69843| Valid Loss: 1.58655| Best Loss: 1.58655\n",
      "\n"
     ]
    },
    {
     "name": "stderr",
     "output_type": "stream",
     "text": [
      "Train Epoch 11: 100%|██████████| 782/782 [00:06<00:00, 128.01it/s, loss=1.741]\n",
      "Valid Epoch 11: 100%|██████████| 157/157 [00:00<00:00, 257.31it/s, loss=1.717]\n"
     ]
    },
    {
     "name": "stdout",
     "output_type": "stream",
     "text": [
      "Saving Model With Loss 1.56829\n",
      "Train Loss: 1.68730| Valid Loss: 1.56829| Best Loss: 1.56829\n",
      "\n"
     ]
    },
    {
     "name": "stderr",
     "output_type": "stream",
     "text": [
      "Train Epoch 12: 100%|██████████| 782/782 [00:06<00:00, 126.05it/s, loss=1.964]\n",
      "Valid Epoch 12: 100%|██████████| 157/157 [00:00<00:00, 231.06it/s, loss=1.900]\n"
     ]
    },
    {
     "name": "stdout",
     "output_type": "stream",
     "text": [
      "Saving Model With Loss 1.56313\n",
      "Train Loss: 1.67422| Valid Loss: 1.56313| Best Loss: 1.56313\n",
      "\n"
     ]
    },
    {
     "name": "stderr",
     "output_type": "stream",
     "text": [
      "Train Epoch 13: 100%|██████████| 782/782 [00:06<00:00, 123.13it/s, loss=1.908]\n",
      "Valid Epoch 13: 100%|██████████| 157/157 [00:00<00:00, 261.13it/s, loss=1.456]\n"
     ]
    },
    {
     "name": "stdout",
     "output_type": "stream",
     "text": [
      "Saving Model With Loss 1.55117\n",
      "Train Loss: 1.66498| Valid Loss: 1.55117| Best Loss: 1.55117\n",
      "\n"
     ]
    },
    {
     "name": "stderr",
     "output_type": "stream",
     "text": [
      "Train Epoch 14: 100%|██████████| 782/782 [00:06<00:00, 128.74it/s, loss=1.823]\n",
      "Valid Epoch 14: 100%|██████████| 157/157 [00:00<00:00, 256.39it/s, loss=1.802]\n"
     ]
    },
    {
     "name": "stdout",
     "output_type": "stream",
     "text": [
      "Train Loss: 1.65165| Valid Loss: 1.56408| Best Loss: 1.55117\n",
      "\n"
     ]
    },
    {
     "name": "stderr",
     "output_type": "stream",
     "text": [
      "Train Epoch 15: 100%|██████████| 782/782 [00:06<00:00, 120.64it/s, loss=1.178]\n",
      "Valid Epoch 15: 100%|██████████| 157/157 [00:00<00:00, 245.37it/s, loss=1.367]\n"
     ]
    },
    {
     "name": "stdout",
     "output_type": "stream",
     "text": [
      "Saving Model With Loss 1.54024\n",
      "Train Loss: 1.64530| Valid Loss: 1.54024| Best Loss: 1.54024\n",
      "\n"
     ]
    },
    {
     "name": "stderr",
     "output_type": "stream",
     "text": [
      "Train Epoch 16: 100%|██████████| 782/782 [00:06<00:00, 122.99it/s, loss=1.664]\n",
      "Valid Epoch 16: 100%|██████████| 157/157 [00:00<00:00, 241.44it/s, loss=1.432]\n"
     ]
    },
    {
     "name": "stdout",
     "output_type": "stream",
     "text": [
      "Saving Model With Loss 1.53756\n",
      "Train Loss: 1.63685| Valid Loss: 1.53756| Best Loss: 1.53756\n",
      "\n"
     ]
    },
    {
     "name": "stderr",
     "output_type": "stream",
     "text": [
      "Train Epoch 17: 100%|██████████| 782/782 [00:06<00:00, 124.56it/s, loss=1.485]\n",
      "Valid Epoch 17: 100%|██████████| 157/157 [00:00<00:00, 246.85it/s, loss=1.457]\n"
     ]
    },
    {
     "name": "stdout",
     "output_type": "stream",
     "text": [
      "Saving Model With Loss 1.53054\n",
      "Train Loss: 1.62464| Valid Loss: 1.53054| Best Loss: 1.53054\n",
      "\n"
     ]
    },
    {
     "name": "stderr",
     "output_type": "stream",
     "text": [
      "Train Epoch 18: 100%|██████████| 782/782 [00:06<00:00, 124.70it/s, loss=2.031]\n",
      "Valid Epoch 18: 100%|██████████| 157/157 [00:00<00:00, 249.58it/s, loss=1.526]\n"
     ]
    },
    {
     "name": "stdout",
     "output_type": "stream",
     "text": [
      "Saving Model With Loss 1.50726\n",
      "Train Loss: 1.62080| Valid Loss: 1.50726| Best Loss: 1.50726\n",
      "\n"
     ]
    },
    {
     "name": "stderr",
     "output_type": "stream",
     "text": [
      "Train Epoch 19: 100%|██████████| 782/782 [00:06<00:00, 123.19it/s, loss=1.498]\n",
      "Valid Epoch 19: 100%|██████████| 157/157 [00:00<00:00, 249.84it/s, loss=1.498]\n"
     ]
    },
    {
     "name": "stdout",
     "output_type": "stream",
     "text": [
      "Train Loss: 1.60745| Valid Loss: 1.51135| Best Loss: 1.50726\n",
      "\n"
     ]
    },
    {
     "name": "stderr",
     "output_type": "stream",
     "text": [
      "Train Epoch 20: 100%|██████████| 782/782 [00:06<00:00, 116.48it/s, loss=1.650]\n",
      "Valid Epoch 20: 100%|██████████| 157/157 [00:00<00:00, 230.86it/s, loss=1.099]\n"
     ]
    },
    {
     "name": "stdout",
     "output_type": "stream",
     "text": [
      "Train Loss: 1.60130| Valid Loss: 1.50828| Best Loss: 1.50726\n",
      "\n"
     ]
    },
    {
     "name": "stderr",
     "output_type": "stream",
     "text": [
      "Train Epoch 21: 100%|██████████| 782/782 [00:06<00:00, 120.48it/s, loss=1.642]\n",
      "Valid Epoch 21: 100%|██████████| 157/157 [00:00<00:00, 231.23it/s, loss=1.724]\n"
     ]
    },
    {
     "name": "stdout",
     "output_type": "stream",
     "text": [
      "Saving Model With Loss 1.50490\n",
      "Train Loss: 1.59266| Valid Loss: 1.50490| Best Loss: 1.50490\n",
      "\n"
     ]
    },
    {
     "name": "stderr",
     "output_type": "stream",
     "text": [
      "Train Epoch 22: 100%|██████████| 782/782 [00:06<00:00, 121.06it/s, loss=1.544]\n",
      "Valid Epoch 22: 100%|██████████| 157/157 [00:00<00:00, 252.66it/s, loss=1.988]\n"
     ]
    },
    {
     "name": "stdout",
     "output_type": "stream",
     "text": [
      "Saving Model With Loss 1.49802\n",
      "Train Loss: 1.58873| Valid Loss: 1.49802| Best Loss: 1.49802\n",
      "\n"
     ]
    },
    {
     "name": "stderr",
     "output_type": "stream",
     "text": [
      "Train Epoch 23: 100%|██████████| 782/782 [00:06<00:00, 119.13it/s, loss=1.528]\n",
      "Valid Epoch 23: 100%|██████████| 157/157 [00:00<00:00, 241.86it/s, loss=1.467]\n"
     ]
    },
    {
     "name": "stdout",
     "output_type": "stream",
     "text": [
      "Saving Model With Loss 1.48692\n",
      "Train Loss: 1.57981| Valid Loss: 1.48692| Best Loss: 1.48692\n",
      "\n"
     ]
    },
    {
     "name": "stderr",
     "output_type": "stream",
     "text": [
      "Train Epoch 24: 100%|██████████| 782/782 [00:06<00:00, 122.50it/s, loss=1.955]\n",
      "Valid Epoch 24: 100%|██████████| 157/157 [00:00<00:00, 214.58it/s, loss=1.857]\n"
     ]
    },
    {
     "name": "stdout",
     "output_type": "stream",
     "text": [
      "Train Loss: 1.57766| Valid Loss: 1.49254| Best Loss: 1.48692\n",
      "\n"
     ]
    },
    {
     "name": "stderr",
     "output_type": "stream",
     "text": [
      "Train Epoch 25: 100%|██████████| 782/782 [00:06<00:00, 125.47it/s, loss=1.778]\n",
      "Valid Epoch 25: 100%|██████████| 157/157 [00:00<00:00, 223.28it/s, loss=1.529]\n"
     ]
    },
    {
     "name": "stdout",
     "output_type": "stream",
     "text": [
      "Saving Model With Loss 1.47699\n",
      "Train Loss: 1.56548| Valid Loss: 1.47699| Best Loss: 1.47699\n",
      "\n"
     ]
    },
    {
     "name": "stderr",
     "output_type": "stream",
     "text": [
      "Train Epoch 26: 100%|██████████| 782/782 [00:05<00:00, 132.93it/s, loss=1.539]\n",
      "Valid Epoch 26: 100%|██████████| 157/157 [00:00<00:00, 252.66it/s, loss=1.553]\n"
     ]
    },
    {
     "name": "stdout",
     "output_type": "stream",
     "text": [
      "Train Loss: 1.55908| Valid Loss: 1.48265| Best Loss: 1.47699\n",
      "\n"
     ]
    },
    {
     "name": "stderr",
     "output_type": "stream",
     "text": [
      "Train Epoch 27: 100%|██████████| 782/782 [00:06<00:00, 125.02it/s, loss=1.479]\n",
      "Valid Epoch 27: 100%|██████████| 157/157 [00:00<00:00, 229.74it/s, loss=1.470]\n"
     ]
    },
    {
     "name": "stdout",
     "output_type": "stream",
     "text": [
      "Saving Model With Loss 1.45790\n",
      "Train Loss: 1.55260| Valid Loss: 1.45790| Best Loss: 1.45790\n",
      "\n"
     ]
    },
    {
     "name": "stderr",
     "output_type": "stream",
     "text": [
      "Train Epoch 28: 100%|██████████| 782/782 [00:06<00:00, 118.38it/s, loss=1.766]\n",
      "Valid Epoch 28: 100%|██████████| 157/157 [00:00<00:00, 221.89it/s, loss=0.974]\n"
     ]
    },
    {
     "name": "stdout",
     "output_type": "stream",
     "text": [
      "Train Loss: 1.54304| Valid Loss: 1.46010| Best Loss: 1.45790\n",
      "\n"
     ]
    },
    {
     "name": "stderr",
     "output_type": "stream",
     "text": [
      "Train Epoch 29: 100%|██████████| 782/782 [00:06<00:00, 120.14it/s, loss=1.748]\n",
      "Valid Epoch 29: 100%|██████████| 157/157 [00:00<00:00, 218.33it/s, loss=1.200]\n"
     ]
    },
    {
     "name": "stdout",
     "output_type": "stream",
     "text": [
      "Train Loss: 1.54360| Valid Loss: 1.46646| Best Loss: 1.45790\n",
      "\n"
     ]
    },
    {
     "name": "stderr",
     "output_type": "stream",
     "text": [
      "Train Epoch 30: 100%|██████████| 782/782 [00:06<00:00, 114.86it/s, loss=1.568]\n",
      "Valid Epoch 30: 100%|██████████| 157/157 [00:00<00:00, 240.70it/s, loss=1.599]\n"
     ]
    },
    {
     "name": "stdout",
     "output_type": "stream",
     "text": [
      "Train Loss: 1.53388| Valid Loss: 1.48769| Best Loss: 1.45790\n",
      "\n"
     ]
    },
    {
     "name": "stderr",
     "output_type": "stream",
     "text": [
      "Train Epoch 31: 100%|██████████| 782/782 [00:06<00:00, 125.16it/s, loss=1.648]\n",
      "Valid Epoch 31: 100%|██████████| 157/157 [00:00<00:00, 246.75it/s, loss=1.257]\n"
     ]
    },
    {
     "name": "stdout",
     "output_type": "stream",
     "text": [
      "Saving Model With Loss 1.45086\n",
      "Train Loss: 1.52951| Valid Loss: 1.45086| Best Loss: 1.45086\n",
      "\n"
     ]
    },
    {
     "name": "stderr",
     "output_type": "stream",
     "text": [
      "Train Epoch 32: 100%|██████████| 782/782 [00:06<00:00, 126.05it/s, loss=1.519]\n",
      "Valid Epoch 32: 100%|██████████| 157/157 [00:00<00:00, 245.20it/s, loss=1.700]\n"
     ]
    },
    {
     "name": "stdout",
     "output_type": "stream",
     "text": [
      "Train Loss: 1.52594| Valid Loss: 1.45844| Best Loss: 1.45086\n",
      "\n"
     ]
    },
    {
     "name": "stderr",
     "output_type": "stream",
     "text": [
      "Train Epoch 33: 100%|██████████| 782/782 [00:06<00:00, 125.52it/s, loss=1.028]\n",
      "Valid Epoch 33: 100%|██████████| 157/157 [00:00<00:00, 238.75it/s, loss=1.025]\n"
     ]
    },
    {
     "name": "stdout",
     "output_type": "stream",
     "text": [
      "Saving Model With Loss 1.43671\n",
      "Train Loss: 1.52278| Valid Loss: 1.43671| Best Loss: 1.43671\n",
      "\n"
     ]
    },
    {
     "name": "stderr",
     "output_type": "stream",
     "text": [
      "Train Epoch 34: 100%|██████████| 782/782 [00:05<00:00, 131.38it/s, loss=1.106]\n",
      "Valid Epoch 34: 100%|██████████| 157/157 [00:00<00:00, 258.63it/s, loss=1.775]\n"
     ]
    },
    {
     "name": "stdout",
     "output_type": "stream",
     "text": [
      "Train Loss: 1.51761| Valid Loss: 1.46640| Best Loss: 1.43671\n",
      "\n"
     ]
    },
    {
     "name": "stderr",
     "output_type": "stream",
     "text": [
      "Train Epoch 35: 100%|██████████| 782/782 [00:06<00:00, 128.74it/s, loss=1.363]\n",
      "Valid Epoch 35: 100%|██████████| 157/157 [00:00<00:00, 266.62it/s, loss=1.464]\n"
     ]
    },
    {
     "name": "stdout",
     "output_type": "stream",
     "text": [
      "Train Loss: 1.50923| Valid Loss: 1.43729| Best Loss: 1.43671\n",
      "\n"
     ]
    },
    {
     "name": "stderr",
     "output_type": "stream",
     "text": [
      "Train Epoch 36: 100%|██████████| 782/782 [00:06<00:00, 129.48it/s, loss=1.474]\n",
      "Valid Epoch 36: 100%|██████████| 157/157 [00:00<00:00, 241.76it/s, loss=1.703]\n"
     ]
    },
    {
     "name": "stdout",
     "output_type": "stream",
     "text": [
      "Train Loss: 1.50356| Valid Loss: 1.45125| Best Loss: 1.43671\n",
      "\n"
     ]
    },
    {
     "name": "stderr",
     "output_type": "stream",
     "text": [
      "Train Epoch 37: 100%|██████████| 782/782 [00:06<00:00, 126.00it/s, loss=1.410]\n",
      "Valid Epoch 37: 100%|██████████| 157/157 [00:00<00:00, 268.70it/s, loss=1.521]\n"
     ]
    },
    {
     "name": "stdout",
     "output_type": "stream",
     "text": [
      "Saving Model With Loss 1.43091\n",
      "Train Loss: 1.49885| Valid Loss: 1.43091| Best Loss: 1.43091\n",
      "\n"
     ]
    },
    {
     "name": "stderr",
     "output_type": "stream",
     "text": [
      "Train Epoch 38: 100%|██████████| 782/782 [00:06<00:00, 129.45it/s, loss=1.424]\n",
      "Valid Epoch 38: 100%|██████████| 157/157 [00:00<00:00, 234.29it/s, loss=1.759]\n"
     ]
    },
    {
     "name": "stdout",
     "output_type": "stream",
     "text": [
      "Train Loss: 1.50037| Valid Loss: 1.44096| Best Loss: 1.43091\n",
      "\n"
     ]
    },
    {
     "name": "stderr",
     "output_type": "stream",
     "text": [
      "Train Epoch 39: 100%|██████████| 782/782 [00:06<00:00, 120.20it/s, loss=1.080]\n",
      "Valid Epoch 39: 100%|██████████| 157/157 [00:00<00:00, 228.45it/s, loss=1.576]\n"
     ]
    },
    {
     "name": "stdout",
     "output_type": "stream",
     "text": [
      "Saving Model With Loss 1.42147\n",
      "Train Loss: 1.48953| Valid Loss: 1.42147| Best Loss: 1.42147\n",
      "\n"
     ]
    },
    {
     "name": "stderr",
     "output_type": "stream",
     "text": [
      "Train Epoch 40: 100%|██████████| 782/782 [00:05<00:00, 130.99it/s, loss=1.354]\n",
      "Valid Epoch 40: 100%|██████████| 157/157 [00:00<00:00, 272.71it/s, loss=1.395]\n"
     ]
    },
    {
     "name": "stdout",
     "output_type": "stream",
     "text": [
      "Train Loss: 1.48542| Valid Loss: 1.42367| Best Loss: 1.42147\n",
      "\n"
     ]
    },
    {
     "name": "stderr",
     "output_type": "stream",
     "text": [
      "Train Epoch 41: 100%|██████████| 782/782 [00:06<00:00, 123.89it/s, loss=2.195]\n",
      "Valid Epoch 41: 100%|██████████| 157/157 [00:00<00:00, 209.85it/s, loss=1.650]\n"
     ]
    },
    {
     "name": "stdout",
     "output_type": "stream",
     "text": [
      "Saving Model With Loss 1.41676\n",
      "Train Loss: 1.48038| Valid Loss: 1.41676| Best Loss: 1.41676\n",
      "\n"
     ]
    },
    {
     "name": "stderr",
     "output_type": "stream",
     "text": [
      "Train Epoch 42: 100%|██████████| 782/782 [00:06<00:00, 120.62it/s, loss=1.468]\n",
      "Valid Epoch 42: 100%|██████████| 157/157 [00:00<00:00, 237.60it/s, loss=1.637]\n"
     ]
    },
    {
     "name": "stdout",
     "output_type": "stream",
     "text": [
      "Train Loss: 1.48080| Valid Loss: 1.43131| Best Loss: 1.41676\n",
      "\n"
     ]
    },
    {
     "name": "stderr",
     "output_type": "stream",
     "text": [
      "Train Epoch 43: 100%|██████████| 782/782 [00:06<00:00, 121.95it/s, loss=1.513]\n",
      "Valid Epoch 43: 100%|██████████| 157/157 [00:00<00:00, 236.96it/s, loss=1.263]\n"
     ]
    },
    {
     "name": "stdout",
     "output_type": "stream",
     "text": [
      "Saving Model With Loss 1.41219\n",
      "Train Loss: 1.47487| Valid Loss: 1.41219| Best Loss: 1.41219\n",
      "\n"
     ]
    },
    {
     "name": "stderr",
     "output_type": "stream",
     "text": [
      "Train Epoch 44: 100%|██████████| 782/782 [00:06<00:00, 121.36it/s, loss=1.482]\n",
      "Valid Epoch 44: 100%|██████████| 157/157 [00:00<00:00, 239.51it/s, loss=1.102]\n"
     ]
    },
    {
     "name": "stdout",
     "output_type": "stream",
     "text": [
      "Train Loss: 1.46906| Valid Loss: 1.41282| Best Loss: 1.41219\n",
      "\n"
     ]
    },
    {
     "name": "stderr",
     "output_type": "stream",
     "text": [
      "Train Epoch 45: 100%|██████████| 782/782 [00:06<00:00, 123.39it/s, loss=1.513]\n",
      "Valid Epoch 45: 100%|██████████| 157/157 [00:00<00:00, 253.09it/s, loss=1.250]\n"
     ]
    },
    {
     "name": "stdout",
     "output_type": "stream",
     "text": [
      "Train Loss: 1.46525| Valid Loss: 1.41248| Best Loss: 1.41219\n",
      "\n"
     ]
    },
    {
     "name": "stderr",
     "output_type": "stream",
     "text": [
      "Train Epoch 46: 100%|██████████| 782/782 [00:06<00:00, 125.39it/s, loss=1.203]\n",
      "Valid Epoch 46: 100%|██████████| 157/157 [00:00<00:00, 207.71it/s, loss=1.103]\n"
     ]
    },
    {
     "name": "stdout",
     "output_type": "stream",
     "text": [
      "Train Loss: 1.45974| Valid Loss: 1.42266| Best Loss: 1.41219\n",
      "\n"
     ]
    },
    {
     "name": "stderr",
     "output_type": "stream",
     "text": [
      "Train Epoch 47: 100%|██████████| 782/782 [00:06<00:00, 119.90it/s, loss=1.755]\n",
      "Valid Epoch 47: 100%|██████████| 157/157 [00:00<00:00, 234.73it/s, loss=1.306]\n"
     ]
    },
    {
     "name": "stdout",
     "output_type": "stream",
     "text": [
      "Saving Model With Loss 1.40812\n",
      "Train Loss: 1.45388| Valid Loss: 1.40812| Best Loss: 1.40812\n",
      "\n"
     ]
    },
    {
     "name": "stderr",
     "output_type": "stream",
     "text": [
      "Train Epoch 48: 100%|██████████| 782/782 [00:06<00:00, 126.39it/s, loss=1.500]\n",
      "Valid Epoch 48: 100%|██████████| 157/157 [00:00<00:00, 230.90it/s, loss=1.334]\n"
     ]
    },
    {
     "name": "stdout",
     "output_type": "stream",
     "text": [
      "Saving Model With Loss 1.40478\n",
      "Train Loss: 1.44991| Valid Loss: 1.40478| Best Loss: 1.40478\n",
      "\n"
     ]
    },
    {
     "name": "stderr",
     "output_type": "stream",
     "text": [
      "Train Epoch 49: 100%|██████████| 782/782 [00:06<00:00, 118.16it/s, loss=1.579]\n",
      "Valid Epoch 49: 100%|██████████| 157/157 [00:00<00:00, 234.28it/s, loss=1.240]\n"
     ]
    },
    {
     "name": "stdout",
     "output_type": "stream",
     "text": [
      "Saving Model With Loss 1.40259\n",
      "Train Loss: 1.45242| Valid Loss: 1.40259| Best Loss: 1.40259\n",
      "\n"
     ]
    },
    {
     "name": "stderr",
     "output_type": "stream",
     "text": [
      "Train Epoch 50: 100%|██████████| 782/782 [00:06<00:00, 113.53it/s, loss=1.350]\n",
      "Valid Epoch 50: 100%|██████████| 157/157 [00:00<00:00, 225.30it/s, loss=1.463]\n"
     ]
    },
    {
     "name": "stdout",
     "output_type": "stream",
     "text": [
      "Saving Model With Loss 1.39463\n",
      "Train Loss: 1.45015| Valid Loss: 1.39463| Best Loss: 1.39463\n",
      "\n"
     ]
    },
    {
     "name": "stderr",
     "output_type": "stream",
     "text": [
      "Train Epoch 51: 100%|██████████| 782/782 [00:06<00:00, 116.52it/s, loss=1.146]\n",
      "Valid Epoch 51: 100%|██████████| 157/157 [00:00<00:00, 233.86it/s, loss=1.577]\n"
     ]
    },
    {
     "name": "stdout",
     "output_type": "stream",
     "text": [
      "Train Loss: 1.44065| Valid Loss: 1.40731| Best Loss: 1.39463\n",
      "\n"
     ]
    },
    {
     "name": "stderr",
     "output_type": "stream",
     "text": [
      "Train Epoch 52: 100%|██████████| 782/782 [00:05<00:00, 130.94it/s, loss=1.586]\n",
      "Valid Epoch 52: 100%|██████████| 157/157 [00:00<00:00, 243.94it/s, loss=1.237]\n"
     ]
    },
    {
     "name": "stdout",
     "output_type": "stream",
     "text": [
      "Train Loss: 1.43951| Valid Loss: 1.40336| Best Loss: 1.39463\n",
      "\n"
     ]
    },
    {
     "name": "stderr",
     "output_type": "stream",
     "text": [
      "Train Epoch 53: 100%|██████████| 782/782 [00:06<00:00, 121.60it/s, loss=1.194]\n",
      "Valid Epoch 53: 100%|██████████| 157/157 [00:00<00:00, 269.79it/s, loss=1.263]\n"
     ]
    },
    {
     "name": "stdout",
     "output_type": "stream",
     "text": [
      "Saving Model With Loss 1.38759\n",
      "Train Loss: 1.43202| Valid Loss: 1.38759| Best Loss: 1.38759\n",
      "\n"
     ]
    },
    {
     "name": "stderr",
     "output_type": "stream",
     "text": [
      "Train Epoch 54: 100%|██████████| 782/782 [00:06<00:00, 123.77it/s, loss=1.462]\n",
      "Valid Epoch 54: 100%|██████████| 157/157 [00:00<00:00, 245.16it/s, loss=1.645]\n"
     ]
    },
    {
     "name": "stdout",
     "output_type": "stream",
     "text": [
      "Train Loss: 1.43849| Valid Loss: 1.39250| Best Loss: 1.38759\n",
      "\n"
     ]
    },
    {
     "name": "stderr",
     "output_type": "stream",
     "text": [
      "Train Epoch 55: 100%|██████████| 782/782 [00:06<00:00, 125.80it/s, loss=2.679]\n",
      "Valid Epoch 55: 100%|██████████| 157/157 [00:00<00:00, 256.92it/s, loss=0.949]\n"
     ]
    },
    {
     "name": "stdout",
     "output_type": "stream",
     "text": [
      "Train Loss: 1.42554| Valid Loss: 1.39251| Best Loss: 1.38759\n",
      "\n"
     ]
    },
    {
     "name": "stderr",
     "output_type": "stream",
     "text": [
      "Train Epoch 56: 100%|██████████| 782/782 [00:05<00:00, 130.39it/s, loss=1.729]\n",
      "Valid Epoch 56: 100%|██████████| 157/157 [00:00<00:00, 248.81it/s, loss=1.055]\n"
     ]
    },
    {
     "name": "stdout",
     "output_type": "stream",
     "text": [
      "Saving Model With Loss 1.38517\n",
      "Train Loss: 1.42103| Valid Loss: 1.38517| Best Loss: 1.38517\n",
      "\n"
     ]
    },
    {
     "name": "stderr",
     "output_type": "stream",
     "text": [
      "Train Epoch 57: 100%|██████████| 782/782 [00:06<00:00, 129.16it/s, loss=1.244]\n",
      "Valid Epoch 57: 100%|██████████| 157/157 [00:00<00:00, 257.34it/s, loss=1.829]\n"
     ]
    },
    {
     "name": "stdout",
     "output_type": "stream",
     "text": [
      "Saving Model With Loss 1.38493\n",
      "Train Loss: 1.42219| Valid Loss: 1.38493| Best Loss: 1.38493\n",
      "\n"
     ]
    },
    {
     "name": "stderr",
     "output_type": "stream",
     "text": [
      "Train Epoch 58: 100%|██████████| 782/782 [00:06<00:00, 125.24it/s, loss=1.589]\n",
      "Valid Epoch 58: 100%|██████████| 157/157 [00:00<00:00, 237.15it/s, loss=1.415]\n"
     ]
    },
    {
     "name": "stdout",
     "output_type": "stream",
     "text": [
      "Saving Model With Loss 1.38461\n",
      "Train Loss: 1.41682| Valid Loss: 1.38461| Best Loss: 1.38461\n",
      "\n"
     ]
    },
    {
     "name": "stderr",
     "output_type": "stream",
     "text": [
      "Train Epoch 59: 100%|██████████| 782/782 [00:06<00:00, 122.72it/s, loss=1.379]\n",
      "Valid Epoch 59: 100%|██████████| 157/157 [00:00<00:00, 238.58it/s, loss=1.706]\n"
     ]
    },
    {
     "name": "stdout",
     "output_type": "stream",
     "text": [
      "Train Loss: 1.41470| Valid Loss: 1.39589| Best Loss: 1.38461\n",
      "\n"
     ]
    },
    {
     "name": "stderr",
     "output_type": "stream",
     "text": [
      "Train Epoch 60: 100%|██████████| 782/782 [00:06<00:00, 121.38it/s, loss=1.227]\n",
      "Valid Epoch 60: 100%|██████████| 157/157 [00:00<00:00, 243.78it/s, loss=1.214]\n"
     ]
    },
    {
     "name": "stdout",
     "output_type": "stream",
     "text": [
      "Saving Model With Loss 1.38365\n",
      "Train Loss: 1.40779| Valid Loss: 1.38365| Best Loss: 1.38365\n",
      "\n"
     ]
    },
    {
     "name": "stderr",
     "output_type": "stream",
     "text": [
      "Train Epoch 61: 100%|██████████| 782/782 [00:06<00:00, 123.21it/s, loss=1.557]\n",
      "Valid Epoch 61: 100%|██████████| 157/157 [00:00<00:00, 230.79it/s, loss=1.245]\n"
     ]
    },
    {
     "name": "stdout",
     "output_type": "stream",
     "text": [
      "Saving Model With Loss 1.37961\n",
      "Train Loss: 1.41128| Valid Loss: 1.37961| Best Loss: 1.37961\n",
      "\n"
     ]
    },
    {
     "name": "stderr",
     "output_type": "stream",
     "text": [
      "Train Epoch 62: 100%|██████████| 782/782 [00:06<00:00, 124.92it/s, loss=1.278]\n",
      "Valid Epoch 62: 100%|██████████| 157/157 [00:00<00:00, 246.68it/s, loss=1.507]\n"
     ]
    },
    {
     "name": "stdout",
     "output_type": "stream",
     "text": [
      "Train Loss: 1.40524| Valid Loss: 1.38459| Best Loss: 1.37961\n",
      "\n"
     ]
    },
    {
     "name": "stderr",
     "output_type": "stream",
     "text": [
      "Train Epoch 63: 100%|██████████| 782/782 [00:06<00:00, 124.44it/s, loss=1.862]\n",
      "Valid Epoch 63: 100%|██████████| 157/157 [00:00<00:00, 240.26it/s, loss=1.381]\n"
     ]
    },
    {
     "name": "stdout",
     "output_type": "stream",
     "text": [
      "Train Loss: 1.40960| Valid Loss: 1.38929| Best Loss: 1.37961\n",
      "\n"
     ]
    },
    {
     "name": "stderr",
     "output_type": "stream",
     "text": [
      "Train Epoch 64: 100%|██████████| 782/782 [00:06<00:00, 124.61it/s, loss=1.811]\n",
      "Valid Epoch 64: 100%|██████████| 157/157 [00:00<00:00, 240.51it/s, loss=1.481]\n"
     ]
    },
    {
     "name": "stdout",
     "output_type": "stream",
     "text": [
      "Saving Model With Loss 1.37755\n",
      "Train Loss: 1.39994| Valid Loss: 1.37755| Best Loss: 1.37755\n",
      "\n"
     ]
    },
    {
     "name": "stderr",
     "output_type": "stream",
     "text": [
      "Train Epoch 65: 100%|██████████| 782/782 [00:06<00:00, 124.38it/s, loss=1.603]\n",
      "Valid Epoch 65: 100%|██████████| 157/157 [00:00<00:00, 226.64it/s, loss=1.614]\n"
     ]
    },
    {
     "name": "stdout",
     "output_type": "stream",
     "text": [
      "Train Loss: 1.39791| Valid Loss: 1.37984| Best Loss: 1.37755\n",
      "\n"
     ]
    },
    {
     "name": "stderr",
     "output_type": "stream",
     "text": [
      "Train Epoch 66: 100%|██████████| 782/782 [00:06<00:00, 124.70it/s, loss=1.709]\n",
      "Valid Epoch 66: 100%|██████████| 157/157 [00:00<00:00, 232.44it/s, loss=1.202]\n"
     ]
    },
    {
     "name": "stdout",
     "output_type": "stream",
     "text": [
      "Train Loss: 1.39602| Valid Loss: 1.37804| Best Loss: 1.37755\n",
      "\n"
     ]
    },
    {
     "name": "stderr",
     "output_type": "stream",
     "text": [
      "Train Epoch 67: 100%|██████████| 782/782 [00:06<00:00, 125.18it/s, loss=1.658]\n",
      "Valid Epoch 67: 100%|██████████| 157/157 [00:00<00:00, 232.20it/s, loss=1.291]\n"
     ]
    },
    {
     "name": "stdout",
     "output_type": "stream",
     "text": [
      "Saving Model With Loss 1.37723\n",
      "Train Loss: 1.39052| Valid Loss: 1.37723| Best Loss: 1.37723\n",
      "\n"
     ]
    },
    {
     "name": "stderr",
     "output_type": "stream",
     "text": [
      "Train Epoch 68: 100%|██████████| 782/782 [00:06<00:00, 124.82it/s, loss=1.041]\n",
      "Valid Epoch 68: 100%|██████████| 157/157 [00:00<00:00, 233.73it/s, loss=0.803]\n"
     ]
    },
    {
     "name": "stdout",
     "output_type": "stream",
     "text": [
      "Saving Model With Loss 1.37113\n",
      "Train Loss: 1.39350| Valid Loss: 1.37113| Best Loss: 1.37113\n",
      "\n"
     ]
    },
    {
     "name": "stderr",
     "output_type": "stream",
     "text": [
      "Train Epoch 69: 100%|██████████| 782/782 [00:06<00:00, 126.03it/s, loss=1.271]\n",
      "Valid Epoch 69: 100%|██████████| 157/157 [00:00<00:00, 243.15it/s, loss=1.314]\n"
     ]
    },
    {
     "name": "stdout",
     "output_type": "stream",
     "text": [
      "Train Loss: 1.38244| Valid Loss: 1.37648| Best Loss: 1.37113\n",
      "\n"
     ]
    },
    {
     "name": "stderr",
     "output_type": "stream",
     "text": [
      "Train Epoch 70: 100%|██████████| 782/782 [00:06<00:00, 125.09it/s, loss=1.488]\n",
      "Valid Epoch 70: 100%|██████████| 157/157 [00:00<00:00, 238.04it/s, loss=1.624]\n"
     ]
    },
    {
     "name": "stdout",
     "output_type": "stream",
     "text": [
      "Train Loss: 1.37549| Valid Loss: 1.38260| Best Loss: 1.37113\n",
      "\n"
     ]
    },
    {
     "name": "stderr",
     "output_type": "stream",
     "text": [
      "Train Epoch 71: 100%|██████████| 782/782 [00:06<00:00, 124.52it/s, loss=2.022]\n",
      "Valid Epoch 71: 100%|██████████| 157/157 [00:00<00:00, 228.88it/s, loss=0.996]\n"
     ]
    },
    {
     "name": "stdout",
     "output_type": "stream",
     "text": [
      "Saving Model With Loss 1.36538\n",
      "Train Loss: 1.38205| Valid Loss: 1.36538| Best Loss: 1.36538\n",
      "\n"
     ]
    },
    {
     "name": "stderr",
     "output_type": "stream",
     "text": [
      "Train Epoch 72: 100%|██████████| 782/782 [00:06<00:00, 124.01it/s, loss=1.499]\n",
      "Valid Epoch 72: 100%|██████████| 157/157 [00:00<00:00, 237.05it/s, loss=1.008]\n"
     ]
    },
    {
     "name": "stdout",
     "output_type": "stream",
     "text": [
      "Train Loss: 1.38107| Valid Loss: 1.36782| Best Loss: 1.36538\n",
      "\n"
     ]
    },
    {
     "name": "stderr",
     "output_type": "stream",
     "text": [
      "Train Epoch 73: 100%|██████████| 782/782 [00:06<00:00, 124.01it/s, loss=1.182]\n",
      "Valid Epoch 73: 100%|██████████| 157/157 [00:00<00:00, 237.02it/s, loss=1.232]\n"
     ]
    },
    {
     "name": "stdout",
     "output_type": "stream",
     "text": [
      "Train Loss: 1.37760| Valid Loss: 1.38318| Best Loss: 1.36538\n",
      "\n"
     ]
    },
    {
     "name": "stderr",
     "output_type": "stream",
     "text": [
      "Train Epoch 74: 100%|██████████| 782/782 [00:06<00:00, 125.84it/s, loss=2.660]\n",
      "Valid Epoch 74: 100%|██████████| 157/157 [00:00<00:00, 239.46it/s, loss=1.098]\n"
     ]
    },
    {
     "name": "stdout",
     "output_type": "stream",
     "text": [
      "Train Loss: 1.37514| Valid Loss: 1.37161| Best Loss: 1.36538\n",
      "\n"
     ]
    },
    {
     "name": "stderr",
     "output_type": "stream",
     "text": [
      "Train Epoch 75: 100%|██████████| 782/782 [00:06<00:00, 125.09it/s, loss=1.603]\n",
      "Valid Epoch 75: 100%|██████████| 157/157 [00:00<00:00, 244.01it/s, loss=1.534]\n"
     ]
    },
    {
     "name": "stdout",
     "output_type": "stream",
     "text": [
      "Train Loss: 1.37212| Valid Loss: 1.38267| Best Loss: 1.36538\n",
      "\n"
     ]
    },
    {
     "name": "stderr",
     "output_type": "stream",
     "text": [
      "Train Epoch 76: 100%|██████████| 782/782 [00:06<00:00, 125.38it/s, loss=1.248]\n",
      "Valid Epoch 76: 100%|██████████| 157/157 [00:00<00:00, 239.81it/s, loss=1.454]\n"
     ]
    },
    {
     "name": "stdout",
     "output_type": "stream",
     "text": [
      "Saving Model With Loss 1.36201\n",
      "Train Loss: 1.36458| Valid Loss: 1.36201| Best Loss: 1.36201\n",
      "\n"
     ]
    },
    {
     "name": "stderr",
     "output_type": "stream",
     "text": [
      "Train Epoch 77: 100%|██████████| 782/782 [00:06<00:00, 122.03it/s, loss=1.274]\n",
      "Valid Epoch 77: 100%|██████████| 157/157 [00:00<00:00, 223.31it/s, loss=1.402]\n"
     ]
    },
    {
     "name": "stdout",
     "output_type": "stream",
     "text": [
      "Train Loss: 1.36695| Valid Loss: 1.36668| Best Loss: 1.36201\n",
      "\n"
     ]
    },
    {
     "name": "stderr",
     "output_type": "stream",
     "text": [
      "Train Epoch 78: 100%|██████████| 782/782 [00:06<00:00, 118.74it/s, loss=1.750]\n",
      "Valid Epoch 78: 100%|██████████| 157/157 [00:00<00:00, 248.56it/s, loss=1.510]\n"
     ]
    },
    {
     "name": "stdout",
     "output_type": "stream",
     "text": [
      "Train Loss: 1.36716| Valid Loss: 1.38967| Best Loss: 1.36201\n",
      "\n"
     ]
    },
    {
     "name": "stderr",
     "output_type": "stream",
     "text": [
      "Train Epoch 79: 100%|██████████| 782/782 [00:06<00:00, 123.54it/s, loss=1.487]\n",
      "Valid Epoch 79: 100%|██████████| 157/157 [00:00<00:00, 239.61it/s, loss=1.128]\n"
     ]
    },
    {
     "name": "stdout",
     "output_type": "stream",
     "text": [
      "Saving Model With Loss 1.36161\n",
      "Train Loss: 1.35871| Valid Loss: 1.36161| Best Loss: 1.36161\n",
      "\n"
     ]
    },
    {
     "name": "stderr",
     "output_type": "stream",
     "text": [
      "Train Epoch 80: 100%|██████████| 782/782 [00:06<00:00, 122.26it/s, loss=1.691]\n",
      "Valid Epoch 80: 100%|██████████| 157/157 [00:00<00:00, 252.41it/s, loss=1.543]\n"
     ]
    },
    {
     "name": "stdout",
     "output_type": "stream",
     "text": [
      "Train Loss: 1.35180| Valid Loss: 1.36166| Best Loss: 1.36161\n",
      "\n"
     ]
    },
    {
     "name": "stderr",
     "output_type": "stream",
     "text": [
      "Train Epoch 81: 100%|██████████| 782/782 [00:06<00:00, 127.71it/s, loss=1.766]\n",
      "Valid Epoch 81: 100%|██████████| 157/157 [00:00<00:00, 258.14it/s, loss=1.552]\n"
     ]
    },
    {
     "name": "stdout",
     "output_type": "stream",
     "text": [
      "Train Loss: 1.34928| Valid Loss: 1.38720| Best Loss: 1.36161\n",
      "\n"
     ]
    },
    {
     "name": "stderr",
     "output_type": "stream",
     "text": [
      "Train Epoch 82: 100%|██████████| 782/782 [00:06<00:00, 128.44it/s, loss=1.211]\n",
      "Valid Epoch 82: 100%|██████████| 157/157 [00:00<00:00, 249.48it/s, loss=1.807]\n"
     ]
    },
    {
     "name": "stdout",
     "output_type": "stream",
     "text": [
      "Saving Model With Loss 1.36000\n",
      "Train Loss: 1.35237| Valid Loss: 1.36000| Best Loss: 1.36000\n",
      "\n"
     ]
    },
    {
     "name": "stderr",
     "output_type": "stream",
     "text": [
      "Train Epoch 83: 100%|██████████| 782/782 [00:06<00:00, 123.17it/s, loss=1.269]\n",
      "Valid Epoch 83: 100%|██████████| 157/157 [00:00<00:00, 223.34it/s, loss=1.581]\n"
     ]
    },
    {
     "name": "stdout",
     "output_type": "stream",
     "text": [
      "Train Loss: 1.35209| Valid Loss: 1.36649| Best Loss: 1.36000\n",
      "\n"
     ]
    },
    {
     "name": "stderr",
     "output_type": "stream",
     "text": [
      "Train Epoch 84: 100%|██████████| 782/782 [00:06<00:00, 120.62it/s, loss=1.727]\n",
      "Valid Epoch 84: 100%|██████████| 157/157 [00:00<00:00, 233.92it/s, loss=1.779]\n"
     ]
    },
    {
     "name": "stdout",
     "output_type": "stream",
     "text": [
      "Train Loss: 1.34869| Valid Loss: 1.36921| Best Loss: 1.36000\n",
      "\n"
     ]
    },
    {
     "name": "stderr",
     "output_type": "stream",
     "text": [
      "Train Epoch 85: 100%|██████████| 782/782 [00:06<00:00, 116.02it/s, loss=2.569]\n",
      "Valid Epoch 85: 100%|██████████| 157/157 [00:00<00:00, 203.59it/s, loss=1.150]\n"
     ]
    },
    {
     "name": "stdout",
     "output_type": "stream",
     "text": [
      "Train Loss: 1.34503| Valid Loss: 1.37571| Best Loss: 1.36000\n",
      "\n"
     ]
    },
    {
     "name": "stderr",
     "output_type": "stream",
     "text": [
      "Train Epoch 86: 100%|██████████| 782/782 [00:06<00:00, 115.90it/s, loss=2.252]\n",
      "Valid Epoch 86: 100%|██████████| 157/157 [00:00<00:00, 244.91it/s, loss=1.707]\n"
     ]
    },
    {
     "name": "stdout",
     "output_type": "stream",
     "text": [
      "Train Loss: 1.34624| Valid Loss: 1.37892| Best Loss: 1.36000\n",
      "\n"
     ]
    },
    {
     "name": "stderr",
     "output_type": "stream",
     "text": [
      "Train Epoch 87: 100%|██████████| 782/782 [00:06<00:00, 122.75it/s, loss=1.326]\n",
      "Valid Epoch 87: 100%|██████████| 157/157 [00:00<00:00, 241.81it/s, loss=1.427]\n"
     ]
    },
    {
     "name": "stdout",
     "output_type": "stream",
     "text": [
      "Train Loss: 1.33736| Valid Loss: 1.38209| Best Loss: 1.36000\n",
      "\n",
      "------------------------------------\n",
      "|Model can't improve, stop training|\n",
      "------------------------------------\n"
     ]
    },
    {
     "data": {
      "image/png": "[encoded data removed]",
      "text/plain": [
       "<Figure size 640x480 with 1 Axes>"
      ]
     },
     "metadata": {},
     "output_type": "display_data"
    },
    {
     "name": "stdout",
     "output_type": "stream",
     "text": [
      "Best model loaded from ./checkpoints\\best_model.ckpt\n"
     ]
    }
   ],
   "source": [
    "from Trainer import Trainer\n",
    "import torch.optim as optim\n",
    "optimizer = optim.Adam(model.parameters(), lr = 1e-3)\n",
    "trainer = Trainer(\n",
    "    epochs=100,\n",
    "    train_loader=train_loader,\n",
    "    valid_loader=valid_loader,\n",
    "    model=model,\n",
    "    optimizer=optimizer,\n",
    "    early_stopping=5,\n",
    "    load_best_model=True,\n",
    ")\n",
    "\n",
    "trainer.train(show_loss=True)"
   ]
  },
  {
   "cell_type": "code",
   "execution_count": 7,
   "metadata": {},
   "outputs": [
    {
     "name": "stderr",
     "output_type": "stream",
     "text": [
      "Eval: 100%|██████████| 157/157 [00:00<00:00, 273.05it/s]\n"
     ]
    },
    {
     "name": "stdout",
     "output_type": "stream",
     "text": [
      "              precision    recall  f1-score   support\n",
      "\n",
      "    Airplane     0.5847    0.5210    0.5510      1000\n",
      "        Bird     0.4499    0.3230    0.3760      1000\n",
      "         Car     0.6270    0.6320    0.6295      1000\n",
      "         Cat     0.3273    0.3440    0.3354      1000\n",
      "        Deer     0.3966    0.5100    0.4462      1000\n",
      "         Dog     0.4720    0.4380    0.4544      1000\n",
      "        Frog     0.6388    0.5430    0.5870      1000\n",
      "       Horse     0.6286    0.6550    0.6415      1000\n",
      "        Ship     0.6219    0.6350    0.6284      1000\n",
      "       Truck     0.5286    0.6370    0.5778      1000\n",
      "\n",
      "    accuracy                         0.5238     10000\n",
      "   macro avg     0.5275    0.5238    0.5227     10000\n",
      "weighted avg     0.5275    0.5238    0.5227     10000\n",
      "\n"
     ]
    },
    {
     "data": {
      "image/png": "[encoded data removed]",
      "text/plain": [
       "<Figure size 1000x800 with 2 Axes>"
      ]
     },
     "metadata": {},
     "output_type": "display_data"
    }
   ],
   "source": [
    "import torch\n",
    "from tqdm import tqdm\n",
    "from sklearn.metrics import classification_report, confusion_matrix\n",
    "import matplotlib.pyplot as plt\n",
    "import seaborn as sns\n",
    "\n",
    "def evaluate_and_report(model, data_loader, label_decoding, device=None):\n",
    "    if device is None:\n",
    "        device = torch.device('cuda' if torch.cuda.is_available() else 'cpu')\n",
    "    model.to(device)\n",
    "\n",
    "    all_preds = []\n",
    "    all_labels = []\n",
    "    eval_pbar = tqdm(data_loader, position=0, leave=True)\n",
    "\n",
    "    for input_datas in eval_pbar:\n",
    "        input_datas = {k: v.to(device) for k, v in input_datas.items()}\n",
    "        preds = model.predict(**input_datas)\n",
    "        labels = input_datas['y']\n",
    "        all_preds.extend(preds.tolist())\n",
    "        all_labels.extend(labels.tolist())\n",
    "        eval_pbar.set_description(f'Eval')\n",
    "\n",
    "    decoded_labels = [label_decoding[l] for l in all_labels]\n",
    "    decoded_preds = [label_decoding[p] for p in all_preds]\n",
    "\n",
    "    print(classification_report(decoded_labels, decoded_preds, digits=4, zero_division=0))\n",
    "\n",
    "    cm = confusion_matrix(decoded_labels, decoded_preds, labels=list(label_decoding.values()))\n",
    "    plt.figure(figsize=(10, 8))\n",
    "    sns.heatmap(cm, annot=True, fmt='d', cmap='Blues',\n",
    "                xticklabels=list(label_decoding.values()),\n",
    "                yticklabels=list(label_decoding.values()))\n",
    "    plt.xlabel('Predicted', fontsize=12)\n",
    "    plt.ylabel('True', fontsize=12)\n",
    "    plt.title('Confusion Matrix', fontsize=14)\n",
    "    plt.xticks(rotation=45)\n",
    "    plt.yticks(rotation=0)\n",
    "    plt.tight_layout()\n",
    "    plt.show()\n",
    "\n",
    "evaluate_and_report(model, valid_loader, label_decoding)\n"
   ]
  },
  {
   "cell_type": "code",
   "execution_count": 8,
   "metadata": {},
   "outputs": [
    {
     "name": "stdout",
     "output_type": "stream",
     "text": [
      "\n",
      "Top 5 Predictions:\n",
      "\n"
     ]
    },
    {
     "data": {
      "image/png": "[encoded data removed]",
      "text/plain": [
       "<Figure size 1000x200 with 5 Axes>"
      ]
     },
     "metadata": {},
     "output_type": "display_data"
    }
   ],
   "source": [
    "def show_sample_predictions(model, x_valid, y_valid, label_decoding, num_samples=5):\n",
    "    device = torch.device(\"cuda\" if torch.cuda.is_available() else \"cpu\")\n",
    "    model = model.to(device)\n",
    "    model.eval()\n",
    "    with torch.no_grad():\n",
    "        x_valid_array = np.array(x_valid)\n",
    "        x_valid_tensor = torch.from_numpy(x_valid_array).float().to(device)\n",
    "        y_pred = model.predict(x = x_valid_tensor)\n",
    "\n",
    "    print(f'\\nTop {num_samples} Predictions:\\n')\n",
    "    num_samples = min(num_samples, len(x_valid))\n",
    "    plt.figure(figsize=(2 * num_samples, 2))\n",
    "    for i in range(num_samples):\n",
    "        plt.subplot(1, num_samples, i + 1)\n",
    "        plt.imshow(x_valid[i], cmap='gray')\n",
    "        plt.title(f'Pred: {label_decoding[y_pred[i]]}\\nTrue: {label_decoding[y_valid[i]]}')\n",
    "        plt.axis('off')\n",
    "    plt.tight_layout()\n",
    "    plt.show()\n",
    "\n",
    "show_sample_predictions(model, x_valid, y_valid, label_decoding=label_decoding, num_samples=5)"
   ]
  },
  {
   "cell_type": "code",
   "execution_count": null,
   "metadata": {},
   "outputs": [],
   "source": []
  },
  {
   "cell_type": "code",
   "execution_count": null,
   "metadata": {},
   "outputs": [],
   "source": []
  }
 ],
 "metadata": {
  "kernelspec": {
   "display_name": "Python 3",
   "language": "python",
   "name": "python3"
  },
  "language_info": {
   "codemirror_mode": {
    "name": "ipython",
    "version": 3
   },
   "file_extension": ".py",
   "mimetype": "text/x-python",
   "name": "python",
   "nbconvert_exporter": "python",
   "pygments_lexer": "ipython3",
   "version": "3.10.7"
  }
 },
 "nbformat": 4,
 "nbformat_minor": 2
}
