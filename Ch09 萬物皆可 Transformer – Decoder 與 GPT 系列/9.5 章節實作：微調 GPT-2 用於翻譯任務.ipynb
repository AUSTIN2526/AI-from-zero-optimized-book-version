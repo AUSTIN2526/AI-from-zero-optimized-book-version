{
 "cells": [
  {
   "cell_type": "markdown",
   "metadata": {},
   "source": [
    "## 轉換資料型態"
   ]
  },
  {
   "cell_type": "markdown",
   "metadata": {},
   "source": [
    "# 固定亂數"
   ]
  },
  {
   "cell_type": "code",
   "execution_count": 1,
   "metadata": {},
   "outputs": [],
   "source": [
    "import torch\n",
    "import numpy as np\n",
    "import random\n",
    "\n",
    "def set_seeds(seed):\n",
    "    random.seed(seed)  # 設定 Python 標準庫的亂數生成器種子\n",
    "    np.random.seed(seed)  # 設定 NumPy 亂數生成器種子\n",
    "    torch.manual_seed(seed)  # 設定 PyTorch 的 CPU 亂數生成器種子\n",
    "    if torch.cuda.is_available():\n",
    "        torch.cuda.manual_seed(seed)  # 設定 PyTorch 在單個 GPU 上的亂數種子\n",
    "        torch.cuda.manual_seed_all(seed)  # 設定 PyTorch 在所有 GPU 上的亂數種子\n",
    "    torch.backends.cudnn.benchmark = False  # 禁用 cuDNN 的基準測試功能\n",
    "    torch.backends.cudnn.deterministic = True  # 強制 cuDNN 使用確定性算法\n",
    "\n",
    "set_seeds(2526)"
   ]
  },
  {
   "cell_type": "markdown",
   "metadata": {},
   "source": [
    "## 重新讀取CSV檔案"
   ]
  },
  {
   "cell_type": "code",
   "execution_count": 2,
   "metadata": {},
   "outputs": [],
   "source": [
    "import pandas as pd\n",
    "from sklearn.model_selection import train_test_split\n",
    "\n",
    "df = pd.read_csv('translate.csv')\n",
    "input_texts = df['chinese'].values\n",
    "target_texts = df['english'].values\n",
    "\n",
    "x_train, x_val, y_train, y_val = train_test_split(input_texts, target_texts, train_size=0.8, random_state=46)"
   ]
  },
  {
   "cell_type": "code",
   "execution_count": 3,
   "metadata": {},
   "outputs": [
    {
     "name": "stderr",
     "output_type": "stream",
     "text": [
      "c:\\Users\\user\\AppData\\Local\\Programs\\Python\\Python310\\lib\\site-packages\\tqdm\\auto.py:21: TqdmWarning: IProgress not found. Please update jupyter and ipywidgets. See https://ipywidgets.readthedocs.io/en/stable/user_install.html\n",
      "  from .autonotebook import tqdm as notebook_tqdm\n"
     ]
    }
   ],
   "source": [
    "from transformers import AutoTokenizer, AutoModelForCausalLM\n",
    "\n",
    "tokenizer = AutoTokenizer.from_pretrained(\"openai-community/gpt2\")\n",
    "model = AutoModelForCausalLM.from_pretrained(\"openai-community/gpt2\")\n",
    "tokenizer.pad_token = tokenizer.eos_token  # 避免 padding 出錯\n",
    "tokenizer.padding_side='left'"
   ]
  },
  {
   "cell_type": "code",
   "execution_count": null,
   "metadata": {},
   "outputs": [],
   "source": [
    "from torch.utils.data import Dataset, DataLoader\n",
    "\n",
    "# ---------- 自訂 Dataset 類別 ----------\n",
    "class GPT2TranslateDataset(Dataset):\n",
    "    def __init__(self, sources, targets, tokenizer, prompt=\"Translate Chinese to English: {} =>\"):\n",
    "        self.sources = sources\n",
    "        self.targets = targets\n",
    "        self.tokenizer = tokenizer\n",
    "        self.prompt = prompt\n",
    "\n",
    "    def __len__(self):\n",
    "        return len(self.sources)\n",
    "\n",
    "    def __getitem__(self, idx):\n",
    "        return self.sources[idx], self.targets[idx]\n",
    "\n",
    "    def collate_fn(self, batch):\n",
    "        sources, targets = zip(*batch)\n",
    "        texts = [self.prompt.format(src) + tgt + self.tokenizer.eos_token for src, tgt in zip(sources, targets)]\n",
    "\n",
    "        tokenized = self.tokenizer(texts, padding=True, truncation=True, max_length=512, return_tensors='pt')\n",
    "\n",
    "        input_ids = tokenized['input_ids']\n",
    "        attention_mask = tokenized['attention_mask']\n",
    "\n",
    "        labels = input_ids.clone()\n",
    "        labels[attention_mask == 0] = -100\n",
    "\n",
    "        return {\n",
    "            'input_ids': input_ids,\n",
    "            'attention_mask': attention_mask,\n",
    "            'labels': labels\n",
    "        }\n",
    "    \n",
    "    def better_collate_fn(self, batch):\n",
    "        \n",
    "        sources, targets = zip(*batch)\n",
    "        prompts = [self.prompt.format(src) for src in sources]\n",
    "        targets = [tgt + self.tokenizer.eos_token for tgt in targets]\n",
    "\n",
    "        # Tokenize\n",
    "        source_tokens = self.tokenizer(prompts, padding=True, truncation=True, max_length=256, add_special_tokens=False, return_tensors='pt')\n",
    "        target_tokens = self.tokenizer(targets, padding=True, truncation=True, max_length=256, add_special_tokens=False, return_tensors='pt')\n",
    "\n",
    "        src_input_ids = source_tokens[\"input_ids\"]\n",
    "        tgt_input_ids = target_tokens[\"input_ids\"]\n",
    "        tgt_attention_mask = target_tokens[\"attention_mask\"]\n",
    "\n",
    "        input_ids = torch.cat((src_input_ids, tgt_input_ids), dim=1)\n",
    "        attention_mask = torch.cat((source_tokens[\"attention_mask\"], tgt_attention_mask), dim=1)\n",
    "\n",
    "        src_label_mask = torch.full_like(src_input_ids, -100)\n",
    "        tgt_label_mask = tgt_input_ids.clone()\n",
    "        tgt_label_mask[tgt_attention_mask == 0] = -100  # Mask padding in target\n",
    "\n",
    "        labels = torch.cat((src_label_mask, tgt_label_mask), dim=1)\n",
    "\n",
    "        return {\n",
    "            \"input_ids\": input_ids,\n",
    "            \"attention_mask\": attention_mask,\n",
    "            \"labels\": labels\n",
    "        }\n",
    "\n",
    "\n",
    "\n",
    "prompt_template=\"Translate Chinese to English: {} =>\"\n",
    "trainset = GPT2TranslateDataset(x_train, y_train, tokenizer, prompt_template)\n",
    "validset = GPT2TranslateDataset(x_val, y_val, tokenizer, prompt_template)\n",
    "\n",
    "train_loader = DataLoader(\n",
    "    trainset,\n",
    "    batch_size = 16,\n",
    "    shuffle = True,\n",
    "    num_workers = 0,\n",
    "    pin_memory = True,\n",
    "    collate_fn = trainset.collate_fn\n",
    ")\n",
    "\n",
    "valid_loader = DataLoader(\n",
    "    validset,\n",
    "    batch_size = 16,\n",
    "    shuffle = False,\n",
    "    num_workers = 0,\n",
    "    pin_memory = True,\n",
    "    collate_fn = validset.collate_fn\n",
    ")"
   ]
  },
  {
   "cell_type": "code",
   "execution_count": 5,
   "metadata": {},
   "outputs": [
    {
     "name": "stdout",
     "output_type": "stream",
     "text": [
      "Using device: cuda\n"
     ]
    },
    {
     "name": "stderr",
     "output_type": "stream",
     "text": [
      "  0%|          | 0/1496 [00:00<?, ?it/s]`loss_type=None` was set in the config but it is unrecognised.Using the default loss: `ForCausalLMLoss`.\n",
      "Train Epoch 0: 100%|██████████| 1496/1496 [01:19<00:00, 18.79it/s, loss=1.619]\n",
      "Valid Epoch 0: 100%|██████████| 374/374 [00:06<00:00, 57.72it/s, loss=1.606]\n"
     ]
    },
    {
     "name": "stdout",
     "output_type": "stream",
     "text": [
      "Saving Model With Loss 1.57307\n",
      "Train Loss: 1.94642| Valid Loss: 1.57307| Best Loss: 1.57307\n",
      "\n"
     ]
    },
    {
     "name": "stderr",
     "output_type": "stream",
     "text": [
      "Train Epoch 1: 100%|██████████| 1496/1496 [01:19<00:00, 18.93it/s, loss=1.436]\n",
      "Valid Epoch 1: 100%|██████████| 374/374 [00:06<00:00, 57.52it/s, loss=1.508]\n"
     ]
    },
    {
     "name": "stdout",
     "output_type": "stream",
     "text": [
      "Saving Model With Loss 1.42214\n",
      "Train Loss: 1.39154| Valid Loss: 1.42214| Best Loss: 1.42214\n",
      "\n"
     ]
    },
    {
     "name": "stderr",
     "output_type": "stream",
     "text": [
      "Train Epoch 2: 100%|██████████| 1496/1496 [01:18<00:00, 19.08it/s, loss=1.091]\n",
      "Valid Epoch 2: 100%|██████████| 374/374 [00:06<00:00, 59.31it/s, loss=1.416]\n"
     ]
    },
    {
     "name": "stdout",
     "output_type": "stream",
     "text": [
      "Saving Model With Loss 1.38800\n",
      "Train Loss: 1.18496| Valid Loss: 1.38800| Best Loss: 1.38800\n",
      "\n"
     ]
    },
    {
     "name": "stderr",
     "output_type": "stream",
     "text": [
      "Train Epoch 3: 100%|██████████| 1496/1496 [01:17<00:00, 19.23it/s, loss=1.147]\n",
      "Valid Epoch 3: 100%|██████████| 374/374 [00:06<00:00, 59.37it/s, loss=1.466]\n"
     ]
    },
    {
     "name": "stdout",
     "output_type": "stream",
     "text": [
      "Saving Model With Loss 1.37357\n",
      "Train Loss: 1.05433| Valid Loss: 1.37357| Best Loss: 1.37357\n",
      "\n"
     ]
    },
    {
     "name": "stderr",
     "output_type": "stream",
     "text": [
      "Train Epoch 4: 100%|██████████| 1496/1496 [01:18<00:00, 19.17it/s, loss=0.976]\n",
      "Valid Epoch 4: 100%|██████████| 374/374 [00:06<00:00, 58.71it/s, loss=1.496]\n"
     ]
    },
    {
     "name": "stdout",
     "output_type": "stream",
     "text": [
      "Train Loss: 0.95323| Valid Loss: 1.37401| Best Loss: 1.37357\n",
      "\n"
     ]
    },
    {
     "name": "stderr",
     "output_type": "stream",
     "text": [
      "Train Epoch 5: 100%|██████████| 1496/1496 [01:18<00:00, 18.99it/s, loss=0.827]\n",
      "Valid Epoch 5: 100%|██████████| 374/374 [00:06<00:00, 58.84it/s, loss=1.476]\n"
     ]
    },
    {
     "name": "stdout",
     "output_type": "stream",
     "text": [
      "Train Loss: 0.87118| Valid Loss: 1.38900| Best Loss: 1.37357\n",
      "\n",
      "------------------------------------\n",
      "|Model can't improve, stop training|\n",
      "------------------------------------\n"
     ]
    },
    {
     "data": {
      "image/png": "[encoded data removed]",
      "text/plain": [
       "<Figure size 640x480 with 1 Axes>"
      ]
     },
     "metadata": {},
     "output_type": "display_data"
    },
    {
     "name": "stdout",
     "output_type": "stream",
     "text": [
      "Best model loaded from ./checkpoints\\best_model.ckpt\n"
     ]
    }
   ],
   "source": [
    "from Trainer import Trainer\n",
    "import torch.optim as optim\n",
    "from transformers import get_cosine_schedule_with_warmup\n",
    "\n",
    "# 總步數 = epoch 數 * 每個 epoch 的 batch 數\n",
    "num_training_steps = len(train_loader) * 100  # 100 是總 epoch 數\n",
    "num_warmup_steps = int(0.2 * len(train_loader))  # 可調整 warmup 比例\n",
    "\n",
    "optimizer = optim.AdamW(model.parameters(), lr=1e-3)\n",
    "scheduler = get_cosine_schedule_with_warmup(\n",
    "    optimizer,\n",
    "    num_warmup_steps=num_warmup_steps,\n",
    "    num_training_steps=num_training_steps,\n",
    ")\n",
    "trainer = Trainer(\n",
    "    epochs=100,\n",
    "    train_loader=train_loader,\n",
    "    valid_loader=valid_loader,\n",
    "    model=model,\n",
    "    optimizer=optimizer,\n",
    "    scheduler=scheduler,\n",
    "    early_stopping=2,\n",
    "    load_best_model=True,\n",
    "    grad_clip=1.0,\n",
    ")\n",
    "\n",
    "trainer.train(show_loss=True)"
   ]
  },
  {
   "cell_type": "code",
   "execution_count": null,
   "metadata": {},
   "outputs": [
    {
     "name": "stderr",
     "output_type": "stream",
     "text": [
      "Translating: 100%|██████████| 748/748 [02:57<00:00,  4.21it/s]\n"
     ]
    },
    {
     "name": "stdout",
     "output_type": "stream",
     "text": [
      "Corpus BLEU: 28.62\n"
     ]
    },
    {
     "ename": "",
     "evalue": "",
     "output_type": "error",
     "traceback": [
      "\u001b[1;31mThe Kernel crashed while executing code in the current cell or a previous cell. \n",
      "\u001b[1;31mPlease review the code in the cell(s) to identify a possible cause of the failure. \n",
      "\u001b[1;31mClick <a href='https://aka.ms/vscodeJupyterKernelCrash'>here</a> for more info. \n",
      "\u001b[1;31mView Jupyter <a href='command:jupyter.viewOutput'>log</a> for further details."
     ]
    }
   ],
   "source": [
    "import torch\n",
    "import sacrebleu\n",
    "from tqdm import tqdm\n",
    "\n",
    "def translate_and_show_results(model, tokenizer, x_valid_input, y_valid, batch_size, prompt_template):\n",
    "    model.eval()\n",
    "    device = torch.device('cuda' if torch.cuda.is_available() else 'cpu')\n",
    "    model.to(device)\n",
    "\n",
    "    all_hyps = []\n",
    "    all_refs = []\n",
    "\n",
    "    for i in tqdm(range(0, len(x_valid_input), batch_size), desc=\"Translating\"):\n",
    "        batch_inputs = x_valid_input[i:i+batch_size]\n",
    "        batch_labels = y_valid[i:i+batch_size]\n",
    "\n",
    "        prompts = [prompt_template.format(src) for src in batch_inputs]\n",
    "\n",
    "        inputs = tokenizer(\n",
    "            prompts,\n",
    "            max_length=256,\n",
    "            truncation=True,\n",
    "            padding='longest',\n",
    "            return_tensors='pt'\n",
    "        )\n",
    "\n",
    "        inputs = {k: v.to(device) for k, v in inputs.items()}\n",
    "        generated_ids = model.generate(\n",
    "            **inputs,\n",
    "            max_length=256,\n",
    "            num_beams=5,  \n",
    "            early_stopping=True,\n",
    "            pad_token_id=tokenizer.eos_token_id\n",
    "        )\n",
    "\n",
    "        translated = tokenizer.batch_decode(generated_ids, skip_special_tokens=True)\n",
    "        for j, text in enumerate(translated):\n",
    "            text = text.split('=>')[1].strip()\n",
    "            label = str(batch_labels[j]).strip()\n",
    "            all_hyps.append(text)\n",
    "            all_refs.append(label)\n",
    "\n",
    "    bleu = sacrebleu.corpus_bleu(all_hyps, [all_refs], lowercase=True)\n",
    "    print(f\"Corpus BLEU: {bleu.score:.2f}\")\n",
    "\n",
    "prompt_template = \"Translate Chinese to English: {} =>\"\n",
    "translate_and_show_results(model, tokenizer, x_val, y_val, batch_size=8, prompt_template=prompt_template)"
   ]
  },
  {
   "cell_type": "code",
   "execution_count": null,
   "metadata": {},
   "outputs": [],
   "source": []
  }
 ],
 "metadata": {
  "kernelspec": {
   "display_name": "Python 3",
   "language": "python",
   "name": "python3"
  },
  "language_info": {
   "codemirror_mode": {
    "name": "ipython",
    "version": 3
   },
   "file_extension": ".py",
   "mimetype": "text/x-python",
   "name": "python",
   "nbconvert_exporter": "python",
   "pygments_lexer": "ipython3",
   "version": "3.10.7"
  }
 },
 "nbformat": 4,
 "nbformat_minor": 2
}
