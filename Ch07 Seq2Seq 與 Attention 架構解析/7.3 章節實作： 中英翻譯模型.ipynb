{
 "cells": [
  {
   "cell_type": "markdown",
   "metadata": {},
   "source": [
    "## 轉換資料型態"
   ]
  },
  {
   "cell_type": "markdown",
   "metadata": {},
   "source": [
    "# 固定亂數"
   ]
  },
  {
   "cell_type": "code",
   "execution_count": 1,
   "metadata": {},
   "outputs": [],
   "source": [
    "import torch\n",
    "import numpy as np\n",
    "import random\n",
    "\n",
    "def set_seeds(seed):\n",
    "    random.seed(seed)  # 設定 Python 標準庫的亂數生成器種子\n",
    "    np.random.seed(seed)  # 設定 NumPy 亂數生成器種子\n",
    "    torch.manual_seed(seed)  # 設定 PyTorch 的 CPU 亂數生成器種子\n",
    "    if torch.cuda.is_available():\n",
    "        torch.cuda.manual_seed(seed)  # 設定 PyTorch 在單個 GPU 上的亂數種子\n",
    "        torch.cuda.manual_seed_all(seed)  # 設定 PyTorch 在所有 GPU 上的亂數種子\n",
    "    torch.backends.cudnn.benchmark = False  # 禁用 cuDNN 的基準測試功能\n",
    "    torch.backends.cudnn.deterministic = True  # 強制 cuDNN 使用確定性算法\n",
    "\n",
    "set_seeds(2526)"
   ]
  },
  {
   "cell_type": "markdown",
   "metadata": {},
   "source": [
    "## 重新讀取CSV檔案"
   ]
  },
  {
   "cell_type": "code",
   "execution_count": 2,
   "metadata": {},
   "outputs": [],
   "source": [
    "import pandas as pd\n",
    "df = pd.read_csv('translate.csv')\n",
    "input_texts = df['chinese'].values\n",
    "target_texts = df['english'].values"
   ]
  },
  {
   "cell_type": "markdown",
   "metadata": {},
   "source": [
    "# 讀取中英文Tokenizer"
   ]
  },
  {
   "cell_type": "code",
   "execution_count": 3,
   "metadata": {},
   "outputs": [
    {
     "name": "stderr",
     "output_type": "stream",
     "text": [
      "c:\\Users\\user\\AppData\\Local\\Programs\\Python\\Python310\\lib\\site-packages\\tqdm\\auto.py:21: TqdmWarning: IProgress not found. Please update jupyter and ipywidgets. See https://ipywidgets.readthedocs.io/en/stable/user_install.html\n",
      "  from .autonotebook import tqdm as notebook_tqdm\n"
     ]
    },
    {
     "name": "stdout",
     "output_type": "stream",
     "text": [
      "中文轉換後的結果: [CLS] 我 沒 事 。 [SEP] \n",
      "英文轉換後的結果: [CLS] i'm ok. [SEP]\n"
     ]
    }
   ],
   "source": [
    "from transformers import AutoTokenizer\n",
    "def process_texts(tokenizer, texts):\n",
    "    ids = tokenizer(texts[20]).input_ids\n",
    "    return tokenizer.decode(ids)\n",
    "\n",
    "src_tokenizer = AutoTokenizer.from_pretrained('bert-base-chinese')\n",
    "tgt_tokenizer = AutoTokenizer.from_pretrained('bert-base-uncased', use_fast=False)\n",
    "\n",
    "cn_text = process_texts(src_tokenizer, input_texts)\n",
    "en_text = process_texts(tgt_tokenizer, target_texts)\n",
    "\n",
    "print('中文轉換後的結果:',cn_text,'\\n英文轉換後的結果:', en_text)"
   ]
  },
  {
   "cell_type": "code",
   "execution_count": 4,
   "metadata": {},
   "outputs": [],
   "source": [
    "from torch.utils.data import Dataset, DataLoader\n",
    "from sklearn.model_selection import train_test_split\n",
    "\n",
    "class TranslateDataset(Dataset):\n",
    "    def __init__(self, x, y, src_tokenizer, tgt_tokenizer):\n",
    "        self.x = x\n",
    "        self.y = y\n",
    "        self.src_tokenizer = src_tokenizer\n",
    "        self.tgt_tokenizer = tgt_tokenizer\n",
    "\n",
    "    def __getitem__(self, index):\n",
    "        return self.x[index], self.y[index]\n",
    "       \n",
    "    def __len__(self):\n",
    "        return len(self.x)\n",
    "    \n",
    "    def collate_fn(self, batch):    \n",
    "        batch_x, batch_y = zip(*batch)\n",
    "        src_tokens = self.src_tokenizer(\n",
    "            list(batch_x),\n",
    "            max_length=256,\n",
    "            truncation=True,\n",
    "            padding=\"longest\",\n",
    "            return_tensors='pt'\n",
    "        )\n",
    "        tgt_tokens = self.tgt_tokenizer(\n",
    "            list(batch_y),\n",
    "            max_length=256,\n",
    "            truncation=True,\n",
    "            padding=\"longest\",\n",
    "            return_tensors='pt'\n",
    "        )\n",
    "       \n",
    "        return {\n",
    "            'input_ids': src_tokens.input_ids,\n",
    "            'labels': tgt_tokens.input_ids\n",
    "        }\n",
    "\n",
    "        \n",
    "x_train, x_valid, y_train, y_valid = train_test_split(\n",
    "    input_texts,\n",
    "    target_texts,\n",
    "    train_size=0.8,\n",
    "    random_state=46,\n",
    "    shuffle=True\n",
    ")\n",
    "\n",
    "trainset = TranslateDataset(x_train, y_train, src_tokenizer, tgt_tokenizer)\n",
    "validset = TranslateDataset(x_valid, y_valid, src_tokenizer, tgt_tokenizer)\n",
    "\n",
    "train_loader = DataLoader(\n",
    "    trainset,\n",
    "    batch_size=64,\n",
    "    shuffle=True,\n",
    "    num_workers=0,\n",
    "    pin_memory=True,\n",
    "    collate_fn=trainset.collate_fn\n",
    ")\n",
    "valid_loader = DataLoader(\n",
    "    validset,\n",
    "    batch_size=64,\n",
    "    shuffle=True,\n",
    "    num_workers=0,\n",
    "    pin_memory=True,\n",
    "    collate_fn=validset.collate_fn\n",
    ")"
   ]
  },
  {
   "cell_type": "code",
   "execution_count": null,
   "metadata": {},
   "outputs": [],
   "source": [
    "import torch\n",
    "import torch.nn as nn\n",
    "\n",
    "class EncoderGRU(nn.Module):\n",
    "    def __init__(self, vocab_size, hidden_size, padding_idx):\n",
    "        super(EncoderGRU, self).__init__()\n",
    "        self.embedding = nn.Embedding(vocab_size, hidden_size, padding_idx=padding_idx)\n",
    "        self.gru = nn.GRU(hidden_size, hidden_size, batch_first=True)\n",
    "        self.dropout = nn.Dropout(0.1)\n",
    "\n",
    "    def forward(self, token_ids):\n",
    "        embedded = self.dropout(self.embedding(token_ids))\n",
    "        # embedded: (batch_size, time_step, emb_dim)\n",
    "        output, hidden = self.gru(embedded)\n",
    "        # output: (batch_size, time_step, hidden_size)\n",
    "        # hidden: (1, batch_size, hidden_size)\n",
    "        return output, hidden\n",
    "\n",
    "class BahdanauAttention(nn.Module):\n",
    "    def __init__(self, hidden_size):\n",
    "        super(BahdanauAttention, self).__init__()\n",
    "        self.encoder_projection = nn.Linear(hidden_size, hidden_size)\n",
    "        self.decoder_projection = nn.Linear(hidden_size, hidden_size)\n",
    "        self.attention_v = nn.Linear(hidden_size, 1)\n",
    "        self.tanh = nn.Tanh()\n",
    "        self.softmax = nn.Softmax(dim=-1)\n",
    "\n",
    "    def forward(self, encoder_hidden, decoder_hidden):\n",
    "        energy = self.tanh(self.encoder_projection(encoder_hidden) + self.decoder_projection(decoder_hidden))\n",
    "        # energy: (batch_size, time_step, hidden_size)\n",
    "        scores = self.attention_v(energy)\n",
    "        # scores: (batch_size, time_step, 1)\n",
    "        scores = scores.squeeze(2).unsqueeze(1)\n",
    "        # scores: (batch_size, 1, time_step)\n",
    "\n",
    "        attention_weights = self.softmax(scores)\n",
    "        # attention_weights: (batch_size, 1, time_step)\n",
    "        context_vector = torch.bmm(attention_weights, encoder_hidden)\n",
    "        # context_vector: (batch_size, 1, hidden_size)\n",
    "        return context_vector\n",
    "\n",
    "class DecoderGRU(nn.Module):\n",
    "    def __init__(self, attention, hidden_size, output_size, padding_idx):\n",
    "        super(DecoderGRU, self).__init__()\n",
    "        self.embedding = nn.Embedding(output_size, hidden_size, padding_idx=padding_idx)\n",
    "        self.gru = nn.GRU(2 * hidden_size, hidden_size, batch_first=True)\n",
    "        self.output_projection = nn.Linear(hidden_size, output_size)\n",
    "        self.dropout = nn.Dropout(0.1)\n",
    "        self.attention = attention\n",
    "\n",
    "    def forward(self, encoder_outputs, decoder_hidden, decoder_input_ids):\n",
    "        # decoder_input_ids: (batch_size, 1)\n",
    "        embedded = self.dropout(self.embedding(decoder_input_ids))\n",
    "        # embedded: (batch_size, 1, emb_dim)\n",
    "        decoder_state = decoder_hidden.permute(1, 0, 2)\n",
    "        # decoder_state: (batch_size, 1, emb_dim)\n",
    "        context = self.attention(encoder_outputs, decoder_state)\n",
    "        # context: (batch_size, 1, hidden_size)\n",
    "        input_gru = torch.cat((embedded, context), dim=-1)\n",
    "        # input_gru: (batch_size, 1, hidden_size + emb_dim)\n",
    "        output, decoder_hidden = self.gru(input_gru, decoder_hidden)\n",
    "        # output: (batch_size, time_step, hidden_size)\n",
    "        # decoder_hidden: (1, batch_size, hidden_size)\n",
    "        decoder_output = self.output_projection(output)\n",
    "        # decoder_output: (batch_size, 1, output_size)\n",
    "        return decoder_output, decoder_hidden\n",
    "\n",
    "class Attentionseq2seq(nn.Module):\n",
    "    def __init__(self, src_vocab_size, tgt_vocab_size, hidden_size, padding_idx, bos_token_id, eos_token_id):\n",
    "        super(Attentionseq2seq, self).__init__()\n",
    "        self.encoder = EncoderGRU(src_vocab_size, hidden_size, padding_idx)\n",
    "        self.attention = BahdanauAttention(hidden_size)\n",
    "        self.decoder = DecoderGRU(self.attention, hidden_size, tgt_vocab_size, padding_idx)\n",
    "        self.criterion = nn.NLLLoss(ignore_index=padding_idx)\n",
    "        self.logsoftmax = nn.LogSoftmax(dim=-1)\n",
    "        self.padding_idx = padding_idx\n",
    "        self.bos_token_id = bos_token_id\n",
    "        self.eos_token_id = eos_token_id\n",
    "\n",
    "    def forward(self, **kwargs):\n",
    "        input_ids = kwargs['input_ids']\n",
    "        targets = kwargs['labels']\n",
    "        \n",
    "        # Encoder\n",
    "        encoder_outputs, decoder_hidden = self.encoder(input_ids)\n",
    "        # encoder_outputs: (batch_size, time_step, hidden_size)\n",
    "        # decoder_hidden: (1, batch_size, hidden_size)\n",
    "        \n",
    "        # 修正：使用 BOS token 作為第一個輸入\n",
    "        # targets[:, 0] 應該就是 BOS token (101)\n",
    "        decoder_next_input = targets[:, 0].unsqueeze(1)  # BOS token\n",
    "        # decoder_next_input: (batch_size, 1)\n",
    "\n",
    "        # Decoder\n",
    "        decoder_outputs = []\n",
    "        # 修正：範圍應該是 targets.shape[1] - 1，因為最後一個 token 不需要預測\n",
    "        for i in range(1, targets.shape[1]):\n",
    "            decoder_output, decoder_hidden = self.decoder(encoder_outputs, decoder_hidden, decoder_next_input)\n",
    "            # decoder_output: (batch_size, 1, output_size)\n",
    "            \n",
    "            decoder_outputs.append(decoder_output)\n",
    "            \n",
    "            # 修正：在訓練時使用 teacher forcing，用真實的 target token\n",
    "            # 但要確保不超過序列長度\n",
    "            if i < targets.shape[1] - 1:\n",
    "                decoder_next_input = targets[:, i].unsqueeze(1)\n",
    "            # decoder_next_input: (batch_size, 1)\n",
    "\n",
    "        decoder_outputs = torch.cat(decoder_outputs, dim=1)\n",
    "        # decoder_outputs: (batch_size, time_step - 1, output_dim)\n",
    "        decoder_outputs = self.logsoftmax(decoder_outputs)\n",
    "\n",
    "        # 修正：損失計算，targets[:, 1:] 對應預測的輸出\n",
    "        # 這樣 BOS -> 第一個真實token, 第一個真實token -> 第二個真實token, ..., 倒數第二個token -> EOS\n",
    "        loss = self.criterion(\n",
    "            decoder_outputs.contiguous().view(-1, decoder_outputs.size(-1)),\n",
    "            targets[:, 1:].contiguous().view(-1)\n",
    "        )\n",
    "\n",
    "        return loss, decoder_outputs\n",
    "    \n",
    "    @torch.no_grad()\n",
    "    def generate(self, max_len=50, **kwargs):\n",
    "        self.eval()\n",
    "        input_ids = kwargs['input_ids']\n",
    "        batch_size = input_ids.size(0)\n",
    "\n",
    "        # Encoder\n",
    "        encoder_outputs, decoder_hidden = self.encoder(input_ids)\n",
    "        \n",
    "        # 修正：生成時從 BOS token 開始\n",
    "        decoder_input = torch.full((batch_size, 1), self.bos_token_id, dtype=torch.long, device=input_ids.device)\n",
    "\n",
    "        generated_ids = []\n",
    "        finished = torch.zeros(batch_size, dtype=torch.bool, device=input_ids.device)\n",
    "\n",
    "        for _ in range(max_len):\n",
    "            decoder_output, decoder_hidden = self.decoder(encoder_outputs, decoder_hidden, decoder_input)\n",
    "            decoder_output = self.logsoftmax(decoder_output)\n",
    "            next_token = decoder_output.argmax(dim=-1)\n",
    "            # next_token: (batch_size, 1)\n",
    "\n",
    "            # 將已完成的序列填入 EOS，保持長度一致\n",
    "            next_token = next_token.masked_fill(finished.unsqueeze(1), self.eos_token_id)\n",
    "\n",
    "            generated_ids.append(next_token)\n",
    "            decoder_input = next_token\n",
    "\n",
    "            finished |= next_token.eq(self.eos_token_id).squeeze(1)\n",
    "\n",
    "            if finished.all():\n",
    "                break\n",
    "\n",
    "        generated_ids = torch.cat(generated_ids, dim=1)\n",
    "        return generated_ids\n",
    "\n",
    "\n",
    "\n",
    "\n",
    "model = Attentionseq2seq(\n",
    "     src_vocab_size=len(src_tokenizer),\n",
    "     tgt_vocab_size=len(tgt_tokenizer), \n",
    "     hidden_size=512, \n",
    "     padding_idx=src_tokenizer.pad_token_id,  # 0\n",
    "     bos_token_id=src_tokenizer.cls_token_id,  # 101\n",
    "     eos_token_id=src_tokenizer.sep_token_id   # 102\n",
    ")"
   ]
  },
  {
   "cell_type": "code",
   "execution_count": 6,
   "metadata": {},
   "outputs": [
    {
     "name": "stdout",
     "output_type": "stream",
     "text": [
      "Using device: cuda\n"
     ]
    },
    {
     "name": "stderr",
     "output_type": "stream",
     "text": [
      "Train Epoch 0: 100%|██████████| 374/374 [00:26<00:00, 14.21it/s, loss=2.781]\n",
      "Valid Epoch 0: 100%|██████████| 94/94 [00:02<00:00, 34.28it/s, loss=3.103]\n"
     ]
    },
    {
     "name": "stdout",
     "output_type": "stream",
     "text": [
      "Saving Model With Loss 2.88569\n",
      "Train Loss: 3.80172| Valid Loss: 2.88569| Best Loss: 2.88569\n",
      "\n"
     ]
    },
    {
     "name": "stderr",
     "output_type": "stream",
     "text": [
      "Train Epoch 1: 100%|██████████| 374/374 [00:25<00:00, 14.80it/s, loss=2.260]\n",
      "Valid Epoch 1: 100%|██████████| 94/94 [00:02<00:00, 34.74it/s, loss=2.026]\n"
     ]
    },
    {
     "name": "stdout",
     "output_type": "stream",
     "text": [
      "Saving Model With Loss 2.27312\n",
      "Train Loss: 2.28254| Valid Loss: 2.27312| Best Loss: 2.27312\n",
      "\n"
     ]
    },
    {
     "name": "stderr",
     "output_type": "stream",
     "text": [
      "Train Epoch 2: 100%|██████████| 374/374 [00:25<00:00, 14.46it/s, loss=1.599]\n",
      "Valid Epoch 2: 100%|██████████| 94/94 [00:02<00:00, 34.40it/s, loss=1.895]\n"
     ]
    },
    {
     "name": "stdout",
     "output_type": "stream",
     "text": [
      "Saving Model With Loss 2.01985\n",
      "Train Loss: 1.54751| Valid Loss: 2.01985| Best Loss: 2.01985\n",
      "\n"
     ]
    },
    {
     "name": "stderr",
     "output_type": "stream",
     "text": [
      "Train Epoch 3: 100%|██████████| 374/374 [00:26<00:00, 14.30it/s, loss=1.166]\n",
      "Valid Epoch 3: 100%|██████████| 94/94 [00:02<00:00, 33.64it/s, loss=1.837]\n"
     ]
    },
    {
     "name": "stdout",
     "output_type": "stream",
     "text": [
      "Saving Model With Loss 1.92716\n",
      "Train Loss: 1.06544| Valid Loss: 1.92716| Best Loss: 1.92716\n",
      "\n"
     ]
    },
    {
     "name": "stderr",
     "output_type": "stream",
     "text": [
      "Train Epoch 4: 100%|██████████| 374/374 [00:26<00:00, 14.11it/s, loss=0.732]\n",
      "Valid Epoch 4: 100%|██████████| 94/94 [00:02<00:00, 33.75it/s, loss=2.224]\n"
     ]
    },
    {
     "name": "stdout",
     "output_type": "stream",
     "text": [
      "Saving Model With Loss 1.91356\n",
      "Train Loss: 0.74259| Valid Loss: 1.91356| Best Loss: 1.91356\n",
      "\n"
     ]
    },
    {
     "name": "stderr",
     "output_type": "stream",
     "text": [
      "Train Epoch 5: 100%|██████████| 374/374 [00:26<00:00, 14.16it/s, loss=0.585]\n",
      "Valid Epoch 5: 100%|██████████| 94/94 [00:02<00:00, 33.46it/s, loss=1.713]\n"
     ]
    },
    {
     "name": "stdout",
     "output_type": "stream",
     "text": [
      "Train Loss: 0.53709| Valid Loss: 1.91838| Best Loss: 1.91356\n",
      "\n"
     ]
    },
    {
     "name": "stderr",
     "output_type": "stream",
     "text": [
      "Train Epoch 6: 100%|██████████| 374/374 [00:27<00:00, 13.63it/s, loss=0.446]\n",
      "Valid Epoch 6: 100%|██████████| 94/94 [00:02<00:00, 32.76it/s, loss=2.319]\n"
     ]
    },
    {
     "name": "stdout",
     "output_type": "stream",
     "text": [
      "Train Loss: 0.40330| Valid Loss: 1.95402| Best Loss: 1.91356\n",
      "\n"
     ]
    },
    {
     "name": "stderr",
     "output_type": "stream",
     "text": [
      "Train Epoch 7: 100%|██████████| 374/374 [00:26<00:00, 13.90it/s, loss=0.335]\n",
      "Valid Epoch 7: 100%|██████████| 94/94 [00:02<00:00, 33.72it/s, loss=2.015]\n"
     ]
    },
    {
     "name": "stdout",
     "output_type": "stream",
     "text": [
      "Train Loss: 0.31797| Valid Loss: 1.98599| Best Loss: 1.91356\n",
      "\n"
     ]
    },
    {
     "name": "stderr",
     "output_type": "stream",
     "text": [
      "Train Epoch 8: 100%|██████████| 374/374 [00:25<00:00, 14.45it/s, loss=0.348]\n",
      "Valid Epoch 8: 100%|██████████| 94/94 [00:02<00:00, 34.46it/s, loss=1.979]\n"
     ]
    },
    {
     "name": "stdout",
     "output_type": "stream",
     "text": [
      "Train Loss: 0.26024| Valid Loss: 2.01684| Best Loss: 1.91356\n",
      "\n"
     ]
    },
    {
     "name": "stderr",
     "output_type": "stream",
     "text": [
      "Train Epoch 9: 100%|██████████| 374/374 [00:25<00:00, 14.45it/s, loss=0.253]\n",
      "Valid Epoch 9: 100%|██████████| 94/94 [00:02<00:00, 34.44it/s, loss=1.723]\n"
     ]
    },
    {
     "name": "stdout",
     "output_type": "stream",
     "text": [
      "Train Loss: 0.22252| Valid Loss: 2.06072| Best Loss: 1.91356\n",
      "\n",
      "------------------------------------\n",
      "|Model can't improve, stop training|\n",
      "------------------------------------\n"
     ]
    },
    {
     "data": {
      "image/png": "[encoded data removed]",
      "text/plain": [
       "<Figure size 640x480 with 1 Axes>"
      ]
     },
     "metadata": {},
     "output_type": "display_data"
    },
    {
     "name": "stdout",
     "output_type": "stream",
     "text": [
      "Best model loaded from ./checkpoints\\best_model.ckpt\n"
     ]
    }
   ],
   "source": [
    "from Trainer import Trainer\n",
    "import torch.optim as optim\n",
    "\n",
    "optimizer = optim.AdamW(model.parameters(), lr=1e-3)\n",
    "trainer = Trainer(\n",
    "    epochs=100,\n",
    "    train_loader=train_loader,\n",
    "    valid_loader=valid_loader,\n",
    "    model=model,\n",
    "    optimizer=optimizer,\n",
    "    early_stopping=5,\n",
    "    load_best_model=True,\n",
    "    grad_clip=1.0,\n",
    ")\n",
    "\n",
    "trainer.train(show_loss=True)"
   ]
  },
  {
   "cell_type": "code",
   "execution_count": 7,
   "metadata": {},
   "outputs": [
    {
     "name": "stdout",
     "output_type": "stream",
     "text": [
      "Corpus BLEU: 26.29\n"
     ]
    }
   ],
   "source": [
    "import torch\n",
    "import sacrebleu\n",
    "\n",
    "def translate_and_show_results(model, src_tokenizer, tgt_tokenizer, x_valid_input, y_valid, batch_size):\n",
    "    model.eval()\n",
    "\n",
    "    device = torch.device('cuda' if torch.cuda.is_available() else 'cpu')\n",
    "    model.to(device)\n",
    "\n",
    "    all_hyps = []\n",
    "    all_refs = []\n",
    "\n",
    "    for i in range(0, len(x_valid_input), batch_size):\n",
    "        batch_inputs = x_valid_input[i:i+batch_size]\n",
    "        batch_labels = y_valid[i:i+batch_size]\n",
    "\n",
    "        inputs = src_tokenizer(\n",
    "            list(batch_inputs),\n",
    "            max_length=256,\n",
    "            truncation=True,\n",
    "            padding='longest',\n",
    "            return_tensors='pt'\n",
    "        )\n",
    "\n",
    "        inputs = {k: v.to(device) for k, v in inputs.items()}\n",
    "        generated_ids = model.generate(\n",
    "            **inputs,\n",
    "            max_length=256,\n",
    "        )\n",
    "\n",
    "        translated = tgt_tokenizer.batch_decode(\n",
    "            generated_ids,\n",
    "            skip_special_tokens=True\n",
    "        )\n",
    "\n",
    "        for j, text in enumerate(translated):\n",
    "            label = str(batch_labels[j])\n",
    "            all_hyps.append(text)\n",
    "            all_refs.append(label)\n",
    "\n",
    "    # 計算 BLEU 分數（不分大小寫，已移除多餘空白）\n",
    "    bleu = sacrebleu.corpus_bleu(all_hyps, [all_refs], lowercase=True)\n",
    "    print(f\"Corpus BLEU: {bleu.score:.2f}\")\n",
    "\n",
    "translate_and_show_results(model, src_tokenizer, tgt_tokenizer, x_valid, y_valid, 16)"
   ]
  },
  {
   "cell_type": "code",
   "execution_count": 8,
   "metadata": {},
   "outputs": [
    {
     "name": "stdout",
     "output_type": "stream",
     "text": [
      "[1]\n",
      "Input     : 他要愛。\n",
      "Prediction: he loves.\n",
      "Reference : He wants affection.\n",
      "\n",
      "[2]\n",
      "Input     : 別再讓我做那事了。\n",
      "Prediction: don't let me do that again.\n",
      "Reference : Don't make me do that again.\n",
      "\n",
      "[3]\n",
      "Input     : 我們愛湯姆。\n",
      "Prediction: we love tom.\n",
      "Reference : We love Tom.\n",
      "\n"
     ]
    }
   ],
   "source": [
    "import torch\n",
    "\n",
    "def translate_and_show_top_n(model, src_tokenizer, tgt_tokenizer, x_valid_input, y_valid, n, batch_size):\n",
    "    model.eval()\n",
    "\n",
    "    device = torch.device('cuda' if torch.cuda.is_available() else 'cpu')\n",
    "    model.to(device)\n",
    "\n",
    "    all_inputs = []\n",
    "    all_hyps = []\n",
    "    all_refs = []\n",
    "\n",
    "    count = 0\n",
    "    for i in range(0, len(x_valid_input), batch_size):\n",
    "        if count >= n:\n",
    "            break\n",
    "\n",
    "        batch_inputs = x_valid_input[i:i+batch_size]\n",
    "        batch_labels = y_valid[i:i+batch_size]\n",
    "\n",
    "        inputs = src_tokenizer(\n",
    "            list(batch_inputs),\n",
    "            max_length=256,\n",
    "            truncation=True,\n",
    "            padding='longest',\n",
    "            return_tensors='pt'\n",
    "        )\n",
    "\n",
    "        inputs = {k: v.to(device) for k, v in inputs.items()}\n",
    "        generated_ids = model.generate(\n",
    "            **inputs,\n",
    "            max_length=50,\n",
    "        )\n",
    "\n",
    "        translated = tgt_tokenizer.batch_decode(\n",
    "            generated_ids,\n",
    "            skip_special_tokens=True\n",
    "        )\n",
    "\n",
    "        for j, text in enumerate(translated):\n",
    "            if count >= n:\n",
    "                break\n",
    "            src_text = str(batch_inputs[j])\n",
    "            label = str(batch_labels[j])\n",
    "            all_inputs.append(src_text)\n",
    "            all_hyps.append(text)\n",
    "            all_refs.append(label)\n",
    "            count += 1\n",
    "\n",
    "    # 顯示前 N 筆翻譯結果\n",
    "    for idx in range(len(all_hyps)):\n",
    "        print(f\"[{idx+1}]\")\n",
    "        print(f\"Input     : {all_inputs[idx]}\")\n",
    "        print(f\"Prediction: {all_hyps[idx]}\")\n",
    "        print(f\"Reference : {all_refs[idx]}\")\n",
    "        print()\n",
    "\n",
    "translate_and_show_top_n(model, src_tokenizer, tgt_tokenizer, x_valid, y_valid, 3, 16)"
   ]
  },
  {
   "cell_type": "code",
   "execution_count": null,
   "metadata": {},
   "outputs": [],
   "source": []
  }
 ],
 "metadata": {
  "kernelspec": {
   "display_name": "Python 3",
   "language": "python",
   "name": "python3"
  },
  "language_info": {
   "codemirror_mode": {
    "name": "ipython",
    "version": 3
   },
   "file_extension": ".py",
   "mimetype": "text/x-python",
   "name": "python",
   "nbconvert_exporter": "python",
   "pygments_lexer": "ipython3",
   "version": "3.10.7"
  }
 },
 "nbformat": 4,
 "nbformat_minor": 2
}
