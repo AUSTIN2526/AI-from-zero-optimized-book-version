{
 "cells": [
  {
   "cell_type": "markdown",
   "metadata": {},
   "source": [
    "# 固定亂數確保每次執行結果相同"
   ]
  },
  {
   "cell_type": "code",
   "execution_count": 1,
   "metadata": {},
   "outputs": [],
   "source": [
    "import torch \n",
    "import numpy as np \n",
    "import random \n",
    "\n",
    "def same_seeds(seed):\n",
    "    random.seed(seed) \n",
    "    np.random.seed(seed)  \n",
    "    torch.manual_seed(seed)\n",
    "    if torch.cuda.is_available():\n",
    "        torch.cuda.manual_seed(seed)\n",
    "        torch.cuda.manual_seed_all(seed) \n",
    "    torch.backends.cudnn.benchmark = False\n",
    "    torch.backends.cudnn.deterministic = True\n",
    "    \n",
    "same_seeds(2526)"
   ]
  },
  {
   "cell_type": "code",
   "execution_count": 2,
   "metadata": {},
   "outputs": [
    {
     "name": "stderr",
     "output_type": "stream",
     "text": [
      "Loading Train/Airplane: 100%|██████████| 5000/5000 [00:00<00:00, 6084.64it/s]\n",
      "Loading Train/Bird: 100%|██████████| 5000/5000 [00:00<00:00, 6150.55it/s]\n",
      "Loading Train/Car: 100%|██████████| 5000/5000 [00:00<00:00, 6022.81it/s]\n",
      "Loading Train/Cat: 100%|██████████| 5000/5000 [00:00<00:00, 6058.54it/s]\n",
      "Loading Train/Deer: 100%|██████████| 5000/5000 [00:00<00:00, 6150.31it/s]\n",
      "Loading Train/Dog: 100%|██████████| 5000/5000 [00:00<00:00, 6155.64it/s]\n",
      "Loading Train/Frog: 100%|██████████| 5000/5000 [00:00<00:00, 6234.94it/s]\n",
      "Loading Train/Horse: 100%|██████████| 5000/5000 [00:00<00:00, 5893.27it/s]\n",
      "Loading Train/Ship: 100%|██████████| 5000/5000 [00:00<00:00, 5904.24it/s]\n",
      "Loading Train/Truck: 100%|██████████| 5000/5000 [00:00<00:00, 6162.40it/s]\n",
      "Loading Valid/Airplane: 100%|██████████| 1000/1000 [00:00<00:00, 5799.09it/s]\n",
      "Loading Valid/Bird: 100%|██████████| 1000/1000 [00:00<00:00, 6398.98it/s]\n",
      "Loading Valid/Car: 100%|██████████| 1000/1000 [00:00<00:00, 5851.91it/s]\n",
      "Loading Valid/Cat: 100%|██████████| 1000/1000 [00:00<00:00, 5792.01it/s]\n",
      "Loading Valid/Deer: 100%|██████████| 1000/1000 [00:00<00:00, 6396.43it/s]\n",
      "Loading Valid/Dog: 100%|██████████| 1000/1000 [00:00<00:00, 5835.25it/s]\n",
      "Loading Valid/Frog: 100%|██████████| 1000/1000 [00:00<00:00, 6417.67it/s]\n",
      "Loading Valid/Horse: 100%|██████████| 1000/1000 [00:00<00:00, 6400.77it/s]\n",
      "Loading Valid/Ship: 100%|██████████| 1000/1000 [00:00<00:00, 6415.40it/s]\n",
      "Loading Valid/Truck: 100%|██████████| 1000/1000 [00:00<00:00, 5709.02it/s]\n"
     ]
    }
   ],
   "source": [
    "import os, cv2, numpy as np\n",
    "from tqdm import tqdm\n",
    "\n",
    "def load_images_and_labels(root='Image'):\n",
    "    encode, decode = {}, {}\n",
    "    x_train, y_train, x_valid, y_valid = [], [], [], []\n",
    "\n",
    "    for idx, cls in enumerate(os.listdir(f'{root}/Train')):\n",
    "        encode[cls] = idx\n",
    "        decode[idx] = cls                  # 雙向對照表\n",
    "\n",
    "    for split in ['Train', 'Valid']:\n",
    "        for cls in os.listdir(f'{root}/{split}'):\n",
    "            path = f'{root}/{split}/{cls}'\n",
    "            for fname in tqdm(os.listdir(path), desc=f'Loading {split}/{cls}'):\n",
    "                img = cv2.imread(f'{path}/{fname}').astype('float32') / 255\n",
    "                if img is None:  # 避免讀檔失敗\n",
    "                    continue\n",
    "                img = np.transpose(img, (2, 0, 1))\n",
    "                (x_train if split == 'Train' else x_valid).append(img)\n",
    "                (y_train if split == 'Train' else y_valid).append(encode[cls])\n",
    "    return x_train, y_train, x_valid, y_valid, encode, decode\n",
    "\n",
    "\n",
    "x_train, y_train, x_valid, y_valid, label_encoding, label_decoding = load_images_and_labels('Image')"
   ]
  },
  {
   "cell_type": "code",
   "execution_count": 3,
   "metadata": {},
   "outputs": [
    {
     "data": {
      "image/png": "[encoded data removed]",
      "text/plain": [
       "<Figure size 1500x500 with 5 Axes>"
      ]
     },
     "metadata": {},
     "output_type": "display_data"
    }
   ],
   "source": [
    "import matplotlib.pyplot as plt\n",
    "import numpy as np\n",
    "\n",
    "def show_images(images, labels, label_decoding, num_images=5):\n",
    "    plt.figure(figsize=(15, 5))\n",
    "    for i in range(min(num_images, len(images))):  # 顯示指定數量的圖片\n",
    "        img = images[i]\n",
    "        # 轉回 HxWxC\n",
    "        img = np.transpose(img, (1, 2, 0))\n",
    "        img = (img * 255).astype('uint8')\n",
    "        label = labels[i]\n",
    "        class_name = label_decoding[label]\n",
    "        plt.subplot(1, num_images, i + 1)\n",
    "        plt.imshow(img)\n",
    "        plt.title(class_name)\n",
    "        plt.axis('off')\n",
    "    plt.tight_layout()\n",
    "    plt.show()\n",
    "\n",
    "\n",
    "show_images(x_train, y_train, label_decoding, num_images=5)"
   ]
  },
  {
   "cell_type": "markdown",
   "metadata": {},
   "source": [
    "# 亂數模擬資料"
   ]
  },
  {
   "cell_type": "code",
   "execution_count": 4,
   "metadata": {},
   "outputs": [
    {
     "name": "stdout",
     "output_type": "stream",
     "text": [
      "train batch shape: torch.Size([64, 3, 32, 32])\n"
     ]
    }
   ],
   "source": [
    "from torch.utils.data import Dataset, DataLoader\n",
    "\n",
    "class CIFAR10(Dataset):\n",
    "    def __init__(self, x, y, augment=False):  \n",
    "        self.x = x\n",
    "        self.y = y\n",
    "        self.augment=augment \n",
    "\n",
    "    def __len__(self):         \n",
    "        return len(self.x)\n",
    "    \n",
    "    def __getitem__(self, i):  \n",
    "        return self.x[i], self.y[i]\n",
    "\n",
    "    def collate_fn(self, batch):\n",
    "        imgs, labels = [], []\n",
    "        for img, lab in batch:\n",
    "            img = torch.from_numpy(img)\n",
    "            if self.augment and random.random() < 0.5:               # 50% 機率水平翻轉\n",
    "                img = torch.flip(img, dims=[2])\n",
    "            imgs.append(img)\n",
    "            labels.append(lab)\n",
    "        return {'x': torch.stack(imgs), 'y': torch.tensor(labels)}\n",
    "\n",
    "\n",
    "trainset = CIFAR10(x_train, y_train, augment=True)\n",
    "validset = CIFAR10(x_valid, y_valid)\n",
    "\n",
    "train_loader = DataLoader(trainset, batch_size = 64, shuffle = True, num_workers = 0, pin_memory = True, collate_fn = trainset.collate_fn)\n",
    "valid_loader = DataLoader(validset, batch_size = 64, shuffle = True, num_workers = 0, pin_memory = True, collate_fn = validset.collate_fn)\n",
    "\n",
    "batch = next(iter(train_loader))\n",
    "print('train batch shape:', batch['x'].shape)"
   ]
  },
  {
   "cell_type": "code",
   "execution_count": null,
   "metadata": {},
   "outputs": [
    {
     "name": "stdout",
     "output_type": "stream",
     "text": [
      "CNN(\n",
      "  (feature_extractor): Sequential(\n",
      "    (0): Conv2d(3, 64, kernel_size=(3, 3), stride=(1, 1), padding=(1, 1))\n",
      "    (1): BatchNorm2d(64, eps=1e-05, momentum=0.1, affine=True, track_running_stats=True)\n",
      "    (2): ReLU()\n",
      "    (3): Dropout2d(p=0.3, inplace=False)\n",
      "    (4): MaxPool2d(kernel_size=2, stride=2, padding=0, dilation=1, ceil_mode=False)\n",
      "    (5): Conv2d(64, 128, kernel_size=(3, 3), stride=(1, 1), padding=(1, 1))\n",
      "    (6): BatchNorm2d(128, eps=1e-05, momentum=0.1, affine=True, track_running_stats=True)\n",
      "    (7): ReLU()\n",
      "    (8): Dropout2d(p=0.3, inplace=False)\n",
      "    (9): MaxPool2d(kernel_size=2, stride=2, padding=0, dilation=1, ceil_mode=False)\n",
      "    (10): Conv2d(128, 256, kernel_size=(3, 3), stride=(1, 1), padding=(1, 1))\n",
      "    (11): BatchNorm2d(256, eps=1e-05, momentum=0.1, affine=True, track_running_stats=True)\n",
      "    (12): ReLU()\n",
      "    (13): Dropout2d(p=0.3, inplace=False)\n",
      "    (14): MaxPool2d(kernel_size=2, stride=2, padding=0, dilation=1, ceil_mode=False)\n",
      "  )\n",
      "  (classifier): Sequential(\n",
      "    (0): Linear(in_features=4096, out_features=512, bias=True)\n",
      "    (1): BatchNorm1d(512, eps=1e-05, momentum=0.1, affine=True, track_running_stats=True)\n",
      "    (2): ReLU()\n",
      "    (3): Dropout(p=0.5, inplace=False)\n",
      "    (4): Linear(in_features=512, out_features=10, bias=True)\n",
      "  )\n",
      "  (criterion): CrossEntropyLoss()\n",
      ")\n"
     ]
    }
   ],
   "source": [
    "import torch\n",
    "import torch.nn as nn\n",
    "\n",
    "class CNN(nn.Module):\n",
    "    def __init__(self, input_shape, num_layers, dropout2d_rate, linear_hidden, dropout_rate, num_classes):\n",
    "        super(CNN, self).__init__()\n",
    "        layers = []\n",
    "\n",
    "        conv_channels = []\n",
    "        base_channel = 64\n",
    "        for i in range(num_layers):\n",
    "            out_channels = min(base_channel * (2 ** i), 512)\n",
    "            conv_channels.append(out_channels)\n",
    "\n",
    "        in_channels = input_shape[0]\n",
    "        for out_channels in conv_channels:\n",
    "            layers.append(nn.Conv2d(in_channels, out_channels, kernel_size=3, padding=1))\n",
    "            layers.append(nn.BatchNorm2d(out_channels))\n",
    "            layers.append(nn.ReLU())\n",
    "            layers.append(nn.Dropout2d(dropout2d_rate))\n",
    "            layers.append(nn.MaxPool2d(kernel_size=2, stride=2))\n",
    "            in_channels = out_channels\n",
    "\n",
    "        self.feature_extractor = nn.Sequential(*layers)\n",
    "\n",
    "        dummy_input = torch.zeros(1, *input_shape)\n",
    "        # 用假的資料得到正確形狀\n",
    "        with torch.no_grad():\n",
    "            dummy_output = self.feature_extractor(dummy_input)\n",
    "        final_feature_size = dummy_output.view(1, -1).size(1)\n",
    "\n",
    "        self.classifier = nn.Sequential(\n",
    "            nn.Linear(final_feature_size, linear_hidden),\n",
    "            nn.BatchNorm1d(linear_hidden),\n",
    "            nn.ReLU(),\n",
    "            nn.Dropout(dropout_rate),\n",
    "            nn.Linear(linear_hidden, num_classes)\n",
    "        )\n",
    "\n",
    "        self.criterion = nn.CrossEntropyLoss()\n",
    "\n",
    "    def forward(self, **kwargs):\n",
    "        x = kwargs['x']\n",
    "        x = self.feature_extractor(x)\n",
    "        x = x.view(x.size(0), -1)\n",
    "        x = self.classifier(x)\n",
    "        loss = self.criterion(x, kwargs['y'])\n",
    "        return loss, x\n",
    "    @torch.no_grad()\n",
    "    def predict(self, **kwargs):\n",
    "        self.eval()\n",
    "        x = kwargs['x']\n",
    "        x = self.feature_extractor(x)\n",
    "        x = x.view(x.size(0), -1)\n",
    "        x = self.classifier(x)\n",
    "        preds = torch.argmax(x, dim=1)\n",
    "        return preds.cpu().numpy()\n",
    "\n",
    "\n",
    "input_shape = (3, 32, 32)\n",
    "model = CNN(\n",
    "    input_shape=input_shape,\n",
    "    num_layers=3,\n",
    "    dropout2d_rate=0.3,\n",
    "    linear_hidden=512,\n",
    "    dropout_rate=0.5,\n",
    "    num_classes=10\n",
    ")\n",
    "print(model)"
   ]
  },
  {
   "cell_type": "code",
   "execution_count": 6,
   "metadata": {},
   "outputs": [
    {
     "name": "stdout",
     "output_type": "stream",
     "text": [
      "Using device: cuda\n"
     ]
    },
    {
     "name": "stderr",
     "output_type": "stream",
     "text": [
      "Train Epoch 0: 100%|██████████| 782/782 [00:06<00:00, 122.28it/s, loss=1.427]\n",
      "Valid Epoch 0: 100%|██████████| 157/157 [00:00<00:00, 305.92it/s, loss=1.125]\n"
     ]
    },
    {
     "name": "stdout",
     "output_type": "stream",
     "text": [
      "Saving Model With Loss 1.17993\n",
      "Train Loss: 1.58919| Valid Loss: 1.17993| Best Loss: 1.17993\n",
      "\n"
     ]
    },
    {
     "name": "stderr",
     "output_type": "stream",
     "text": [
      "Train Epoch 1: 100%|██████████| 782/782 [00:05<00:00, 132.81it/s, loss=1.303]\n",
      "Valid Epoch 1: 100%|██████████| 157/157 [00:00<00:00, 324.71it/s, loss=0.617]\n"
     ]
    },
    {
     "name": "stdout",
     "output_type": "stream",
     "text": [
      "Saving Model With Loss 1.01600\n",
      "Train Loss: 1.25890| Valid Loss: 1.01600| Best Loss: 1.01600\n",
      "\n"
     ]
    },
    {
     "name": "stderr",
     "output_type": "stream",
     "text": [
      "Train Epoch 2: 100%|██████████| 782/782 [00:05<00:00, 132.35it/s, loss=0.965]\n",
      "Valid Epoch 2: 100%|██████████| 157/157 [00:00<00:00, 255.47it/s, loss=0.563]\n"
     ]
    },
    {
     "name": "stdout",
     "output_type": "stream",
     "text": [
      "Saving Model With Loss 0.91809\n",
      "Train Loss: 1.13375| Valid Loss: 0.91809| Best Loss: 0.91809\n",
      "\n"
     ]
    },
    {
     "name": "stderr",
     "output_type": "stream",
     "text": [
      "Train Epoch 3: 100%|██████████| 782/782 [00:07<00:00, 111.30it/s, loss=0.675]\n",
      "Valid Epoch 3: 100%|██████████| 157/157 [00:00<00:00, 269.83it/s, loss=0.670]\n"
     ]
    },
    {
     "name": "stdout",
     "output_type": "stream",
     "text": [
      "Saving Model With Loss 0.84780\n",
      "Train Loss: 1.05305| Valid Loss: 0.84780| Best Loss: 0.84780\n",
      "\n"
     ]
    },
    {
     "name": "stderr",
     "output_type": "stream",
     "text": [
      "Train Epoch 4: 100%|██████████| 782/782 [00:06<00:00, 112.96it/s, loss=1.246]\n",
      "Valid Epoch 4: 100%|██████████| 157/157 [00:00<00:00, 239.61it/s, loss=0.339]\n"
     ]
    },
    {
     "name": "stdout",
     "output_type": "stream",
     "text": [
      "Saving Model With Loss 0.81029\n",
      "Train Loss: 0.99041| Valid Loss: 0.81029| Best Loss: 0.81029\n",
      "\n"
     ]
    },
    {
     "name": "stderr",
     "output_type": "stream",
     "text": [
      "Train Epoch 5: 100%|██████████| 782/782 [00:06<00:00, 119.15it/s, loss=1.325]\n",
      "Valid Epoch 5: 100%|██████████| 157/157 [00:00<00:00, 275.56it/s, loss=0.984]\n"
     ]
    },
    {
     "name": "stdout",
     "output_type": "stream",
     "text": [
      "Saving Model With Loss 0.77019\n",
      "Train Loss: 0.94310| Valid Loss: 0.77019| Best Loss: 0.77019\n",
      "\n"
     ]
    },
    {
     "name": "stderr",
     "output_type": "stream",
     "text": [
      "Train Epoch 6: 100%|██████████| 782/782 [00:06<00:00, 115.93it/s, loss=0.621]\n",
      "Valid Epoch 6: 100%|██████████| 157/157 [00:00<00:00, 249.44it/s, loss=0.806]\n"
     ]
    },
    {
     "name": "stdout",
     "output_type": "stream",
     "text": [
      "Saving Model With Loss 0.73460\n",
      "Train Loss: 0.91100| Valid Loss: 0.73460| Best Loss: 0.73460\n",
      "\n"
     ]
    },
    {
     "name": "stderr",
     "output_type": "stream",
     "text": [
      "Train Epoch 7: 100%|██████████| 782/782 [00:06<00:00, 123.43it/s, loss=1.131]\n",
      "Valid Epoch 7: 100%|██████████| 157/157 [00:00<00:00, 287.18it/s, loss=1.079]\n"
     ]
    },
    {
     "name": "stdout",
     "output_type": "stream",
     "text": [
      "Saving Model With Loss 0.72201\n",
      "Train Loss: 0.87381| Valid Loss: 0.72201| Best Loss: 0.72201\n",
      "\n"
     ]
    },
    {
     "name": "stderr",
     "output_type": "stream",
     "text": [
      "Train Epoch 8: 100%|██████████| 782/782 [00:06<00:00, 117.05it/s, loss=0.837]\n",
      "Valid Epoch 8: 100%|██████████| 157/157 [00:00<00:00, 282.42it/s, loss=0.769]\n"
     ]
    },
    {
     "name": "stdout",
     "output_type": "stream",
     "text": [
      "Saving Model With Loss 0.69636\n",
      "Train Loss: 0.84830| Valid Loss: 0.69636| Best Loss: 0.69636\n",
      "\n"
     ]
    },
    {
     "name": "stderr",
     "output_type": "stream",
     "text": [
      "Train Epoch 9: 100%|██████████| 782/782 [00:06<00:00, 124.03it/s, loss=0.839]\n",
      "Valid Epoch 9: 100%|██████████| 157/157 [00:00<00:00, 280.63it/s, loss=0.363]\n"
     ]
    },
    {
     "name": "stdout",
     "output_type": "stream",
     "text": [
      "Saving Model With Loss 0.68263\n",
      "Train Loss: 0.82063| Valid Loss: 0.68263| Best Loss: 0.68263\n",
      "\n"
     ]
    },
    {
     "name": "stderr",
     "output_type": "stream",
     "text": [
      "Train Epoch 10: 100%|██████████| 782/782 [00:06<00:00, 126.92it/s, loss=0.987]\n",
      "Valid Epoch 10: 100%|██████████| 157/157 [00:00<00:00, 287.84it/s, loss=0.553]\n"
     ]
    },
    {
     "name": "stdout",
     "output_type": "stream",
     "text": [
      "Saving Model With Loss 0.65534\n",
      "Train Loss: 0.80175| Valid Loss: 0.65534| Best Loss: 0.65534\n",
      "\n"
     ]
    },
    {
     "name": "stderr",
     "output_type": "stream",
     "text": [
      "Train Epoch 11: 100%|██████████| 782/782 [00:06<00:00, 117.09it/s, loss=0.511]\n",
      "Valid Epoch 11: 100%|██████████| 157/157 [00:00<00:00, 268.23it/s, loss=0.506]\n"
     ]
    },
    {
     "name": "stdout",
     "output_type": "stream",
     "text": [
      "Saving Model With Loss 0.64899\n",
      "Train Loss: 0.76796| Valid Loss: 0.64899| Best Loss: 0.64899\n",
      "\n"
     ]
    },
    {
     "name": "stderr",
     "output_type": "stream",
     "text": [
      "Train Epoch 12: 100%|██████████| 782/782 [00:06<00:00, 114.71it/s, loss=0.498]\n",
      "Valid Epoch 12: 100%|██████████| 157/157 [00:00<00:00, 288.40it/s, loss=0.363]\n"
     ]
    },
    {
     "name": "stdout",
     "output_type": "stream",
     "text": [
      "Saving Model With Loss 0.64603\n",
      "Train Loss: 0.75660| Valid Loss: 0.64603| Best Loss: 0.64603\n",
      "\n"
     ]
    },
    {
     "name": "stderr",
     "output_type": "stream",
     "text": [
      "Train Epoch 13: 100%|██████████| 782/782 [00:06<00:00, 124.20it/s, loss=0.674]\n",
      "Valid Epoch 13: 100%|██████████| 157/157 [00:00<00:00, 282.70it/s, loss=0.531]\n"
     ]
    },
    {
     "name": "stdout",
     "output_type": "stream",
     "text": [
      "Saving Model With Loss 0.63064\n",
      "Train Loss: 0.73739| Valid Loss: 0.63064| Best Loss: 0.63064\n",
      "\n"
     ]
    },
    {
     "name": "stderr",
     "output_type": "stream",
     "text": [
      "Train Epoch 14: 100%|██████████| 782/782 [00:06<00:00, 124.58it/s, loss=1.260]\n",
      "Valid Epoch 14: 100%|██████████| 157/157 [00:00<00:00, 284.56it/s, loss=0.478]\n"
     ]
    },
    {
     "name": "stdout",
     "output_type": "stream",
     "text": [
      "Saving Model With Loss 0.60286\n",
      "Train Loss: 0.72151| Valid Loss: 0.60286| Best Loss: 0.60286\n",
      "\n"
     ]
    },
    {
     "name": "stderr",
     "output_type": "stream",
     "text": [
      "Train Epoch 15: 100%|██████████| 782/782 [00:06<00:00, 124.49it/s, loss=0.905]\n",
      "Valid Epoch 15: 100%|██████████| 157/157 [00:00<00:00, 259.61it/s, loss=0.394]\n"
     ]
    },
    {
     "name": "stdout",
     "output_type": "stream",
     "text": [
      "Train Loss: 0.71129| Valid Loss: 0.60757| Best Loss: 0.60286\n",
      "\n"
     ]
    },
    {
     "name": "stderr",
     "output_type": "stream",
     "text": [
      "Train Epoch 16: 100%|██████████| 782/782 [00:06<00:00, 121.69it/s, loss=0.889]\n",
      "Valid Epoch 16: 100%|██████████| 157/157 [00:00<00:00, 283.49it/s, loss=0.600]\n"
     ]
    },
    {
     "name": "stdout",
     "output_type": "stream",
     "text": [
      "Saving Model With Loss 0.58603\n",
      "Train Loss: 0.69017| Valid Loss: 0.58603| Best Loss: 0.58603\n",
      "\n"
     ]
    },
    {
     "name": "stderr",
     "output_type": "stream",
     "text": [
      "Train Epoch 17: 100%|██████████| 782/782 [00:06<00:00, 122.54it/s, loss=0.402]\n",
      "Valid Epoch 17: 100%|██████████| 157/157 [00:00<00:00, 261.08it/s, loss=0.712]\n"
     ]
    },
    {
     "name": "stdout",
     "output_type": "stream",
     "text": [
      "Train Loss: 0.67999| Valid Loss: 0.58699| Best Loss: 0.58603\n",
      "\n"
     ]
    },
    {
     "name": "stderr",
     "output_type": "stream",
     "text": [
      "Train Epoch 18: 100%|██████████| 782/782 [00:06<00:00, 119.56it/s, loss=0.679]\n",
      "Valid Epoch 18: 100%|██████████| 157/157 [00:00<00:00, 290.87it/s, loss=0.552]\n"
     ]
    },
    {
     "name": "stdout",
     "output_type": "stream",
     "text": [
      "Saving Model With Loss 0.58137\n",
      "Train Loss: 0.66488| Valid Loss: 0.58137| Best Loss: 0.58137\n",
      "\n"
     ]
    },
    {
     "name": "stderr",
     "output_type": "stream",
     "text": [
      "Train Epoch 19: 100%|██████████| 782/782 [00:06<00:00, 124.95it/s, loss=0.637]\n",
      "Valid Epoch 19: 100%|██████████| 157/157 [00:00<00:00, 250.69it/s, loss=0.334]\n"
     ]
    },
    {
     "name": "stdout",
     "output_type": "stream",
     "text": [
      "Saving Model With Loss 0.56058\n",
      "Train Loss: 0.65344| Valid Loss: 0.56058| Best Loss: 0.56058\n",
      "\n"
     ]
    },
    {
     "name": "stderr",
     "output_type": "stream",
     "text": [
      "Train Epoch 20: 100%|██████████| 782/782 [00:06<00:00, 115.79it/s, loss=0.457]\n",
      "Valid Epoch 20: 100%|██████████| 157/157 [00:00<00:00, 276.15it/s, loss=0.463]\n"
     ]
    },
    {
     "name": "stdout",
     "output_type": "stream",
     "text": [
      "Train Loss: 0.63880| Valid Loss: 0.57061| Best Loss: 0.56058\n",
      "\n"
     ]
    },
    {
     "name": "stderr",
     "output_type": "stream",
     "text": [
      "Train Epoch 21: 100%|██████████| 782/782 [00:06<00:00, 113.64it/s, loss=0.741]\n",
      "Valid Epoch 21: 100%|██████████| 157/157 [00:00<00:00, 260.15it/s, loss=0.427]\n"
     ]
    },
    {
     "name": "stdout",
     "output_type": "stream",
     "text": [
      "Saving Model With Loss 0.55847\n",
      "Train Loss: 0.62860| Valid Loss: 0.55847| Best Loss: 0.55847\n",
      "\n"
     ]
    },
    {
     "name": "stderr",
     "output_type": "stream",
     "text": [
      "Train Epoch 22: 100%|██████████| 782/782 [00:06<00:00, 119.07it/s, loss=0.505]\n",
      "Valid Epoch 22: 100%|██████████| 157/157 [00:00<00:00, 266.85it/s, loss=0.608]\n"
     ]
    },
    {
     "name": "stdout",
     "output_type": "stream",
     "text": [
      "Saving Model With Loss 0.55071\n",
      "Train Loss: 0.62168| Valid Loss: 0.55071| Best Loss: 0.55071\n",
      "\n"
     ]
    },
    {
     "name": "stderr",
     "output_type": "stream",
     "text": [
      "Train Epoch 23: 100%|██████████| 782/782 [00:06<00:00, 121.58it/s, loss=0.533]\n",
      "Valid Epoch 23: 100%|██████████| 157/157 [00:00<00:00, 304.77it/s, loss=0.191]\n"
     ]
    },
    {
     "name": "stdout",
     "output_type": "stream",
     "text": [
      "Saving Model With Loss 0.54092\n",
      "Train Loss: 0.61193| Valid Loss: 0.54092| Best Loss: 0.54092\n",
      "\n"
     ]
    },
    {
     "name": "stderr",
     "output_type": "stream",
     "text": [
      "Train Epoch 24: 100%|██████████| 782/782 [00:05<00:00, 130.42it/s, loss=0.634]\n",
      "Valid Epoch 24: 100%|██████████| 157/157 [00:00<00:00, 292.26it/s, loss=0.539]\n"
     ]
    },
    {
     "name": "stdout",
     "output_type": "stream",
     "text": [
      "Saving Model With Loss 0.53970\n",
      "Train Loss: 0.60228| Valid Loss: 0.53970| Best Loss: 0.53970\n",
      "\n"
     ]
    },
    {
     "name": "stderr",
     "output_type": "stream",
     "text": [
      "Train Epoch 25: 100%|██████████| 782/782 [00:06<00:00, 124.27it/s, loss=0.640]\n",
      "Valid Epoch 25: 100%|██████████| 157/157 [00:00<00:00, 298.89it/s, loss=0.486]\n"
     ]
    },
    {
     "name": "stdout",
     "output_type": "stream",
     "text": [
      "Train Loss: 0.59307| Valid Loss: 0.54149| Best Loss: 0.53970\n",
      "\n"
     ]
    },
    {
     "name": "stderr",
     "output_type": "stream",
     "text": [
      "Train Epoch 26: 100%|██████████| 782/782 [00:06<00:00, 129.93it/s, loss=1.103]\n",
      "Valid Epoch 26: 100%|██████████| 157/157 [00:00<00:00, 257.45it/s, loss=0.695]\n"
     ]
    },
    {
     "name": "stdout",
     "output_type": "stream",
     "text": [
      "Saving Model With Loss 0.53428\n",
      "Train Loss: 0.58087| Valid Loss: 0.53428| Best Loss: 0.53428\n",
      "\n"
     ]
    },
    {
     "name": "stderr",
     "output_type": "stream",
     "text": [
      "Train Epoch 27: 100%|██████████| 782/782 [00:06<00:00, 126.34it/s, loss=1.298]\n",
      "Valid Epoch 27: 100%|██████████| 157/157 [00:00<00:00, 299.86it/s, loss=0.896]\n"
     ]
    },
    {
     "name": "stdout",
     "output_type": "stream",
     "text": [
      "Saving Model With Loss 0.52689\n",
      "Train Loss: 0.57443| Valid Loss: 0.52689| Best Loss: 0.52689\n",
      "\n"
     ]
    },
    {
     "name": "stderr",
     "output_type": "stream",
     "text": [
      "Train Epoch 28: 100%|██████████| 782/782 [00:06<00:00, 125.01it/s, loss=1.178]\n",
      "Valid Epoch 28: 100%|██████████| 157/157 [00:00<00:00, 279.77it/s, loss=0.475]\n"
     ]
    },
    {
     "name": "stdout",
     "output_type": "stream",
     "text": [
      "Saving Model With Loss 0.52563\n",
      "Train Loss: 0.56653| Valid Loss: 0.52563| Best Loss: 0.52563\n",
      "\n"
     ]
    },
    {
     "name": "stderr",
     "output_type": "stream",
     "text": [
      "Train Epoch 29: 100%|██████████| 782/782 [00:06<00:00, 125.57it/s, loss=0.589]\n",
      "Valid Epoch 29: 100%|██████████| 157/157 [00:00<00:00, 269.14it/s, loss=0.557]\n"
     ]
    },
    {
     "name": "stdout",
     "output_type": "stream",
     "text": [
      "Saving Model With Loss 0.51504\n",
      "Train Loss: 0.55338| Valid Loss: 0.51504| Best Loss: 0.51504\n",
      "\n"
     ]
    },
    {
     "name": "stderr",
     "output_type": "stream",
     "text": [
      "Train Epoch 30: 100%|██████████| 782/782 [00:06<00:00, 121.59it/s, loss=0.994]\n",
      "Valid Epoch 30: 100%|██████████| 157/157 [00:00<00:00, 265.96it/s, loss=0.791]\n"
     ]
    },
    {
     "name": "stdout",
     "output_type": "stream",
     "text": [
      "Train Loss: 0.54794| Valid Loss: 0.51613| Best Loss: 0.51504\n",
      "\n"
     ]
    },
    {
     "name": "stderr",
     "output_type": "stream",
     "text": [
      "Train Epoch 31: 100%|██████████| 782/782 [00:06<00:00, 127.54it/s, loss=0.357]\n",
      "Valid Epoch 31: 100%|██████████| 157/157 [00:00<00:00, 274.80it/s, loss=0.530]\n"
     ]
    },
    {
     "name": "stdout",
     "output_type": "stream",
     "text": [
      "Saving Model With Loss 0.50905\n",
      "Train Loss: 0.54051| Valid Loss: 0.50905| Best Loss: 0.50905\n",
      "\n"
     ]
    },
    {
     "name": "stderr",
     "output_type": "stream",
     "text": [
      "Train Epoch 32: 100%|██████████| 782/782 [00:06<00:00, 122.33it/s, loss=0.808]\n",
      "Valid Epoch 32: 100%|██████████| 157/157 [00:00<00:00, 273.07it/s, loss=0.648]\n"
     ]
    },
    {
     "name": "stdout",
     "output_type": "stream",
     "text": [
      "Train Loss: 0.53203| Valid Loss: 0.51745| Best Loss: 0.50905\n",
      "\n"
     ]
    },
    {
     "name": "stderr",
     "output_type": "stream",
     "text": [
      "Train Epoch 33: 100%|██████████| 782/782 [00:06<00:00, 129.63it/s, loss=0.908]\n",
      "Valid Epoch 33: 100%|██████████| 157/157 [00:00<00:00, 293.84it/s, loss=0.413]\n"
     ]
    },
    {
     "name": "stdout",
     "output_type": "stream",
     "text": [
      "Saving Model With Loss 0.50634\n",
      "Train Loss: 0.53206| Valid Loss: 0.50634| Best Loss: 0.50634\n",
      "\n"
     ]
    },
    {
     "name": "stderr",
     "output_type": "stream",
     "text": [
      "Train Epoch 34: 100%|██████████| 782/782 [00:06<00:00, 124.97it/s, loss=1.091]\n",
      "Valid Epoch 34: 100%|██████████| 157/157 [00:00<00:00, 301.18it/s, loss=0.642]\n"
     ]
    },
    {
     "name": "stdout",
     "output_type": "stream",
     "text": [
      "Saving Model With Loss 0.50028\n",
      "Train Loss: 0.51966| Valid Loss: 0.50028| Best Loss: 0.50028\n",
      "\n"
     ]
    },
    {
     "name": "stderr",
     "output_type": "stream",
     "text": [
      "Train Epoch 35: 100%|██████████| 782/782 [00:06<00:00, 127.68it/s, loss=1.378]\n",
      "Valid Epoch 35: 100%|██████████| 157/157 [00:00<00:00, 271.39it/s, loss=0.370]\n"
     ]
    },
    {
     "name": "stdout",
     "output_type": "stream",
     "text": [
      "Saving Model With Loss 0.49734\n",
      "Train Loss: 0.51187| Valid Loss: 0.49734| Best Loss: 0.49734\n",
      "\n"
     ]
    },
    {
     "name": "stderr",
     "output_type": "stream",
     "text": [
      "Train Epoch 36: 100%|██████████| 782/782 [00:06<00:00, 129.39it/s, loss=0.346]\n",
      "Valid Epoch 36: 100%|██████████| 157/157 [00:00<00:00, 308.71it/s, loss=0.213]\n"
     ]
    },
    {
     "name": "stdout",
     "output_type": "stream",
     "text": [
      "Train Loss: 0.50860| Valid Loss: 0.50350| Best Loss: 0.49734\n",
      "\n"
     ]
    },
    {
     "name": "stderr",
     "output_type": "stream",
     "text": [
      "Train Epoch 37: 100%|██████████| 782/782 [00:05<00:00, 134.58it/s, loss=0.577]\n",
      "Valid Epoch 37: 100%|██████████| 157/157 [00:00<00:00, 320.84it/s, loss=0.191]\n"
     ]
    },
    {
     "name": "stdout",
     "output_type": "stream",
     "text": [
      "Saving Model With Loss 0.49419\n",
      "Train Loss: 0.49658| Valid Loss: 0.49419| Best Loss: 0.49419\n",
      "\n"
     ]
    },
    {
     "name": "stderr",
     "output_type": "stream",
     "text": [
      "Train Epoch 38: 100%|██████████| 782/782 [00:05<00:00, 134.78it/s, loss=1.045]\n",
      "Valid Epoch 38: 100%|██████████| 157/157 [00:00<00:00, 311.97it/s, loss=0.331]\n"
     ]
    },
    {
     "name": "stdout",
     "output_type": "stream",
     "text": [
      "Saving Model With Loss 0.49147\n",
      "Train Loss: 0.49551| Valid Loss: 0.49147| Best Loss: 0.49147\n",
      "\n"
     ]
    },
    {
     "name": "stderr",
     "output_type": "stream",
     "text": [
      "Train Epoch 39: 100%|██████████| 782/782 [00:06<00:00, 128.55it/s, loss=0.665]\n",
      "Valid Epoch 39: 100%|██████████| 157/157 [00:00<00:00, 306.97it/s, loss=0.471]\n"
     ]
    },
    {
     "name": "stdout",
     "output_type": "stream",
     "text": [
      "Saving Model With Loss 0.48905\n",
      "Train Loss: 0.48362| Valid Loss: 0.48905| Best Loss: 0.48905\n",
      "\n"
     ]
    },
    {
     "name": "stderr",
     "output_type": "stream",
     "text": [
      "Train Epoch 40: 100%|██████████| 782/782 [00:06<00:00, 125.66it/s, loss=0.637]\n",
      "Valid Epoch 40: 100%|██████████| 157/157 [00:00<00:00, 292.58it/s, loss=0.355]\n"
     ]
    },
    {
     "name": "stdout",
     "output_type": "stream",
     "text": [
      "Saving Model With Loss 0.48819\n",
      "Train Loss: 0.48856| Valid Loss: 0.48819| Best Loss: 0.48819\n",
      "\n"
     ]
    },
    {
     "name": "stderr",
     "output_type": "stream",
     "text": [
      "Train Epoch 41: 100%|██████████| 782/782 [00:06<00:00, 127.39it/s, loss=0.441]\n",
      "Valid Epoch 41: 100%|██████████| 157/157 [00:00<00:00, 260.46it/s, loss=0.452]\n"
     ]
    },
    {
     "name": "stdout",
     "output_type": "stream",
     "text": [
      "Saving Model With Loss 0.48465\n",
      "Train Loss: 0.47570| Valid Loss: 0.48465| Best Loss: 0.48465\n",
      "\n"
     ]
    },
    {
     "name": "stderr",
     "output_type": "stream",
     "text": [
      "Train Epoch 42: 100%|██████████| 782/782 [00:06<00:00, 127.09it/s, loss=0.157]\n",
      "Valid Epoch 42: 100%|██████████| 157/157 [00:00<00:00, 287.49it/s, loss=0.388]\n"
     ]
    },
    {
     "name": "stdout",
     "output_type": "stream",
     "text": [
      "Train Loss: 0.47380| Valid Loss: 0.49106| Best Loss: 0.48465\n",
      "\n"
     ]
    },
    {
     "name": "stderr",
     "output_type": "stream",
     "text": [
      "Train Epoch 43: 100%|██████████| 782/782 [00:06<00:00, 123.34it/s, loss=0.541]\n",
      "Valid Epoch 43: 100%|██████████| 157/157 [00:00<00:00, 274.32it/s, loss=0.479]\n"
     ]
    },
    {
     "name": "stdout",
     "output_type": "stream",
     "text": [
      "Train Loss: 0.46315| Valid Loss: 0.48958| Best Loss: 0.48465\n",
      "\n"
     ]
    },
    {
     "name": "stderr",
     "output_type": "stream",
     "text": [
      "Train Epoch 44: 100%|██████████| 782/782 [00:06<00:00, 122.10it/s, loss=0.255]\n",
      "Valid Epoch 44: 100%|██████████| 157/157 [00:00<00:00, 270.53it/s, loss=0.782]\n"
     ]
    },
    {
     "name": "stdout",
     "output_type": "stream",
     "text": [
      "Train Loss: 0.46434| Valid Loss: 0.48848| Best Loss: 0.48465\n",
      "\n"
     ]
    },
    {
     "name": "stderr",
     "output_type": "stream",
     "text": [
      "Train Epoch 45: 100%|██████████| 782/782 [00:06<00:00, 124.43it/s, loss=0.828]\n",
      "Valid Epoch 45: 100%|██████████| 157/157 [00:00<00:00, 294.79it/s, loss=0.599]\n"
     ]
    },
    {
     "name": "stdout",
     "output_type": "stream",
     "text": [
      "Saving Model With Loss 0.48152\n",
      "Train Loss: 0.46002| Valid Loss: 0.48152| Best Loss: 0.48152\n",
      "\n"
     ]
    },
    {
     "name": "stderr",
     "output_type": "stream",
     "text": [
      "Train Epoch 46: 100%|██████████| 782/782 [00:06<00:00, 126.20it/s, loss=0.769]\n",
      "Valid Epoch 46: 100%|██████████| 157/157 [00:00<00:00, 303.79it/s, loss=0.404]\n"
     ]
    },
    {
     "name": "stdout",
     "output_type": "stream",
     "text": [
      "Saving Model With Loss 0.47360\n",
      "Train Loss: 0.44863| Valid Loss: 0.47360| Best Loss: 0.47360\n",
      "\n"
     ]
    },
    {
     "name": "stderr",
     "output_type": "stream",
     "text": [
      "Train Epoch 47: 100%|██████████| 782/782 [00:05<00:00, 130.39it/s, loss=0.348]\n",
      "Valid Epoch 47: 100%|██████████| 157/157 [00:00<00:00, 293.15it/s, loss=0.217]\n"
     ]
    },
    {
     "name": "stdout",
     "output_type": "stream",
     "text": [
      "Saving Model With Loss 0.46988\n",
      "Train Loss: 0.44602| Valid Loss: 0.46988| Best Loss: 0.46988\n",
      "\n"
     ]
    },
    {
     "name": "stderr",
     "output_type": "stream",
     "text": [
      "Train Epoch 48: 100%|██████████| 782/782 [00:05<00:00, 130.73it/s, loss=0.675]\n",
      "Valid Epoch 48: 100%|██████████| 157/157 [00:00<00:00, 291.73it/s, loss=0.317]\n"
     ]
    },
    {
     "name": "stdout",
     "output_type": "stream",
     "text": [
      "Train Loss: 0.44503| Valid Loss: 0.47636| Best Loss: 0.46988\n",
      "\n"
     ]
    },
    {
     "name": "stderr",
     "output_type": "stream",
     "text": [
      "Train Epoch 49: 100%|██████████| 782/782 [00:06<00:00, 127.73it/s, loss=0.632]\n",
      "Valid Epoch 49: 100%|██████████| 157/157 [00:00<00:00, 283.24it/s, loss=0.632]\n"
     ]
    },
    {
     "name": "stdout",
     "output_type": "stream",
     "text": [
      "Train Loss: 0.44049| Valid Loss: 0.47473| Best Loss: 0.46988\n",
      "\n"
     ]
    },
    {
     "name": "stderr",
     "output_type": "stream",
     "text": [
      "Train Epoch 50: 100%|██████████| 782/782 [00:06<00:00, 128.09it/s, loss=0.206]\n",
      "Valid Epoch 50: 100%|██████████| 157/157 [00:00<00:00, 281.67it/s, loss=0.420]\n"
     ]
    },
    {
     "name": "stdout",
     "output_type": "stream",
     "text": [
      "Train Loss: 0.43555| Valid Loss: 0.47136| Best Loss: 0.46988\n",
      "\n"
     ]
    },
    {
     "name": "stderr",
     "output_type": "stream",
     "text": [
      "Train Epoch 51: 100%|██████████| 782/782 [00:06<00:00, 125.04it/s, loss=0.597]\n",
      "Valid Epoch 51: 100%|██████████| 157/157 [00:00<00:00, 280.65it/s, loss=1.217]\n"
     ]
    },
    {
     "name": "stdout",
     "output_type": "stream",
     "text": [
      "Train Loss: 0.42604| Valid Loss: 0.48457| Best Loss: 0.46988\n",
      "\n"
     ]
    },
    {
     "name": "stderr",
     "output_type": "stream",
     "text": [
      "Train Epoch 52: 100%|██████████| 782/782 [00:06<00:00, 127.41it/s, loss=0.535]\n",
      "Valid Epoch 52: 100%|██████████| 157/157 [00:00<00:00, 302.25it/s, loss=0.651]\n"
     ]
    },
    {
     "name": "stdout",
     "output_type": "stream",
     "text": [
      "Train Loss: 0.42624| Valid Loss: 0.47896| Best Loss: 0.46988\n",
      "\n",
      "------------------------------------\n",
      "|Model can't improve, stop training|\n",
      "------------------------------------\n"
     ]
    },
    {
     "data": {
      "image/png": "[encoded data removed]",
      "text/plain": [
       "<Figure size 640x480 with 1 Axes>"
      ]
     },
     "metadata": {},
     "output_type": "display_data"
    },
    {
     "name": "stdout",
     "output_type": "stream",
     "text": [
      "Best model loaded from ./checkpoints\\best_model.ckpt\n"
     ]
    }
   ],
   "source": [
    "from Trainer import Trainer\n",
    "import torch.optim as optim\n",
    "\n",
    "optimizer = optim.Adam(model.parameters(), lr = 2e-4)\n",
    "\n",
    "trainer = Trainer(\n",
    "    epochs=100,\n",
    "    train_loader=train_loader,\n",
    "    valid_loader=valid_loader,\n",
    "    model=model,\n",
    "    optimizer=optimizer,\n",
    "    early_stopping=5,\n",
    "    load_best_model=True,\n",
    "    grad_clip = 1.0\n",
    ")\n",
    "\n",
    "trainer.train(show_loss=True)"
   ]
  },
  {
   "cell_type": "code",
   "execution_count": 11,
   "metadata": {},
   "outputs": [
    {
     "name": "stderr",
     "output_type": "stream",
     "text": [
      "Eval: 100%|██████████| 157/157 [00:00<00:00, 189.63it/s]\n"
     ]
    },
    {
     "name": "stdout",
     "output_type": "stream",
     "text": [
      "              precision    recall  f1-score   support\n",
      "\n",
      "    Airplane     0.8638    0.8500    0.8569      1000\n",
      "        Bird     0.7992    0.7560    0.7770      1000\n",
      "         Car     0.9193    0.9340    0.9266      1000\n",
      "         Cat     0.7001    0.6840    0.6920      1000\n",
      "        Deer     0.8035    0.8630    0.8322      1000\n",
      "         Dog     0.7602    0.7480    0.7540      1000\n",
      "        Frog     0.8629    0.9000    0.8811      1000\n",
      "       Horse     0.8896    0.8620    0.8756      1000\n",
      "        Ship     0.9028    0.9190    0.9108      1000\n",
      "       Truck     0.8938    0.8840    0.8889      1000\n",
      "\n",
      "    accuracy                         0.8400     10000\n",
      "   macro avg     0.8395    0.8400    0.8395     10000\n",
      "weighted avg     0.8395    0.8400    0.8395     10000\n",
      "\n"
     ]
    },
    {
     "data": {
      "image/png": "[encoded data removed]",
      "text/plain": [
       "<Figure size 1000x800 with 2 Axes>"
      ]
     },
     "metadata": {},
     "output_type": "display_data"
    }
   ],
   "source": [
    "import torch\n",
    "from tqdm import tqdm\n",
    "from sklearn.metrics import classification_report, confusion_matrix\n",
    "import matplotlib.pyplot as plt\n",
    "import seaborn as sns\n",
    "\n",
    "def evaluate_and_report(model, data_loader, label_decoding, device=None):\n",
    "    if device is None:\n",
    "        device = torch.device('cuda' if torch.cuda.is_available() else 'cpu')\n",
    "    model.to(device)\n",
    "\n",
    "    all_preds = []\n",
    "    all_labels = []\n",
    "    eval_pbar = tqdm(data_loader, position=0, leave=True)\n",
    "\n",
    "    for input_datas in eval_pbar:\n",
    "        input_datas = {k: v.to(device) for k, v in input_datas.items()}\n",
    "        preds = model.predict(**input_datas)\n",
    "        labels = input_datas['y']\n",
    "        all_preds.extend(preds.tolist())\n",
    "        all_labels.extend(labels.tolist())\n",
    "        eval_pbar.set_description(f'Eval')\n",
    "\n",
    "    decoded_labels = [label_decoding[l] for l in all_labels]\n",
    "    decoded_preds = [label_decoding[p] for p in all_preds]\n",
    "\n",
    "    print(classification_report(decoded_labels, decoded_preds, digits=4, zero_division=0))\n",
    "\n",
    "    cm = confusion_matrix(decoded_labels, decoded_preds, labels=list(label_decoding.values()))\n",
    "    plt.figure(figsize=(10, 8))\n",
    "    sns.heatmap(cm, annot=True, fmt='d', cmap='Blues',\n",
    "                xticklabels=list(label_decoding.values()),\n",
    "                yticklabels=list(label_decoding.values()))\n",
    "    plt.xlabel('Predicted', fontsize=12)\n",
    "    plt.ylabel('True', fontsize=12)\n",
    "    plt.title('Confusion Matrix', fontsize=14)\n",
    "    plt.xticks(rotation=45)\n",
    "    plt.yticks(rotation=0)\n",
    "    plt.tight_layout()\n",
    "    plt.show()\n",
    "\n",
    "evaluate_and_report(model, valid_loader, label_decoding)\n"
   ]
  },
  {
   "cell_type": "code",
   "execution_count": 18,
   "metadata": {},
   "outputs": [
    {
     "data": {
      "image/png": "[encoded data removed]",
      "text/plain": [
       "<Figure size 1500x300 with 5 Axes>"
      ]
     },
     "metadata": {},
     "output_type": "display_data"
    }
   ],
   "source": [
    "def show_sample_predictions(model, x_valid, y_valid, label_decoding, num_samples=5):\n",
    "    device = torch.device(\"cuda\" if torch.cuda.is_available() else \"cpu\")\n",
    "    model = model.to(device)\n",
    "    model.eval()\n",
    "    \n",
    "    with torch.no_grad():\n",
    "        # x_valid assumed to be (N, C, H, W) and in 0~1\n",
    "        x_valid_array = np.array(x_valid)\n",
    "        x_tensor = torch.from_numpy(x_valid_array).float().to(device)\n",
    "        \n",
    "        # 預測 logits，取最大 index\n",
    "        y_pred = model.predict(x = x_tensor)\n",
    "\n",
    "    num_samples = min(num_samples, len(x_valid))\n",
    "    plt.figure(figsize=(3 * num_samples, 3))\n",
    "    for i in range(num_samples):\n",
    "        plt.subplot(1, num_samples, i + 1)\n",
    "        img = x_valid[i]  # shape: (C, H, W)\n",
    "        img = np.transpose(img, (1, 2, 0))  # -> (H, W, C)\n",
    "        img = (img * 255).astype('uint8')  # 還原像素值\n",
    "        plt.imshow(img)\n",
    "        plt.title(f\"Pred: {label_decoding[y_pred[i]]}\\nTrue: {label_decoding[y_valid[i]]}\")\n",
    "        plt.axis('off')\n",
    "    plt.tight_layout()\n",
    "    plt.show()\n",
    "\n",
    "    \n",
    "show_sample_predictions(model, x_valid, y_valid, label_decoding=label_decoding, num_samples=5)"
   ]
  },
  {
   "cell_type": "code",
   "execution_count": null,
   "metadata": {},
   "outputs": [],
   "source": []
  }
 ],
 "metadata": {
  "kernelspec": {
   "display_name": "Python 3",
   "language": "python",
   "name": "python3"
  },
  "language_info": {
   "codemirror_mode": {
    "name": "ipython",
    "version": 3
   },
   "file_extension": ".py",
   "mimetype": "text/x-python",
   "name": "python",
   "nbconvert_exporter": "python",
   "pygments_lexer": "ipython3",
   "version": "3.10.7"
  }
 },
 "nbformat": 4,
 "nbformat_minor": 2
}
