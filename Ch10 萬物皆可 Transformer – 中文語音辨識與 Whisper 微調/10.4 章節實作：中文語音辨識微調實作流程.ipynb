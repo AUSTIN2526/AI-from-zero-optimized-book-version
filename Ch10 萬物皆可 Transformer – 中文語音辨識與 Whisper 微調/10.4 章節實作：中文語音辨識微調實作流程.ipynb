{
 "cells": [
  {
   "cell_type": "markdown",
   "metadata": {},
   "source": [
    "## 轉換資料型態"
   ]
  },
  {
   "cell_type": "markdown",
   "metadata": {},
   "source": [
    "# 固定亂數"
   ]
  },
  {
   "cell_type": "code",
   "execution_count": 1,
   "metadata": {},
   "outputs": [],
   "source": [
    "import torch\n",
    "import numpy as np\n",
    "import random\n",
    "\n",
    "def set_seeds(seed):\n",
    "    random.seed(seed)  # 設定 Python 標準庫的亂數生成器種子\n",
    "    np.random.seed(seed)  # 設定 NumPy 亂數生成器種子\n",
    "    torch.manual_seed(seed)  # 設定 PyTorch 的 CPU 亂數生成器種子\n",
    "    if torch.cuda.is_available():\n",
    "        torch.cuda.manual_seed(seed)  # 設定 PyTorch 在單個 GPU 上的亂數種子\n",
    "        torch.cuda.manual_seed_all(seed)  # 設定 PyTorch 在所有 GPU 上的亂數種子\n",
    "    torch.backends.cudnn.benchmark = False  # 禁用 cuDNN 的基準測試功能\n",
    "    torch.backends.cudnn.deterministic = True  # 強制 cuDNN 使用確定性算法\n",
    "\n",
    "set_seeds(2526)"
   ]
  },
  {
   "cell_type": "code",
   "execution_count": 2,
   "metadata": {},
   "outputs": [
    {
     "name": "stderr",
     "output_type": "stream",
     "text": [
      "c:\\Users\\user\\AppData\\Local\\Programs\\Python\\Python310\\lib\\site-packages\\tqdm\\auto.py:21: TqdmWarning: IProgress not found. Please update jupyter and ipywidgets. See https://ipywidgets.readthedocs.io/en/stable/user_install.html\n",
      "  from .autonotebook import tqdm as notebook_tqdm\n"
     ]
    }
   ],
   "source": [
    "from transformers import BitsAndBytesConfig\n",
    "# 設定 4-bit 量化參數\n",
    "quant_config = BitsAndBytesConfig(\n",
    "    load_in_4bit=True,\n",
    "    bnb_4bit_compute_dtype=torch.float16,\n",
    "    bnb_4bit_use_double_quant=True,\n",
    "    bnb_4bit_quant_type='nf4'\n",
    ")\n"
   ]
  },
  {
   "cell_type": "code",
   "execution_count": 3,
   "metadata": {},
   "outputs": [],
   "source": [
    "from transformers import AutoProcessor\n",
    "\n",
    "processor = AutoProcessor.from_pretrained(\n",
    "    'openai/whisper-large-v3-turbo',\n",
    "    predict_timestamps=False,\n",
    "    task=\"transcribe\",\n",
    "    language='zh'\n",
    ")"
   ]
  },
  {
   "cell_type": "code",
   "execution_count": 4,
   "metadata": {},
   "outputs": [
    {
     "name": "stdout",
     "output_type": "stream",
     "text": [
      "WhisperForConditionalGeneration(\n",
      "  (model): WhisperModel(\n",
      "    (encoder): WhisperEncoder(\n",
      "      (conv1): Conv1d(128, 1280, kernel_size=(3,), stride=(1,), padding=(1,))\n",
      "      (conv2): Conv1d(1280, 1280, kernel_size=(3,), stride=(2,), padding=(1,))\n",
      "      (embed_positions): Embedding(1500, 1280)\n",
      "      (layers): ModuleList(\n",
      "        (0-31): 32 x WhisperEncoderLayer(\n",
      "          (self_attn): WhisperSdpaAttention(\n",
      "            (k_proj): Linear4bit(in_features=1280, out_features=1280, bias=False)\n",
      "            (v_proj): Linear4bit(in_features=1280, out_features=1280, bias=True)\n",
      "            (q_proj): Linear4bit(in_features=1280, out_features=1280, bias=True)\n",
      "            (out_proj): Linear4bit(in_features=1280, out_features=1280, bias=True)\n",
      "          )\n",
      "          (self_attn_layer_norm): LayerNorm((1280,), eps=1e-05, elementwise_affine=True)\n",
      "          (activation_fn): GELUActivation()\n",
      "          (fc1): Linear4bit(in_features=1280, out_features=5120, bias=True)\n",
      "          (fc2): Linear4bit(in_features=5120, out_features=1280, bias=True)\n",
      "          (final_layer_norm): LayerNorm((1280,), eps=1e-05, elementwise_affine=True)\n",
      "        )\n",
      "      )\n",
      "      (layer_norm): LayerNorm((1280,), eps=1e-05, elementwise_affine=True)\n",
      "    )\n",
      "    (decoder): WhisperDecoder(\n",
      "      (embed_tokens): Embedding(51866, 1280, padding_idx=50257)\n",
      "      (embed_positions): WhisperPositionalEmbedding(448, 1280)\n",
      "      (layers): ModuleList(\n",
      "        (0-3): 4 x WhisperDecoderLayer(\n",
      "          (self_attn): WhisperSdpaAttention(\n",
      "            (k_proj): Linear4bit(in_features=1280, out_features=1280, bias=False)\n",
      "            (v_proj): Linear4bit(in_features=1280, out_features=1280, bias=True)\n",
      "            (q_proj): Linear4bit(in_features=1280, out_features=1280, bias=True)\n",
      "            (out_proj): Linear4bit(in_features=1280, out_features=1280, bias=True)\n",
      "          )\n",
      "          (activation_fn): GELUActivation()\n",
      "          (self_attn_layer_norm): LayerNorm((1280,), eps=1e-05, elementwise_affine=True)\n",
      "          (encoder_attn): WhisperSdpaAttention(\n",
      "            (k_proj): Linear4bit(in_features=1280, out_features=1280, bias=False)\n",
      "            (v_proj): Linear4bit(in_features=1280, out_features=1280, bias=True)\n",
      "            (q_proj): Linear4bit(in_features=1280, out_features=1280, bias=True)\n",
      "            (out_proj): Linear4bit(in_features=1280, out_features=1280, bias=True)\n",
      "          )\n",
      "          (encoder_attn_layer_norm): LayerNorm((1280,), eps=1e-05, elementwise_affine=True)\n",
      "          (fc1): Linear4bit(in_features=1280, out_features=5120, bias=True)\n",
      "          (fc2): Linear4bit(in_features=5120, out_features=1280, bias=True)\n",
      "          (final_layer_norm): LayerNorm((1280,), eps=1e-05, elementwise_affine=True)\n",
      "        )\n",
      "      )\n",
      "      (layer_norm): LayerNorm((1280,), eps=1e-05, elementwise_affine=True)\n",
      "    )\n",
      "  )\n",
      "  (proj_out): Linear(in_features=1280, out_features=51866, bias=False)\n",
      ")\n"
     ]
    }
   ],
   "source": [
    "from transformers import AutoModelForSpeechSeq2Seq\n",
    "\n",
    "base_model = AutoModelForSpeechSeq2Seq.from_pretrained(\n",
    "    'openai/whisper-large-v3-turbo',\n",
    "    quantization_config=quant_config,\n",
    "    torch_dtype=torch.float16,\n",
    "    use_cache=False\n",
    ")\n",
    "\n",
    "print(base_model)"
   ]
  },
  {
   "cell_type": "code",
   "execution_count": 5,
   "metadata": {},
   "outputs": [],
   "source": [
    "from peft import (\n",
    "    LoraConfig,\n",
    "    get_peft_model,\n",
    "    prepare_model_for_kbit_training,\n",
    ")\n",
    "\n",
    "# 建立 LoRA 配置\n",
    "lora_config = LoraConfig(\n",
    "    r=8,\n",
    "    lora_alpha=16,\n",
    "    lora_dropout=0.05,\n",
    "    bias='none',\n",
    "    target_modules=['q_proj', 'v_proj']\n",
    ")\n",
    "\n",
    "# 準備模型支援量化訓練\n",
    "base_model = prepare_model_for_kbit_training(base_model, use_gradient_checkpointing=False)\n",
    "\n",
    "# 加入 LoRA 模型\n",
    "model = get_peft_model(base_model, lora_config)\n"
   ]
  },
  {
   "cell_type": "code",
   "execution_count": 6,
   "metadata": {},
   "outputs": [
    {
     "name": "stdout",
     "output_type": "stream",
     "text": [
      ">>> 共有 1000 筆紀錄，開始載入音訊...\n"
     ]
    },
    {
     "name": "stderr",
     "output_type": "stream",
     "text": [
      "載入音訊中: 100%|██████████| 1000/1000 [00:05<00:00, 168.28記錄/s]\n"
     ]
    }
   ],
   "source": [
    "import os\n",
    "import pandas as pd\n",
    "import librosa\n",
    "from tqdm import tqdm\n",
    "\n",
    "def load_dataset(audio_dir, transcript_file='ASR_CN.csv', target_sr=16000):\n",
    "    df = pd.read_csv(transcript_file, encoding='utf-8-sig')\n",
    "    df['path'] = df['ID'].apply(lambda x: os.path.join(audio_dir, x))\n",
    "\n",
    "    print(f'>>> 共有 {len(df)} 筆紀錄，開始載入音訊...')\n",
    "\n",
    "    audio_list = []\n",
    "    sentence_list = []\n",
    "\n",
    "    for _, row in tqdm(df.iterrows(), total=len(df), desc=\"載入音訊中\", unit=\"記錄\"):\n",
    "        wav_path = row['path']\n",
    "        sentence = row.get('sentence', '').strip()\n",
    "        audio, sr = librosa.load(wav_path, sr=target_sr, mono=True)\n",
    "\n",
    "        audio_list.append(audio)\n",
    "        sentence_list.append(sentence)\n",
    "\n",
    "    return audio_list, sentence_list\n",
    "\n",
    "audios, sentences = load_dataset('audio', 'ASR_CN.csv', target_sr=16000)"
   ]
  },
  {
   "cell_type": "code",
   "execution_count": 7,
   "metadata": {},
   "outputs": [],
   "source": [
    "def extract_features(audio_list, processor, sampling_rate):\n",
    "    feat = processor.feature_extractor(\n",
    "        audio_list,\n",
    "        sampling_rate=sampling_rate,\n",
    "        return_tensors='pt',\n",
    "        return_attention_mask=True,\n",
    "        padding='max_length',\n",
    "        max_length=sampling_rate * 30,  # 最長30秒\n",
    "        truncation=True\n",
    "    )\n",
    "    return feat['input_features'], feat['attention_mask']\n",
    "\n",
    "\n",
    "input_features, attention_mask = extract_features(audios, processor, sampling_rate=16000)"
   ]
  },
  {
   "cell_type": "code",
   "execution_count": 8,
   "metadata": {},
   "outputs": [],
   "source": [
    "from torch.utils.data import Dataset, DataLoader\n",
    "\n",
    "class SpeechSeq2SeqDataset(Dataset):\n",
    "\n",
    "    def __init__(self, input_features, attention_masks, sentences, processor):\n",
    "        assert len(input_features) == len(attention_masks) == len(sentences)\n",
    "        self.input_features = input_features\n",
    "        self.attention_masks = attention_masks\n",
    "        self.sentences = sentences\n",
    "        self.processor = processor\n",
    "\n",
    "    def __len__(self):\n",
    "        return len(self.input_features)\n",
    "\n",
    "    def __getitem__(self, idx):\n",
    "        return {\n",
    "            \"input_features\": self.input_features[idx],\n",
    "            \"attention_mask\": self.attention_masks[idx],\n",
    "            \"sentence\": self.sentences[idx],\n",
    "        }\n",
    "\n",
    "    def collate_fn(self, batch):\n",
    "        input_feats = torch.stack([item['input_features'] for item in batch])\n",
    "        attention_masks = torch.stack([item['attention_mask'] for item in batch])\n",
    "        sentences = [item['sentence'] for item in batch]\n",
    "\n",
    "        # 處理 target：tokenizer 編碼句子\n",
    "        tok = self.processor.tokenizer(\n",
    "            sentences,\n",
    "            padding=True,\n",
    "            return_tensors='pt',\n",
    "            return_attention_mask=True\n",
    "        )\n",
    "\n",
    "        # 對非 padding 的部分保留，其他設為 -100 以供 loss 使用\n",
    "        labels = tok['input_ids'].masked_fill(tok['attention_mask'].ne(1), -100)\n",
    "\n",
    "        return {\n",
    "            'input_features': input_feats,\n",
    "            'attention_mask': attention_masks,\n",
    "            'labels': labels\n",
    "        }\n",
    "\n",
    "\n",
    "from sklearn.model_selection import train_test_split\n",
    "\n",
    "# 拆分資料\n",
    "feat_train, feat_valid, attn_train, attn_valid, sent_train, sent_valid = train_test_split(\n",
    "    input_features, attention_mask, sentences, train_size=0.8, random_state=2526, shuffle=True\n",
    ")\n",
    "\n",
    "# 建立 Dataset\n",
    "train_dataset = SpeechSeq2SeqDataset(feat_train, attn_train, sent_train, processor)\n",
    "valid_dataset = SpeechSeq2SeqDataset(feat_valid, attn_valid, sent_valid, processor)\n",
    "\n",
    "# DataLoader\n",
    "train_loader = DataLoader(train_dataset, batch_size=4, shuffle=True, collate_fn=train_dataset.collate_fn)\n",
    "valid_loader = DataLoader(valid_dataset, batch_size=4, shuffle=False, collate_fn=valid_dataset.collate_fn)\n"
   ]
  },
  {
   "cell_type": "code",
   "execution_count": 9,
   "metadata": {},
   "outputs": [
    {
     "name": "stdout",
     "output_type": "stream",
     "text": [
      "Using device: cuda\n"
     ]
    },
    {
     "name": "stderr",
     "output_type": "stream",
     "text": [
      "Train Epoch 0: 100%|██████████| 200/200 [02:35<00:00,  1.28it/s, loss=1.048]\n",
      "Valid Epoch 0: 100%|██████████| 50/50 [00:15<00:00,  3.13it/s, loss=0.675]\n"
     ]
    },
    {
     "name": "stdout",
     "output_type": "stream",
     "text": [
      "Saving Model With Loss 0.55196\n",
      "Train Loss: 1.02480 | Valid Loss: 0.55196 | Best Loss: 0.55196\n",
      "\n"
     ]
    },
    {
     "name": "stderr",
     "output_type": "stream",
     "text": [
      "Train Epoch 1: 100%|██████████| 200/200 [02:35<00:00,  1.29it/s, loss=0.197]\n",
      "Valid Epoch 1: 100%|██████████| 50/50 [00:15<00:00,  3.14it/s, loss=0.580]\n"
     ]
    },
    {
     "name": "stdout",
     "output_type": "stream",
     "text": [
      "Saving Model With Loss 0.52033\n",
      "Train Loss: 0.46845 | Valid Loss: 0.52033 | Best Loss: 0.52033\n",
      "\n"
     ]
    },
    {
     "name": "stderr",
     "output_type": "stream",
     "text": [
      "Train Epoch 2: 100%|██████████| 200/200 [02:36<00:00,  1.27it/s, loss=0.094]\n",
      "Valid Epoch 2: 100%|██████████| 50/50 [00:15<00:00,  3.15it/s, loss=0.570]\n"
     ]
    },
    {
     "name": "stdout",
     "output_type": "stream",
     "text": [
      "Saving Model With Loss 0.51839\n",
      "Train Loss: 0.38862 | Valid Loss: 0.51839 | Best Loss: 0.51839\n",
      "\n"
     ]
    },
    {
     "name": "stderr",
     "output_type": "stream",
     "text": [
      "Train Epoch 3: 100%|██████████| 200/200 [02:35<00:00,  1.29it/s, loss=0.473]\n",
      "Valid Epoch 3: 100%|██████████| 50/50 [00:15<00:00,  3.14it/s, loss=0.559]\n"
     ]
    },
    {
     "name": "stdout",
     "output_type": "stream",
     "text": [
      "Train Loss: 0.33530 | Valid Loss: 0.52510 | Best Loss: 0.51839\n",
      "\n"
     ]
    },
    {
     "name": "stderr",
     "output_type": "stream",
     "text": [
      "Train Epoch 4: 100%|██████████| 200/200 [02:34<00:00,  1.29it/s, loss=0.197]\n",
      "Valid Epoch 4: 100%|██████████| 50/50 [00:15<00:00,  3.18it/s, loss=0.563]\n"
     ]
    },
    {
     "name": "stdout",
     "output_type": "stream",
     "text": [
      "Train Loss: 0.29135 | Valid Loss: 0.54468 | Best Loss: 0.51839\n",
      "\n"
     ]
    },
    {
     "name": "stderr",
     "output_type": "stream",
     "text": [
      "Train Epoch 5: 100%|██████████| 200/200 [02:35<00:00,  1.28it/s, loss=0.123]\n",
      "Valid Epoch 5: 100%|██████████| 50/50 [00:15<00:00,  3.13it/s, loss=0.611]\n"
     ]
    },
    {
     "name": "stdout",
     "output_type": "stream",
     "text": [
      "Train Loss: 0.24830 | Valid Loss: 0.54996 | Best Loss: 0.51839\n",
      "\n"
     ]
    },
    {
     "name": "stderr",
     "output_type": "stream",
     "text": [
      "Train Epoch 6: 100%|██████████| 200/200 [02:36<00:00,  1.28it/s, loss=0.061]\n",
      "Valid Epoch 6: 100%|██████████| 50/50 [00:15<00:00,  3.13it/s, loss=0.600]\n"
     ]
    },
    {
     "name": "stdout",
     "output_type": "stream",
     "text": [
      "Train Loss: 0.21451 | Valid Loss: 0.56744 | Best Loss: 0.51839\n",
      "\n"
     ]
    },
    {
     "name": "stderr",
     "output_type": "stream",
     "text": [
      "Train Epoch 7: 100%|██████████| 200/200 [02:36<00:00,  1.28it/s, loss=0.048]\n",
      "Valid Epoch 7: 100%|██████████| 50/50 [00:15<00:00,  3.14it/s, loss=0.601]\n"
     ]
    },
    {
     "name": "stdout",
     "output_type": "stream",
     "text": [
      "Train Loss: 0.18471 | Valid Loss: 0.58050 | Best Loss: 0.51839\n",
      "\n",
      "--------------------------------------\n",
      "| Model can't improve, stop training |\n",
      "--------------------------------------\n"
     ]
    },
    {
     "data": {
      "image/png": "[encoded data removed]",
      "text/plain": [
       "<Figure size 640x480 with 1 Axes>"
      ]
     },
     "metadata": {},
     "output_type": "display_data"
    },
    {
     "name": "stderr",
     "output_type": "stream",
     "text": [
      "c:\\Users\\user\\AppData\\Local\\Programs\\Python\\Python310\\lib\\site-packages\\peft\\tuners\\tuners_utils.py:167: UserWarning: Already found a `peft_config` attribute in the model. This will lead to having multiple adapters in the model. Make sure to know what you are doing!\n",
      "  warnings.warn(\n"
     ]
    },
    {
     "name": "stdout",
     "output_type": "stream",
     "text": [
      "Best LoRA model loaded from ./checkpoints\n"
     ]
    },
    {
     "name": "stderr",
     "output_type": "stream",
     "text": [
      "c:\\Users\\user\\AppData\\Local\\Programs\\Python\\Python310\\lib\\site-packages\\peft\\peft_model.py:569: UserWarning: Found missing adapter keys while loading the checkpoint: ['base_model.model.base_model.model.model.encoder.layers.0.self_attn.v_proj.lora_A.default.weight', 'base_model.model.base_model.model.model.encoder.layers.0.self_attn.v_proj.lora_B.default.weight', 'base_model.model.base_model.model.model.encoder.layers.0.self_attn.q_proj.lora_A.default.weight', 'base_model.model.base_model.model.model.encoder.layers.0.self_attn.q_proj.lora_B.default.weight', 'base_model.model.base_model.model.model.encoder.layers.1.self_attn.v_proj.lora_A.default.weight', 'base_model.model.base_model.model.model.encoder.layers.1.self_attn.v_proj.lora_B.default.weight', 'base_model.model.base_model.model.model.encoder.layers.1.self_attn.q_proj.lora_A.default.weight', 'base_model.model.base_model.model.model.encoder.layers.1.self_attn.q_proj.lora_B.default.weight', 'base_model.model.base_model.model.model.encoder.layers.2.self_attn.v_proj.lora_A.default.weight', 'base_model.model.base_model.model.model.encoder.layers.2.self_attn.v_proj.lora_B.default.weight', 'base_model.model.base_model.model.model.encoder.layers.2.self_attn.q_proj.lora_A.default.weight', 'base_model.model.base_model.model.model.encoder.layers.2.self_attn.q_proj.lora_B.default.weight', 'base_model.model.base_model.model.model.encoder.layers.3.self_attn.v_proj.lora_A.default.weight', 'base_model.model.base_model.model.model.encoder.layers.3.self_attn.v_proj.lora_B.default.weight', 'base_model.model.base_model.model.model.encoder.layers.3.self_attn.q_proj.lora_A.default.weight', 'base_model.model.base_model.model.model.encoder.layers.3.self_attn.q_proj.lora_B.default.weight', 'base_model.model.base_model.model.model.encoder.layers.4.self_attn.v_proj.lora_A.default.weight', 'base_model.model.base_model.model.model.encoder.layers.4.self_attn.v_proj.lora_B.default.weight', 'base_model.model.base_model.model.model.encoder.layers.4.self_attn.q_proj.lora_A.default.weight', 'base_model.model.base_model.model.model.encoder.layers.4.self_attn.q_proj.lora_B.default.weight', 'base_model.model.base_model.model.model.encoder.layers.5.self_attn.v_proj.lora_A.default.weight', 'base_model.model.base_model.model.model.encoder.layers.5.self_attn.v_proj.lora_B.default.weight', 'base_model.model.base_model.model.model.encoder.layers.5.self_attn.q_proj.lora_A.default.weight', 'base_model.model.base_model.model.model.encoder.layers.5.self_attn.q_proj.lora_B.default.weight', 'base_model.model.base_model.model.model.encoder.layers.6.self_attn.v_proj.lora_A.default.weight', 'base_model.model.base_model.model.model.encoder.layers.6.self_attn.v_proj.lora_B.default.weight', 'base_model.model.base_model.model.model.encoder.layers.6.self_attn.q_proj.lora_A.default.weight', 'base_model.model.base_model.model.model.encoder.layers.6.self_attn.q_proj.lora_B.default.weight', 'base_model.model.base_model.model.model.encoder.layers.7.self_attn.v_proj.lora_A.default.weight', 'base_model.model.base_model.model.model.encoder.layers.7.self_attn.v_proj.lora_B.default.weight', 'base_model.model.base_model.model.model.encoder.layers.7.self_attn.q_proj.lora_A.default.weight', 'base_model.model.base_model.model.model.encoder.layers.7.self_attn.q_proj.lora_B.default.weight', 'base_model.model.base_model.model.model.encoder.layers.8.self_attn.v_proj.lora_A.default.weight', 'base_model.model.base_model.model.model.encoder.layers.8.self_attn.v_proj.lora_B.default.weight', 'base_model.model.base_model.model.model.encoder.layers.8.self_attn.q_proj.lora_A.default.weight', 'base_model.model.base_model.model.model.encoder.layers.8.self_attn.q_proj.lora_B.default.weight', 'base_model.model.base_model.model.model.encoder.layers.9.self_attn.v_proj.lora_A.default.weight', 'base_model.model.base_model.model.model.encoder.layers.9.self_attn.v_proj.lora_B.default.weight', 'base_model.model.base_model.model.model.encoder.layers.9.self_attn.q_proj.lora_A.default.weight', 'base_model.model.base_model.model.model.encoder.layers.9.self_attn.q_proj.lora_B.default.weight', 'base_model.model.base_model.model.model.encoder.layers.10.self_attn.v_proj.lora_A.default.weight', 'base_model.model.base_model.model.model.encoder.layers.10.self_attn.v_proj.lora_B.default.weight', 'base_model.model.base_model.model.model.encoder.layers.10.self_attn.q_proj.lora_A.default.weight', 'base_model.model.base_model.model.model.encoder.layers.10.self_attn.q_proj.lora_B.default.weight', 'base_model.model.base_model.model.model.encoder.layers.11.self_attn.v_proj.lora_A.default.weight', 'base_model.model.base_model.model.model.encoder.layers.11.self_attn.v_proj.lora_B.default.weight', 'base_model.model.base_model.model.model.encoder.layers.11.self_attn.q_proj.lora_A.default.weight', 'base_model.model.base_model.model.model.encoder.layers.11.self_attn.q_proj.lora_B.default.weight', 'base_model.model.base_model.model.model.encoder.layers.12.self_attn.v_proj.lora_A.default.weight', 'base_model.model.base_model.model.model.encoder.layers.12.self_attn.v_proj.lora_B.default.weight', 'base_model.model.base_model.model.model.encoder.layers.12.self_attn.q_proj.lora_A.default.weight', 'base_model.model.base_model.model.model.encoder.layers.12.self_attn.q_proj.lora_B.default.weight', 'base_model.model.base_model.model.model.encoder.layers.13.self_attn.v_proj.lora_A.default.weight', 'base_model.model.base_model.model.model.encoder.layers.13.self_attn.v_proj.lora_B.default.weight', 'base_model.model.base_model.model.model.encoder.layers.13.self_attn.q_proj.lora_A.default.weight', 'base_model.model.base_model.model.model.encoder.layers.13.self_attn.q_proj.lora_B.default.weight', 'base_model.model.base_model.model.model.encoder.layers.14.self_attn.v_proj.lora_A.default.weight', 'base_model.model.base_model.model.model.encoder.layers.14.self_attn.v_proj.lora_B.default.weight', 'base_model.model.base_model.model.model.encoder.layers.14.self_attn.q_proj.lora_A.default.weight', 'base_model.model.base_model.model.model.encoder.layers.14.self_attn.q_proj.lora_B.default.weight', 'base_model.model.base_model.model.model.encoder.layers.15.self_attn.v_proj.lora_A.default.weight', 'base_model.model.base_model.model.model.encoder.layers.15.self_attn.v_proj.lora_B.default.weight', 'base_model.model.base_model.model.model.encoder.layers.15.self_attn.q_proj.lora_A.default.weight', 'base_model.model.base_model.model.model.encoder.layers.15.self_attn.q_proj.lora_B.default.weight', 'base_model.model.base_model.model.model.encoder.layers.16.self_attn.v_proj.lora_A.default.weight', 'base_model.model.base_model.model.model.encoder.layers.16.self_attn.v_proj.lora_B.default.weight', 'base_model.model.base_model.model.model.encoder.layers.16.self_attn.q_proj.lora_A.default.weight', 'base_model.model.base_model.model.model.encoder.layers.16.self_attn.q_proj.lora_B.default.weight', 'base_model.model.base_model.model.model.encoder.layers.17.self_attn.v_proj.lora_A.default.weight', 'base_model.model.base_model.model.model.encoder.layers.17.self_attn.v_proj.lora_B.default.weight', 'base_model.model.base_model.model.model.encoder.layers.17.self_attn.q_proj.lora_A.default.weight', 'base_model.model.base_model.model.model.encoder.layers.17.self_attn.q_proj.lora_B.default.weight', 'base_model.model.base_model.model.model.encoder.layers.18.self_attn.v_proj.lora_A.default.weight', 'base_model.model.base_model.model.model.encoder.layers.18.self_attn.v_proj.lora_B.default.weight', 'base_model.model.base_model.model.model.encoder.layers.18.self_attn.q_proj.lora_A.default.weight', 'base_model.model.base_model.model.model.encoder.layers.18.self_attn.q_proj.lora_B.default.weight', 'base_model.model.base_model.model.model.encoder.layers.19.self_attn.v_proj.lora_A.default.weight', 'base_model.model.base_model.model.model.encoder.layers.19.self_attn.v_proj.lora_B.default.weight', 'base_model.model.base_model.model.model.encoder.layers.19.self_attn.q_proj.lora_A.default.weight', 'base_model.model.base_model.model.model.encoder.layers.19.self_attn.q_proj.lora_B.default.weight', 'base_model.model.base_model.model.model.encoder.layers.20.self_attn.v_proj.lora_A.default.weight', 'base_model.model.base_model.model.model.encoder.layers.20.self_attn.v_proj.lora_B.default.weight', 'base_model.model.base_model.model.model.encoder.layers.20.self_attn.q_proj.lora_A.default.weight', 'base_model.model.base_model.model.model.encoder.layers.20.self_attn.q_proj.lora_B.default.weight', 'base_model.model.base_model.model.model.encoder.layers.21.self_attn.v_proj.lora_A.default.weight', 'base_model.model.base_model.model.model.encoder.layers.21.self_attn.v_proj.lora_B.default.weight', 'base_model.model.base_model.model.model.encoder.layers.21.self_attn.q_proj.lora_A.default.weight', 'base_model.model.base_model.model.model.encoder.layers.21.self_attn.q_proj.lora_B.default.weight', 'base_model.model.base_model.model.model.encoder.layers.22.self_attn.v_proj.lora_A.default.weight', 'base_model.model.base_model.model.model.encoder.layers.22.self_attn.v_proj.lora_B.default.weight', 'base_model.model.base_model.model.model.encoder.layers.22.self_attn.q_proj.lora_A.default.weight', 'base_model.model.base_model.model.model.encoder.layers.22.self_attn.q_proj.lora_B.default.weight', 'base_model.model.base_model.model.model.encoder.layers.23.self_attn.v_proj.lora_A.default.weight', 'base_model.model.base_model.model.model.encoder.layers.23.self_attn.v_proj.lora_B.default.weight', 'base_model.model.base_model.model.model.encoder.layers.23.self_attn.q_proj.lora_A.default.weight', 'base_model.model.base_model.model.model.encoder.layers.23.self_attn.q_proj.lora_B.default.weight', 'base_model.model.base_model.model.model.encoder.layers.24.self_attn.v_proj.lora_A.default.weight', 'base_model.model.base_model.model.model.encoder.layers.24.self_attn.v_proj.lora_B.default.weight', 'base_model.model.base_model.model.model.encoder.layers.24.self_attn.q_proj.lora_A.default.weight', 'base_model.model.base_model.model.model.encoder.layers.24.self_attn.q_proj.lora_B.default.weight', 'base_model.model.base_model.model.model.encoder.layers.25.self_attn.v_proj.lora_A.default.weight', 'base_model.model.base_model.model.model.encoder.layers.25.self_attn.v_proj.lora_B.default.weight', 'base_model.model.base_model.model.model.encoder.layers.25.self_attn.q_proj.lora_A.default.weight', 'base_model.model.base_model.model.model.encoder.layers.25.self_attn.q_proj.lora_B.default.weight', 'base_model.model.base_model.model.model.encoder.layers.26.self_attn.v_proj.lora_A.default.weight', 'base_model.model.base_model.model.model.encoder.layers.26.self_attn.v_proj.lora_B.default.weight', 'base_model.model.base_model.model.model.encoder.layers.26.self_attn.q_proj.lora_A.default.weight', 'base_model.model.base_model.model.model.encoder.layers.26.self_attn.q_proj.lora_B.default.weight', 'base_model.model.base_model.model.model.encoder.layers.27.self_attn.v_proj.lora_A.default.weight', 'base_model.model.base_model.model.model.encoder.layers.27.self_attn.v_proj.lora_B.default.weight', 'base_model.model.base_model.model.model.encoder.layers.27.self_attn.q_proj.lora_A.default.weight', 'base_model.model.base_model.model.model.encoder.layers.27.self_attn.q_proj.lora_B.default.weight', 'base_model.model.base_model.model.model.encoder.layers.28.self_attn.v_proj.lora_A.default.weight', 'base_model.model.base_model.model.model.encoder.layers.28.self_attn.v_proj.lora_B.default.weight', 'base_model.model.base_model.model.model.encoder.layers.28.self_attn.q_proj.lora_A.default.weight', 'base_model.model.base_model.model.model.encoder.layers.28.self_attn.q_proj.lora_B.default.weight', 'base_model.model.base_model.model.model.encoder.layers.29.self_attn.v_proj.lora_A.default.weight', 'base_model.model.base_model.model.model.encoder.layers.29.self_attn.v_proj.lora_B.default.weight', 'base_model.model.base_model.model.model.encoder.layers.29.self_attn.q_proj.lora_A.default.weight', 'base_model.model.base_model.model.model.encoder.layers.29.self_attn.q_proj.lora_B.default.weight', 'base_model.model.base_model.model.model.encoder.layers.30.self_attn.v_proj.lora_A.default.weight', 'base_model.model.base_model.model.model.encoder.layers.30.self_attn.v_proj.lora_B.default.weight', 'base_model.model.base_model.model.model.encoder.layers.30.self_attn.q_proj.lora_A.default.weight', 'base_model.model.base_model.model.model.encoder.layers.30.self_attn.q_proj.lora_B.default.weight', 'base_model.model.base_model.model.model.encoder.layers.31.self_attn.v_proj.lora_A.default.weight', 'base_model.model.base_model.model.model.encoder.layers.31.self_attn.v_proj.lora_B.default.weight', 'base_model.model.base_model.model.model.encoder.layers.31.self_attn.q_proj.lora_A.default.weight', 'base_model.model.base_model.model.model.encoder.layers.31.self_attn.q_proj.lora_B.default.weight', 'base_model.model.base_model.model.model.decoder.layers.0.self_attn.v_proj.lora_A.default.weight', 'base_model.model.base_model.model.model.decoder.layers.0.self_attn.v_proj.lora_B.default.weight', 'base_model.model.base_model.model.model.decoder.layers.0.self_attn.q_proj.lora_A.default.weight', 'base_model.model.base_model.model.model.decoder.layers.0.self_attn.q_proj.lora_B.default.weight', 'base_model.model.base_model.model.model.decoder.layers.0.encoder_attn.v_proj.lora_A.default.weight', 'base_model.model.base_model.model.model.decoder.layers.0.encoder_attn.v_proj.lora_B.default.weight', 'base_model.model.base_model.model.model.decoder.layers.0.encoder_attn.q_proj.lora_A.default.weight', 'base_model.model.base_model.model.model.decoder.layers.0.encoder_attn.q_proj.lora_B.default.weight', 'base_model.model.base_model.model.model.decoder.layers.1.self_attn.v_proj.lora_A.default.weight', 'base_model.model.base_model.model.model.decoder.layers.1.self_attn.v_proj.lora_B.default.weight', 'base_model.model.base_model.model.model.decoder.layers.1.self_attn.q_proj.lora_A.default.weight', 'base_model.model.base_model.model.model.decoder.layers.1.self_attn.q_proj.lora_B.default.weight', 'base_model.model.base_model.model.model.decoder.layers.1.encoder_attn.v_proj.lora_A.default.weight', 'base_model.model.base_model.model.model.decoder.layers.1.encoder_attn.v_proj.lora_B.default.weight', 'base_model.model.base_model.model.model.decoder.layers.1.encoder_attn.q_proj.lora_A.default.weight', 'base_model.model.base_model.model.model.decoder.layers.1.encoder_attn.q_proj.lora_B.default.weight', 'base_model.model.base_model.model.model.decoder.layers.2.self_attn.v_proj.lora_A.default.weight', 'base_model.model.base_model.model.model.decoder.layers.2.self_attn.v_proj.lora_B.default.weight', 'base_model.model.base_model.model.model.decoder.layers.2.self_attn.q_proj.lora_A.default.weight', 'base_model.model.base_model.model.model.decoder.layers.2.self_attn.q_proj.lora_B.default.weight', 'base_model.model.base_model.model.model.decoder.layers.2.encoder_attn.v_proj.lora_A.default.weight', 'base_model.model.base_model.model.model.decoder.layers.2.encoder_attn.v_proj.lora_B.default.weight', 'base_model.model.base_model.model.model.decoder.layers.2.encoder_attn.q_proj.lora_A.default.weight', 'base_model.model.base_model.model.model.decoder.layers.2.encoder_attn.q_proj.lora_B.default.weight', 'base_model.model.base_model.model.model.decoder.layers.3.self_attn.v_proj.lora_A.default.weight', 'base_model.model.base_model.model.model.decoder.layers.3.self_attn.v_proj.lora_B.default.weight', 'base_model.model.base_model.model.model.decoder.layers.3.self_attn.q_proj.lora_A.default.weight', 'base_model.model.base_model.model.model.decoder.layers.3.self_attn.q_proj.lora_B.default.weight', 'base_model.model.base_model.model.model.decoder.layers.3.encoder_attn.v_proj.lora_A.default.weight', 'base_model.model.base_model.model.model.decoder.layers.3.encoder_attn.v_proj.lora_B.default.weight', 'base_model.model.base_model.model.model.decoder.layers.3.encoder_attn.q_proj.lora_A.default.weight', 'base_model.model.base_model.model.model.decoder.layers.3.encoder_attn.q_proj.lora_B.default.weight'].\n",
      "  warnings.warn(warn_message)\n"
     ]
    }
   ],
   "source": [
    "from Trainer import Trainer\n",
    "import torch.optim as optim\n",
    "from transformers import get_cosine_schedule_with_warmup\n",
    "\n",
    "# 總步數 = epoch 數 * 每個 epoch 的 batch 數\n",
    "num_training_steps = len(train_loader) * 100  # 100 是總 epoch 數\n",
    "num_warmup_steps = int(0.2 * len(train_loader))  # 可調整 warmup 比例\n",
    "\n",
    "optimizer = optim.AdamW(model.parameters(), lr=1e-4)\n",
    "scheduler = get_cosine_schedule_with_warmup(\n",
    "    optimizer,\n",
    "    num_warmup_steps=num_warmup_steps,\n",
    "    num_training_steps=num_training_steps,\n",
    ")\n",
    "trainer = Trainer(\n",
    "    epochs=100,\n",
    "    train_loader=train_loader,\n",
    "    valid_loader=valid_loader,\n",
    "    model=model,\n",
    "    optimizer=optimizer,\n",
    "    scheduler=scheduler,\n",
    "    early_stopping=5,\n",
    "    load_best_model=True,\n",
    "    grad_clip=1.0,\n",
    "    is_lora=True\n",
    ")\n",
    "\n",
    "trainer.train(show_loss=True)"
   ]
  },
  {
   "cell_type": "code",
   "execution_count": 10,
   "metadata": {},
   "outputs": [
    {
     "name": "stdout",
     "output_type": "stream",
     "text": [
      "使用裝置：cuda\n"
     ]
    },
    {
     "name": "stderr",
     "output_type": "stream",
     "text": [
      "Evaluating CER:   0%|          | 0/50 [00:00<?, ?it/s]Due to a bug fix in https://github.com/huggingface/transformers/pull/28687 transcription using a multilingual Whisper will default to language detection followed by transcription instead of translation to English.This might be a breaking change for your use case. If you want to instead always translate your audio to English, make sure to pass `language='en'`.\n",
      "Evaluating CER: 100%|██████████| 50/50 [01:05<00:00,  1.30s/it]"
     ]
    },
    {
     "name": "stdout",
     "output_type": "stream",
     "text": [
      "\n",
      "✅ 平均 CER: 47.28%\n"
     ]
    },
    {
     "name": "stderr",
     "output_type": "stream",
     "text": [
      "\n"
     ]
    },
    {
     "data": {
      "text/plain": [
       "0.4728323699421965"
      ]
     },
     "execution_count": 10,
     "metadata": {},
     "output_type": "execute_result"
    }
   ],
   "source": [
    "from jiwer import cer\n",
    "\n",
    "def evaluate_cer_with_whisper(valid_dataloader, model, processor, device=\"auto\"):\n",
    "    # 自動選擇運算裝置\n",
    "    if device == \"auto\":    \n",
    "        device = \"cuda\" if torch.cuda.is_available() else \"cpu\"\n",
    "    print(f\"使用裝置：{device}\")\n",
    "    model = model.to(device)\n",
    "\n",
    "    total_chars = 0\n",
    "    total_errors = 0\n",
    "\n",
    "    for input_datas in tqdm(valid_dataloader, desc=\"Evaluating CER\"):\n",
    "        input_datas = {k: v.to(device) for k, v in input_datas.items()} # 將資料移動到GPU上\n",
    "\n",
    "        labels = input_datas[\"labels\"]\n",
    "\n",
    "        # 產生模型輸出\n",
    "        predicted_ids = model.generate(**input_datas)\n",
    "\n",
    "        # 解碼模型預測結果與 ground truth\n",
    "        hyp = processor.batch_decode(predicted_ids, skip_special_tokens=True)[0].strip()\n",
    "        truth = processor.batch_decode(labels, skip_special_tokens=True)[0].strip()\n",
    "\n",
    "        # 計算 CER\n",
    "        cur_cer = cer(truth, hyp)\n",
    "        total_chars += len(truth)\n",
    "        total_errors += cur_cer * len(truth)\n",
    "        \n",
    "    average_cer = total_errors / total_chars if total_chars > 0 else 0\n",
    "    print(f\"\\n✅ 平均 CER: {average_cer:.2%}\")\n",
    "    return average_cer\n",
    "\n",
    "# 呼叫時要傳入 processor\n",
    "evaluate_cer_with_whisper(valid_loader, model, processor, device=\"auto\")\n"
   ]
  },
  {
   "cell_type": "code",
   "execution_count": null,
   "metadata": {},
   "outputs": [],
   "source": []
  }
 ],
 "metadata": {
  "kernelspec": {
   "display_name": "Python 3",
   "language": "python",
   "name": "python3"
  },
  "language_info": {
   "codemirror_mode": {
    "name": "ipython",
    "version": 3
   },
   "file_extension": ".py",
   "mimetype": "text/x-python",
   "name": "python",
   "nbconvert_exporter": "python",
   "pygments_lexer": "ipython3",
   "version": "3.10.7"
  }
 },
 "nbformat": 4,
 "nbformat_minor": 2
}
