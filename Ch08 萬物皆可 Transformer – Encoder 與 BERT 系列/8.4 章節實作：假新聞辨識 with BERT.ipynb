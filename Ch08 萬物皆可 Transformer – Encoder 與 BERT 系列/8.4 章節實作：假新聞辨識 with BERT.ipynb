{
 "cells": [
  {
   "cell_type": "code",
   "execution_count": 1,
   "id": "52e917e8",
   "metadata": {},
   "outputs": [],
   "source": [
    "import torch \n",
    "import numpy as np \n",
    "import random \n",
    "\n",
    "def set_seeds(seed):\n",
    "    random.seed(seed) \n",
    "    np.random.seed(seed)  \n",
    "    torch.manual_seed(seed)\n",
    "    if torch.cuda.is_available():\n",
    "        torch.cuda.manual_seed(seed)\n",
    "        torch.cuda.manual_seed_all(seed) \n",
    "    torch.backends.cudnn.benchmark = False\n",
    "    torch.backends.cudnn.deterministic = True\n",
    "    \n",
    "set_seeds(0)"
   ]
  },
  {
   "cell_type": "markdown",
   "id": "ea6827ca",
   "metadata": {},
   "source": [
    "## 讀檔"
   ]
  },
  {
   "cell_type": "code",
   "execution_count": null,
   "id": "1a8ec9b0",
   "metadata": {},
   "outputs": [],
   "source": [
    "import pandas as pd\n",
    "from sklearn.model_selection import train_test_split\n",
    "\n",
    "# 讀取資料並標註標籤\n",
    "df_fake = pd.read_csv('newsData/Fake.csv')['text']\n",
    "df_real = pd.read_csv('newsData/True.csv')['text']\n",
    "\n",
    "# 合併資料與標籤\n",
    "texts = pd.concat([df_fake, df_real], ignore_index=True)\n",
    "labels = [0] * len(df_fake) + [1] * len(df_real)\n",
    "\n",
    "# 分割訓練與驗證資料\n",
    "x_train, x_valid, y_train, y_valid = train_test_split(\n",
    "    texts.tolist(), labels, train_size=0.8, random_state=46, shuffle=True\n",
    ")"
   ]
  },
  {
   "cell_type": "code",
   "execution_count": 3,
   "id": "6d490d1d",
   "metadata": {
    "scrolled": false
   },
   "outputs": [
    {
     "name": "stderr",
     "output_type": "stream",
     "text": [
      "c:\\Users\\user\\AppData\\Local\\Programs\\Python\\Python310\\lib\\site-packages\\tqdm\\auto.py:21: TqdmWarning: IProgress not found. Please update jupyter and ipywidgets. See https://ipywidgets.readthedocs.io/en/stable/user_install.html\n",
      "  from .autonotebook import tqdm as notebook_tqdm\n"
     ]
    }
   ],
   "source": [
    "from transformers import AutoTokenizer, AutoModelForSequenceClassification\n",
    "\n",
    "# 初始化 tokenizer 和模型\n",
    "model = AutoModelForSequenceClassification.from_pretrained(\"textattack/bert-base-uncased-yelp-polarity\")\n",
    "tokenizer = AutoTokenizer.from_pretrained(\"textattack/bert-base-uncased-yelp-polarity\")"
   ]
  },
  {
   "cell_type": "markdown",
   "id": "73991ec5",
   "metadata": {},
   "source": [
    "## 創建資料集"
   ]
  },
  {
   "cell_type": "code",
   "execution_count": 4,
   "id": "543ce9b7",
   "metadata": {},
   "outputs": [],
   "source": [
    "from torch.utils.data import Dataset, DataLoader\n",
    "\n",
    "# 定義 Dataset\n",
    "class News(Dataset):\n",
    "    def __init__(self, x, y, tokenizer):\n",
    "        self.x = x\n",
    "        self.y = y\n",
    "        self.tokenizer = tokenizer\n",
    "\n",
    "    def __getitem__(self, index):\n",
    "        return self.x[index], self.y[index]\n",
    "\n",
    "    def __len__(self):\n",
    "        return len(self.x)\n",
    "\n",
    "    def collate_fn(self, batch):    \n",
    "        (x, y) = zip(*batch)\n",
    "        x = self.tokenizer(list(x), max_length=512, truncation=True, padding=\"longest\", return_tensors='pt')\n",
    "        x['labels'] = torch.tensor(y)\n",
    "        return x\n",
    "\n",
    "\n",
    "\n",
    "# 初始化 Dataset\n",
    "trainset = News(x_train, y_train, tokenizer)\n",
    "validset = News(x_valid, y_valid, tokenizer)\n",
    "\n",
    "# 初始化 DataLoader\n",
    "train_loader = DataLoader(trainset, batch_size=32, shuffle=True, num_workers=0, pin_memory=True, collate_fn=trainset.collate_fn)\n",
    "valid_loader = DataLoader(validset, batch_size=32, shuffle=False, num_workers=0, pin_memory=True, collate_fn=validset.collate_fn)"
   ]
  },
  {
   "cell_type": "code",
   "execution_count": 5,
   "id": "613bc868",
   "metadata": {},
   "outputs": [
    {
     "name": "stdout",
     "output_type": "stream",
     "text": [
      "Using device: cuda\n"
     ]
    },
    {
     "name": "stderr",
     "output_type": "stream",
     "text": [
      "Train Epoch 0: 100%|██████████| 1123/1123 [06:01<00:00,  3.11it/s, loss=0.001]\n",
      "Valid Epoch 0: 100%|██████████| 281/281 [00:30<00:00,  9.07it/s, loss=0.001]\n"
     ]
    },
    {
     "name": "stdout",
     "output_type": "stream",
     "text": [
      "Saving Model With Loss 0.00152\n",
      "Train Loss: 0.06083| Valid Loss: 0.00152| Best Loss: 0.00152\n",
      "\n"
     ]
    },
    {
     "name": "stderr",
     "output_type": "stream",
     "text": [
      "Train Epoch 1: 100%|██████████| 1123/1123 [05:59<00:00,  3.12it/s, loss=0.569]\n",
      "Valid Epoch 1: 100%|██████████| 281/281 [00:30<00:00,  9.22it/s, loss=0.295]\n"
     ]
    },
    {
     "name": "stdout",
     "output_type": "stream",
     "text": [
      "Train Loss: 0.13325| Valid Loss: 0.49360| Best Loss: 0.00152\n",
      "\n"
     ]
    },
    {
     "name": "stderr",
     "output_type": "stream",
     "text": [
      "Train Epoch 2: 100%|██████████| 1123/1123 [05:59<00:00,  3.12it/s, loss=0.456]\n",
      "Valid Epoch 2: 100%|██████████| 281/281 [00:30<00:00,  9.24it/s, loss=0.295]\n"
     ]
    },
    {
     "name": "stdout",
     "output_type": "stream",
     "text": [
      "Train Loss: 0.61611| Valid Loss: 0.50382| Best Loss: 0.00152\n",
      "\n"
     ]
    },
    {
     "name": "stderr",
     "output_type": "stream",
     "text": [
      "Train Epoch 3: 100%|██████████| 1123/1123 [05:59<00:00,  3.13it/s, loss=0.372]\n",
      "Valid Epoch 3: 100%|██████████| 281/281 [00:30<00:00,  9.21it/s, loss=0.562]\n"
     ]
    },
    {
     "name": "stdout",
     "output_type": "stream",
     "text": [
      "Train Loss: 0.46823| Valid Loss: 1.38150| Best Loss: 0.00152\n",
      "\n"
     ]
    },
    {
     "name": "stderr",
     "output_type": "stream",
     "text": [
      "Train Epoch 4: 100%|██████████| 1123/1123 [05:58<00:00,  3.13it/s, loss=0.676]\n",
      "Valid Epoch 4: 100%|██████████| 281/281 [00:30<00:00,  9.19it/s, loss=0.688]\n"
     ]
    },
    {
     "name": "stdout",
     "output_type": "stream",
     "text": [
      "Train Loss: 0.56431| Valid Loss: 0.69376| Best Loss: 0.00152\n",
      "\n"
     ]
    },
    {
     "name": "stderr",
     "output_type": "stream",
     "text": [
      "Train Epoch 5: 100%|██████████| 1123/1123 [05:58<00:00,  3.13it/s, loss=0.702]\n",
      "Valid Epoch 5: 100%|██████████| 281/281 [00:30<00:00,  9.21it/s, loss=0.688]\n"
     ]
    },
    {
     "name": "stdout",
     "output_type": "stream",
     "text": [
      "Train Loss: 0.69605| Valid Loss: 0.69469| Best Loss: 0.00152\n",
      "\n",
      "------------------------------------\n",
      "|Model can't improve, stop training|\n",
      "------------------------------------\n"
     ]
    },
    {
     "data": {
      "image/png": "[encoded data removed]",
      "text/plain": [
       "<Figure size 640x480 with 1 Axes>"
      ]
     },
     "metadata": {},
     "output_type": "display_data"
    },
    {
     "name": "stdout",
     "output_type": "stream",
     "text": [
      "Best model loaded from ./checkpoints\\best_model.ckpt\n"
     ]
    }
   ],
   "source": [
    "from Trainer import Trainer\n",
    "import torch.optim as optim\n",
    "from transformers import get_cosine_schedule_with_warmup\n",
    "\n",
    "# 總步數 = epoch 數 * 每個 epoch 的 batch 數\n",
    "num_training_steps = len(train_loader) * 100  # 100 是總 epoch 數\n",
    "num_warmup_steps = int(0.2 * len(train_loader))  # 可調整 warmup 比例\n",
    "\n",
    "optimizer = optim.AdamW(model.parameters(), lr=1e-4)\n",
    "scheduler = get_cosine_schedule_with_warmup(\n",
    "    optimizer,\n",
    "    num_warmup_steps=num_warmup_steps,\n",
    "    num_training_steps=num_training_steps,\n",
    ")\n",
    "trainer = Trainer(\n",
    "    epochs=100,\n",
    "    train_loader=train_loader,\n",
    "    valid_loader=valid_loader,\n",
    "    model=model,\n",
    "    optimizer=optimizer,\n",
    "    scheduler=scheduler,\n",
    "    early_stopping=5,\n",
    "    load_best_model=True,\n",
    "    grad_clip=1.0,\n",
    ")\n",
    "\n",
    "trainer.train(show_loss=True)"
   ]
  },
  {
   "cell_type": "code",
   "execution_count": null,
   "id": "52ab4d7d",
   "metadata": {},
   "outputs": [
    {
     "name": "stderr",
     "output_type": "stream",
     "text": [
      "Evaluating: 100%|██████████| 281/281 [00:30<00:00,  9.16it/s]\n"
     ]
    },
    {
     "name": "stdout",
     "output_type": "stream",
     "text": [
      "              precision    recall  f1-score   support\n",
      "\n",
      "        fake     1.0000    0.9998    0.9999      4620\n",
      "        real     0.9998    1.0000    0.9999      4360\n",
      "\n",
      "    accuracy                         0.9999      8980\n",
      "   macro avg     0.9999    0.9999    0.9999      8980\n",
      "weighted avg     0.9999    0.9999    0.9999      8980\n",
      "\n"
     ]
    },
    {
     "data": {
      "image/png": "[encoded data removed]",
      "text/plain": [
       "<Figure size 800x600 with 2 Axes>"
      ]
     },
     "metadata": {},
     "output_type": "display_data"
    }
   ],
   "source": [
    "from sklearn.metrics import classification_report, confusion_matrix\n",
    "import seaborn as sns\n",
    "import matplotlib.pyplot as plt\n",
    "\n",
    "def evaluate_model(model, data_loader, label_decoding, device=None):\n",
    "    if device is None:\n",
    "        device = torch.device('cuda' if torch.cuda.is_available() else 'cpu')\n",
    "    model.to(device)\n",
    "    \n",
    "    all_preds, all_labels = [], []\n",
    "    for batch in tqdm(data_loader, desc='Evaluating'):\n",
    "        batch = {k: v.to(device) for k, v in batch.items()}\n",
    "        outputs = model(**batch)\n",
    "        logits = outputs.logits\n",
    "        preds = torch.argmax(logits, dim=-1)\n",
    "        all_preds.extend(preds.tolist())\n",
    "        all_labels.extend(batch['labels'].tolist())\n",
    "\n",
    "    # 解碼標籤\n",
    "    decoded_labels = [label_decoding[l] for l in all_labels]\n",
    "    decoded_preds = [label_decoding[p] for p in all_preds]\n",
    "\n",
    "    # 顯示分類報告\n",
    "    print(classification_report(decoded_labels, decoded_preds, digits=4, zero_division=0))\n",
    "\n",
    "    # 繪製混淆矩陣\n",
    "    cm = confusion_matrix(decoded_labels, decoded_preds, labels=list(label_decoding.values()))\n",
    "    plt.figure(figsize=(8, 6))\n",
    "    sns.heatmap(cm, annot=True, fmt='d', cmap='Blues',\n",
    "                xticklabels=label_decoding.values(),\n",
    "                yticklabels=label_decoding.values())\n",
    "    plt.xlabel('Predicted')\n",
    "    plt.ylabel('True')\n",
    "    plt.title('Confusion Matrix')\n",
    "    plt.tight_layout()\n",
    "    plt.show()\n",
    "\n",
    "label_decoding = {1: 'real', 0: 'fake'}\n",
    "evaluate_model(model, valid_loader, label_decoding)"
   ]
  },
  {
   "cell_type": "code",
   "execution_count": null,
   "id": "736dba89",
   "metadata": {},
   "outputs": [],
   "source": []
  }
 ],
 "metadata": {
  "kernelspec": {
   "display_name": "Python 3",
   "language": "python",
   "name": "python3"
  },
  "language_info": {
   "codemirror_mode": {
    "name": "ipython",
    "version": 3
   },
   "file_extension": ".py",
   "mimetype": "text/x-python",
   "name": "python",
   "nbconvert_exporter": "python",
   "pygments_lexer": "ipython3",
   "version": "3.10.7"
  }
 },
 "nbformat": 4,
 "nbformat_minor": 5
}
