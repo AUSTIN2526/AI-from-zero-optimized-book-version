{
 "cells": [
  {
   "cell_type": "code",
   "execution_count": 1,
   "id": "f04192de",
   "metadata": {},
   "outputs": [],
   "source": [
    "import torch.nn as nn\n",
    "\n",
    "max_len = 256\n",
    "num_classes = 2\n",
    "\n",
    "model = nn.Sequential(\n",
    "    nn.Embedding(num_embeddings=10000, embedding_dim=300),\n",
    "    nn.Flatten(),\n",
    "    nn.Linear(300 * max_len, num_classes)\n",
    ")"
   ]
  },
  {
   "cell_type": "code",
   "execution_count": 2,
   "id": "5ecafc1c",
   "metadata": {},
   "outputs": [
    {
     "name": "stdout",
     "output_type": "stream",
     "text": [
      "torch.Size([32, 2])\n"
     ]
    }
   ],
   "source": [
    "import torch\n",
    "import torch.nn as nn\n",
    "\n",
    "class LinearRNN(nn.Module):\n",
    "    def __init__(self, vocab_size, embedding_dim, hidden_dim, output_dim):\n",
    "        super(LinearRNN, self).__init__()\n",
    "        self.embedding = nn.Embedding(vocab_size, embedding_dim)\n",
    "        self.input2hidden = nn.Linear(embedding_dim, hidden_dim)\n",
    "        self.hidden2hidden = nn.Linear(hidden_dim, hidden_dim)\n",
    "        self.fc = nn.Linear(hidden_dim, output_dim)\n",
    "\n",
    "    def forward(self, x):\n",
    "        embedded = self.embedding(x)  # [batch_size, seq_len, embedding_dim]\n",
    "        batch_size, seq_len, _ = embedded.size()\n",
    "\n",
    "        # 初始化 hidden state 為 0\n",
    "        hidden = torch.zeros(batch_size, self.hidden2hidden.out_features, device=x.device)\n",
    "\n",
    "        # 時間步遞迴模擬 RNN\n",
    "        for t in range(seq_len):\n",
    "            x_t = embedded[:, t, :]  # 取出第 t 個時間步的輸入\n",
    "            h_t = torch.tanh(self.input2hidden(x_t) + self.hidden2hidden(hidden))\n",
    "            hidden = h_t  # 更新 hidden state\n",
    "\n",
    "        # 最終時間步的 hidden state 接線性分類\n",
    "        return self.fc(hidden)\n",
    "    \n",
    "model = LinearRNN(vocab_size=1000, embedding_dim=50, hidden_dim=128, output_dim=2)\n",
    "sample_input = torch.randint(0, 1000, (32, 20))  # batch_size=32, seq_len=20\n",
    "output = model(sample_input)\n",
    "print(output.shape)  # [32, 2]"
   ]
  }
 ],
 "metadata": {
  "kernelspec": {
   "display_name": "Python 3",
   "language": "python",
   "name": "python3"
  },
  "language_info": {
   "codemirror_mode": {
    "name": "ipython",
    "version": 3
   },
   "file_extension": ".py",
   "mimetype": "text/x-python",
   "name": "python",
   "nbconvert_exporter": "python",
   "pygments_lexer": "ipython3",
   "version": "3.10.7"
  }
 },
 "nbformat": 4,
 "nbformat_minor": 5
}
