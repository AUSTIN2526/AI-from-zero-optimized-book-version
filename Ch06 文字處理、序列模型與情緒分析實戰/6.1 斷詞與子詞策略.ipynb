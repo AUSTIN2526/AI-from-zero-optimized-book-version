{
 "cells": [
  {
   "cell_type": "code",
   "execution_count": 1,
   "id": "52e917e8",
   "metadata": {},
   "outputs": [
    {
     "name": "stdout",
     "output_type": "stream",
     "text": [
      "['Apple', 'Hello', 'I', 'Python', 'You', 'a', 'am', 'are', 'human', 'language', 'like', 'love', 'natural', 'processing', 'robot']\n"
     ]
    }
   ],
   "source": [
    "# 模擬文本資料\n",
    "english_sentence = [\n",
    "    'I love natural language processing',\n",
    "    'Hello Python',\n",
    "    'I like Apple',\n",
    "    'I am a human',\n",
    "    'You are a robot',\n",
    "]\n",
    "\n",
    "vocab = [] # 分析文本後產生的詞彙表\n",
    "for sentence in english_sentence:\n",
    "\ttokens = sentence.split(' ') # 空白斷詞產生token\n",
    "\tvocab.extend(tokens) \n",
    "\t\n",
    "vocab = sorted(set(vocab)) # 通過set()過濾重複單字，並用sorted()進行排序\n",
    "print(vocab)"
   ]
  },
  {
   "cell_type": "code",
   "execution_count": 2,
   "id": "4354d1c2",
   "metadata": {},
   "outputs": [
    {
     "name": "stdout",
     "output_type": "stream",
     "text": [
      "[14, 0, 0]\n"
     ]
    }
   ],
   "source": [
    "class Tokenizer:\n",
    "    def __init__(self, vocab):\n",
    "        vocab = ['<UNK>'] + vocab # 讓不存在詞彙表的token能夠轉換成<UNK>\n",
    "        self.tokens_to_ids = {token:idx for idx, token in enumerate(vocab)}  # 初始化對應數字的對應表\n",
    "    \n",
    "    def __call__(self, sentence):\n",
    "        words = sentence.split()\n",
    "        unk_token_ids = self.tokens_to_ids['<UNK>']\n",
    "        return [self.tokens_to_ids.get(word, unk_token_ids) for word in words]\n",
    "\n",
    "tokenizer = Tokenizer(vocab) # 初始化類別\n",
    "input_ids = tokenizer('processing & process') # 使用tokenizer\n",
    "print(input_ids) # [14, 0, 0]"
   ]
  },
  {
   "cell_type": "code",
   "execution_count": null,
   "id": "b607886b",
   "metadata": {},
   "outputs": [],
   "source": []
  }
 ],
 "metadata": {
  "kernelspec": {
   "display_name": "Python 3",
   "language": "python",
   "name": "python3"
  },
  "language_info": {
   "codemirror_mode": {
    "name": "ipython",
    "version": 3
   },
   "file_extension": ".py",
   "mimetype": "text/x-python",
   "name": "python",
   "nbconvert_exporter": "python",
   "pygments_lexer": "ipython3",
   "version": "3.10.7"
  }
 },
 "nbformat": 4,
 "nbformat_minor": 5
}
