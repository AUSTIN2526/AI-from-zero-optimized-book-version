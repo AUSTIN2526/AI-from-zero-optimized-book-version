{
 "cells": [
  {
   "cell_type": "code",
   "execution_count": 1,
   "id": "52e917e8",
   "metadata": {},
   "outputs": [],
   "source": [
    "import torch \n",
    "import numpy as np \n",
    "import random \n",
    "\n",
    "def same_seeds(seed):\n",
    "    random.seed(seed) \n",
    "    np.random.seed(seed)  \n",
    "    torch.manual_seed(seed)\n",
    "    if torch.cuda.is_available():\n",
    "        torch.cuda.manual_seed(seed)\n",
    "        torch.cuda.manual_seed_all(seed) \n",
    "    torch.backends.cudnn.benchmark = False\n",
    "    torch.backends.cudnn.deterministic = True\n",
    "    \n",
    "same_seeds(2526)"
   ]
  },
  {
   "cell_type": "markdown",
   "id": "ea6827ca",
   "metadata": {},
   "source": [
    "## 讀檔"
   ]
  },
  {
   "cell_type": "code",
   "execution_count": 2,
   "id": "1a8ec9b0",
   "metadata": {},
   "outputs": [
    {
     "name": "stdout",
     "output_type": "stream",
     "text": [
      "Original labels:\n",
      " ['positive' 'positive' 'positive' ... 'negative' 'negative' 'negative']\n",
      "\n",
      "Converted labels:\n",
      " [1. 1. 1. ... 0. 0. 0.]\n"
     ]
    }
   ],
   "source": [
    "import pandas as pd\n",
    "from sklearn.model_selection import train_test_split\n",
    "\n",
    "def load_and_process_data(filepath, test_size = 0.2, random_state = 42):\n",
    "    df = pd.read_csv(filepath)\n",
    "    reviews = df['review'].values\n",
    "    sentiments_raw = df['sentiment'].values\n",
    "    sentiments = (sentiments_raw == 'positive').astype('float32')\n",
    "    print('Original labels:\\n', sentiments_raw, end = '\\n\\n')\n",
    "    print('Converted labels:\\n', sentiments)\n",
    "\n",
    "    train_texts, valid_texts, train_labels, valid_labels = train_test_split(\n",
    "        reviews, sentiments, test_size = test_size, random_state = random_state\n",
    "    )\n",
    "\n",
    "    return train_texts, valid_texts, train_labels, valid_labels, sentiments\n",
    "\n",
    "train_texts, valid_texts, train_labels, valid_labels, sentiments = load_and_process_data('sentimentData/IMDB Dataset.csv')\n"
   ]
  },
  {
   "cell_type": "markdown",
   "id": "73991ec5",
   "metadata": {},
   "source": [
    "## 創建資料集"
   ]
  },
  {
   "cell_type": "code",
   "execution_count": 3,
   "id": "543ce9b7",
   "metadata": {},
   "outputs": [
    {
     "name": "stderr",
     "output_type": "stream",
     "text": [
      "c:\\Users\\user\\AppData\\Local\\Programs\\Python\\Python310\\lib\\site-packages\\tqdm\\auto.py:21: TqdmWarning: IProgress not found. Please update jupyter and ipywidgets. See https://ipywidgets.readthedocs.io/en/stable/user_install.html\n",
      "  from .autonotebook import tqdm as notebook_tqdm\n"
     ]
    }
   ],
   "source": [
    "from transformers import BertTokenizer\n",
    "from torch.utils.data import Dataset, DataLoader\n",
    "import torch\n",
    "\n",
    "class IMDB(Dataset):\n",
    "    def __init__(self, x, y, tokenizer):\n",
    "        self.x = x\n",
    "        self.y = y\n",
    "        self.tokenizer = tokenizer\n",
    "          \n",
    "    def __getitem__(self, index):\n",
    "        return self.x[index], self.y[index]\n",
    "       \n",
    "    def __len__(self):\n",
    "        return len(self.x)\n",
    "    \n",
    "    def collate_fn(self, batch):\n",
    "        x, y = zip(*batch)\n",
    "        encodings = self.tokenizer(x, padding=True, truncation=True, max_length=256, return_tensors='pt')\n",
    "        encodings['labels'] = torch.tensor(y)\n",
    "        return encodings\n",
    "\n",
    "tokenizer = BertTokenizer.from_pretrained('bert-base-uncased')\n",
    "\n",
    "trainset = IMDB(train_texts, train_labels, tokenizer)\n",
    "validset = IMDB(valid_texts, valid_labels, tokenizer)\n",
    "\n",
    "train_loader = DataLoader(\n",
    "    trainset,\n",
    "    batch_size = 64,\n",
    "    shuffle = True,\n",
    "    num_workers = 0,\n",
    "    pin_memory = True,\n",
    "    collate_fn = trainset.collate_fn\n",
    ")\n",
    "\n",
    "valid_loader = DataLoader(\n",
    "    validset,\n",
    "    batch_size = 64,\n",
    "    shuffle = False,\n",
    "    num_workers = 0,\n",
    "    pin_memory = True,\n",
    "    collate_fn = validset.collate_fn\n",
    ")"
   ]
  },
  {
   "cell_type": "code",
   "execution_count": null,
   "id": "6d7b2ac2",
   "metadata": {},
   "outputs": [],
   "source": [
    "    import torch\n",
    "    import torch.nn as nn\n",
    "    import torch.optim as optim\n",
    "    from torch.nn.utils.rnn import pack_padded_sequence, pad_packed_sequence\n",
    "\n",
    "    class GRU(nn.Module):\n",
    "        def __init__(self, embedding_dim, hidden_size, input_dim, pad_idx, num_layers, bidirectional):\n",
    "            super(GRU, self).__init__()\n",
    "            self.embedding = nn.Embedding(input_dim, embedding_dim, padding_idx = pad_idx)\n",
    "            self.gru = nn.GRU(\n",
    "                input_size = embedding_dim,\n",
    "                hidden_size = hidden_size,\n",
    "                num_layers = num_layers,\n",
    "                batch_first = True,\n",
    "                bidirectional = bidirectional\n",
    "            )\n",
    "            self.fc = nn.Linear(hidden_size * 2 if bidirectional else hidden_size, hidden_size)\n",
    "            self.classifier = nn.Linear(hidden_size, 1)\n",
    "            self.criterion = nn.BCEWithLogitsLoss()\n",
    "            self.pad_idx = pad_idx\n",
    "            self.sigmoid = nn.Sigmoid()\n",
    "\n",
    "        def forward(self, **kwargs):\n",
    "            input_ids = kwargs[\"input_ids\"]\n",
    "            attention_mask = kwargs[\"attention_mask\"]\n",
    "            labels = kwargs[\"labels\"]\n",
    "            lengths = attention_mask.sum(dim = 1)\n",
    "\n",
    "            embedded = self.embedding(input_ids)\n",
    "            packed_embedded = pack_padded_sequence(embedded, lengths.cpu(), batch_first = True, enforce_sorted = False)\n",
    "            packed_output, hidden = self.gru(packed_embedded)\n",
    "            output, _ = pad_packed_sequence(packed_output, batch_first = True)\n",
    "\n",
    "            if self.gru.bidirectional:\n",
    "                hidden = torch.cat((hidden[-2], hidden[-1]), dim = 1)\n",
    "            else:\n",
    "                hidden = hidden[-1]\n",
    "\n",
    "            output = self.fc(hidden)\n",
    "            logits = self.classifier(output).squeeze(1)\n",
    "            loss = self.criterion(logits, labels.float())\n",
    "\n",
    "            return loss, logits\n",
    "\n",
    "        def predict(self, **kwargs):\n",
    "            self.eval()\n",
    "            with torch.no_grad():\n",
    "                input_ids = kwargs[\"input_ids\"]\n",
    "                attention_mask = kwargs[\"attention_mask\"]\n",
    "                lengths = attention_mask.sum(dim = 1)\n",
    "\n",
    "                embedded = self.embedding(input_ids)\n",
    "                packed_embedded = pack_padded_sequence(embedded, lengths.cpu(), batch_first = True, enforce_sorted = False)\n",
    "                packed_output, hidden = self.gru(packed_embedded)\n",
    "                output, _ = pad_packed_sequence(packed_output, batch_first = True)\n",
    "\n",
    "                if self.gru.bidirectional:\n",
    "                    hidden = torch.cat((hidden[-2], hidden[-1]), dim = 1)\n",
    "                else:\n",
    "                    hidden = hidden[-1]\n",
    "\n",
    "                output = self.fc(hidden)\n",
    "                logits = self.classifier(output).squeeze(1)\n",
    "\n",
    "                probs = self.sigmoid(logits)\n",
    "                preds = (probs >= 0.5).long()\n",
    "\n",
    "                return preds\n",
    "\n",
    "\n",
    "    model = GRU(\n",
    "        embedding_dim = 128,\n",
    "        hidden_size = 256,\n",
    "        input_dim = tokenizer.vocab_size,\n",
    "        pad_idx = tokenizer.pad_token_id,\n",
    "        num_layers = 1,\n",
    "        bidirectional = True\n",
    "    )"
   ]
  },
  {
   "cell_type": "code",
   "execution_count": 5,
   "id": "8f1cded5",
   "metadata": {},
   "outputs": [
    {
     "name": "stdout",
     "output_type": "stream",
     "text": [
      "Using device: cuda\n"
     ]
    },
    {
     "name": "stderr",
     "output_type": "stream",
     "text": [
      "Train Epoch 0: 100%|██████████| 625/625 [03:07<00:00,  3.33it/s, loss=0.301]\n",
      "Valid Epoch 0: 100%|██████████| 157/157 [00:44<00:00,  3.57it/s, loss=0.403]\n"
     ]
    },
    {
     "name": "stdout",
     "output_type": "stream",
     "text": [
      "Saving Model With Loss 0.35010\n",
      "Train Loss: 0.56697| Valid Loss: 0.35010| Best Loss: 0.35010\n",
      "\n"
     ]
    },
    {
     "name": "stderr",
     "output_type": "stream",
     "text": [
      "Train Epoch 1: 100%|██████████| 625/625 [03:36<00:00,  2.89it/s, loss=0.264]\n",
      "Valid Epoch 1: 100%|██████████| 157/157 [00:40<00:00,  3.92it/s, loss=0.341]\n"
     ]
    },
    {
     "name": "stdout",
     "output_type": "stream",
     "text": [
      "Saving Model With Loss 0.27443\n",
      "Train Loss: 0.29192| Valid Loss: 0.27443| Best Loss: 0.27443\n",
      "\n"
     ]
    },
    {
     "name": "stderr",
     "output_type": "stream",
     "text": [
      "Train Epoch 2: 100%|██████████| 625/625 [03:02<00:00,  3.42it/s, loss=0.208]\n",
      "Valid Epoch 2: 100%|██████████| 157/157 [00:40<00:00,  3.86it/s, loss=0.337]\n"
     ]
    },
    {
     "name": "stdout",
     "output_type": "stream",
     "text": [
      "Train Loss: 0.19585| Valid Loss: 0.28556| Best Loss: 0.27443\n",
      "\n"
     ]
    },
    {
     "name": "stderr",
     "output_type": "stream",
     "text": [
      "Train Epoch 3: 100%|██████████| 625/625 [03:18<00:00,  3.14it/s, loss=0.098]\n",
      "Valid Epoch 3: 100%|██████████| 157/157 [00:41<00:00,  3.78it/s, loss=0.460]\n"
     ]
    },
    {
     "name": "stdout",
     "output_type": "stream",
     "text": [
      "Train Loss: 0.11428| Valid Loss: 0.32471| Best Loss: 0.27443\n",
      "\n"
     ]
    },
    {
     "name": "stderr",
     "output_type": "stream",
     "text": [
      "Train Epoch 4: 100%|██████████| 625/625 [03:22<00:00,  3.09it/s, loss=0.093]\n",
      "Valid Epoch 4: 100%|██████████| 157/157 [00:41<00:00,  3.74it/s, loss=0.588]\n"
     ]
    },
    {
     "name": "stdout",
     "output_type": "stream",
     "text": [
      "Train Loss: 0.04751| Valid Loss: 0.47351| Best Loss: 0.27443\n",
      "\n"
     ]
    },
    {
     "name": "stderr",
     "output_type": "stream",
     "text": [
      "Train Epoch 5: 100%|██████████| 625/625 [03:26<00:00,  3.03it/s, loss=0.052]\n",
      "Valid Epoch 5: 100%|██████████| 157/157 [00:41<00:00,  3.74it/s, loss=0.282]\n"
     ]
    },
    {
     "name": "stdout",
     "output_type": "stream",
     "text": [
      "Train Loss: 0.01897| Valid Loss: 0.65168| Best Loss: 0.27443\n",
      "\n"
     ]
    },
    {
     "name": "stderr",
     "output_type": "stream",
     "text": [
      "Train Epoch 6: 100%|██████████| 625/625 [03:15<00:00,  3.20it/s, loss=0.053]\n",
      "Valid Epoch 6: 100%|██████████| 157/157 [00:41<00:00,  3.74it/s, loss=0.843]\n"
     ]
    },
    {
     "name": "stdout",
     "output_type": "stream",
     "text": [
      "Train Loss: 0.01648| Valid Loss: 0.71814| Best Loss: 0.27443\n",
      "\n",
      "------------------------------------\n",
      "|Model can't improve, stop training|\n",
      "------------------------------------\n"
     ]
    },
    {
     "data": {
      "image/png": "[encoded data removed]",
      "text/plain": [
       "<Figure size 640x480 with 1 Axes>"
      ]
     },
     "metadata": {},
     "output_type": "display_data"
    },
    {
     "name": "stdout",
     "output_type": "stream",
     "text": [
      "Best model loaded from ./checkpoints\\best_model.ckpt\n"
     ]
    }
   ],
   "source": [
    "from Trainer import Trainer\n",
    "import torch.optim as optim \n",
    "optimizer = optim.Adam(model.parameters(), lr = 1e-3)\n",
    "trainer = Trainer(\n",
    "    epochs=100,\n",
    "    train_loader=train_loader,\n",
    "    valid_loader=valid_loader,\n",
    "    model=model,\n",
    "    optimizer=optimizer,\n",
    "    early_stopping=5,\n",
    "    load_best_model=True,\n",
    "    grad_clip=1.0,\n",
    ")\n",
    "\n",
    "trainer.train(show_loss=True)"
   ]
  },
  {
   "cell_type": "code",
   "execution_count": 6,
   "id": "5662c491",
   "metadata": {},
   "outputs": [
    {
     "name": "stderr",
     "output_type": "stream",
     "text": [
      "Evaluating: 100%|██████████| 157/157 [00:41<00:00,  3.76it/s]\n"
     ]
    },
    {
     "name": "stdout",
     "output_type": "stream",
     "text": [
      "              precision    recall  f1-score   support\n",
      "\n",
      "    negative     0.8659    0.9032    0.8842      4961\n",
      "    positive     0.9005    0.8623    0.8810      5039\n",
      "\n",
      "    accuracy                         0.8826     10000\n",
      "   macro avg     0.8832    0.8828    0.8826     10000\n",
      "weighted avg     0.8833    0.8826    0.8826     10000\n",
      "\n"
     ]
    },
    {
     "data": {
      "image/png": "[encoded data removed]",
      "text/plain": [
       "<Figure size 800x600 with 2 Axes>"
      ]
     },
     "metadata": {},
     "output_type": "display_data"
    }
   ],
   "source": [
    "import torch\n",
    "from tqdm import tqdm\n",
    "from sklearn.metrics import classification_report, confusion_matrix\n",
    "import seaborn as sns\n",
    "import matplotlib.pyplot as plt\n",
    "\n",
    "def evaluate_model(model, data_loader, label_decoding, device=None):\n",
    "    if device is None:\n",
    "        device = torch.device('cuda' if torch.cuda.is_available() else 'cpu')\n",
    "    model.to(device)\n",
    "    \n",
    "    all_preds, all_labels = [], []\n",
    "    for batch in tqdm(data_loader, desc='Evaluating'):\n",
    "        batch = {k: v.to(device) for k, v in batch.items()}\n",
    "        preds = model.predict(**batch)\n",
    "        all_preds.extend(preds.tolist())\n",
    "        all_labels.extend(batch['labels'].tolist())\n",
    "\n",
    "    # 解碼標籤\n",
    "    decoded_labels = [label_decoding[l] for l in all_labels]\n",
    "    decoded_preds = [label_decoding[p] for p in all_preds]\n",
    "\n",
    "    # 顯示分類報告\n",
    "    print(classification_report(decoded_labels, decoded_preds, digits=4, zero_division=0))\n",
    "\n",
    "    # 繪製混淆矩陣\n",
    "    cm = confusion_matrix(decoded_labels, decoded_preds, labels=list(label_decoding.values()))\n",
    "    plt.figure(figsize=(8, 6))\n",
    "    sns.heatmap(cm, annot=True, fmt='d', cmap='Blues',\n",
    "                xticklabels=label_decoding.values(),\n",
    "                yticklabels=label_decoding.values())\n",
    "    plt.xlabel('Predicted')\n",
    "    plt.ylabel('True')\n",
    "    plt.title('Confusion Matrix')\n",
    "    plt.tight_layout()\n",
    "    plt.show()\n",
    "\n",
    "label_decoding = {1: 'positive', 0: 'negative'}\n",
    "evaluate_model(model, valid_loader, label_decoding)\n"
   ]
  },
  {
   "cell_type": "code",
   "execution_count": 7,
   "id": "1647c642",
   "metadata": {},
   "outputs": [
    {
     "name": "stdout",
     "output_type": "stream",
     "text": [
      "Text: This movie was absolutely fantastic and I loved every part of it!\n",
      "Label: positive\n",
      "\n",
      "Text: The film was boring and I wouldn't recommend it to anyone.\n",
      "Label: negative\n",
      "\n"
     ]
    }
   ],
   "source": [
    "def infer_text_labels(texts):\n",
    "    device = torch.device('cuda' if torch.cuda.is_available() else 'cpu')\n",
    "    tokens = tokenizer(texts, padding = 'max_length', truncation = True, max_length = 256, return_tensors = 'pt')\n",
    "    tokens = {k: v.to(device) for k, v in tokens.items()}\n",
    "\n",
    "    model.to(device)\n",
    "    model.eval()\n",
    "    with torch.no_grad():\n",
    "        preds = model.predict(**tokens)\n",
    "\n",
    "    labels = [label_decoding[int(p)] for p in preds]\n",
    "\n",
    "    for text, label in zip(texts, labels):\n",
    "        print(f\"Text: {text}\\nLabel: {label}\\n\")\n",
    "\n",
    "texts = [\n",
    "    \"This movie was absolutely fantastic and I loved every part of it!\",\n",
    "    \"The film was boring and I wouldn't recommend it to anyone.\"\n",
    "]\n",
    "\n",
    "infer_text_labels(texts)"
   ]
  },
  {
   "cell_type": "code",
   "execution_count": null,
   "id": "845cc567",
   "metadata": {},
   "outputs": [],
   "source": []
  },
  {
   "cell_type": "code",
   "execution_count": null,
   "id": "d95e873b",
   "metadata": {},
   "outputs": [],
   "source": []
  },
  {
   "cell_type": "code",
   "execution_count": null,
   "id": "5ace0044",
   "metadata": {},
   "outputs": [],
   "source": []
  }
 ],
 "metadata": {
  "kernelspec": {
   "display_name": "Python 3",
   "language": "python",
   "name": "python3"
  },
  "language_info": {
   "codemirror_mode": {
    "name": "ipython",
    "version": 3
   },
   "file_extension": ".py",
   "mimetype": "text/x-python",
   "name": "python",
   "nbconvert_exporter": "python",
   "pygments_lexer": "ipython3",
   "version": "3.10.7"
  }
 },
 "nbformat": 4,
 "nbformat_minor": 5
}
